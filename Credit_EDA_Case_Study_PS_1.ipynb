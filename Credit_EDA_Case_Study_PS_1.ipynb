{
 "cells": [
  {
   "cell_type": "markdown",
   "metadata": {},
   "source": [
    "#  CREDIT EDA CASE STUDY\n",
    "\n",
    "\n",
    "### Business Case :\n",
    "\n",
    "The loan providing companies find it hard to give loans to the people due to their insufficient or non-existent credit history. Because of that, some consumers use it as their advantage by becoming a defaulter. Suppose you work for a consumer finance company which specialises in lending various types of loans to urban customers.\n",
    "\n",
    "Use EDA to analyse the patterns present in the data. This will ensure that the applicants capable of repaying the loan are not rejected.\n",
    "\n",
    "When the company receives a loan application, the company has to decide for loan approval based on the applicant’s profile. Two types of risks are associated with the bank’s decision:\n",
    "\n",
    "* If the applicant is likely to repay the loan, then not approving the loan results in a loss of business to the company\n",
    "\n",
    "* If the applicant is not likely to repay the loan, i.e. he/she is likely to default, then approving the loan may lead to a financial loss for the company.\n"
   ]
  },
  {
   "cell_type": "markdown",
   "metadata": {},
   "source": [
    "## Understanding the Data :\n",
    "\n",
    "The data given below contains the information about the loan application at the time of applying for the loan. It contains two types of scenarios:\n",
    "\n",
    "* The client with payment difficulties: he/she had late payment more than X days on at least one of the first Y instalments of the loan in our sample,\n",
    "\n",
    "* All other cases: All other cases when the payment is paid on time."
   ]
  },
  {
   "cell_type": "markdown",
   "metadata": {},
   "source": [
    "### Possible OutComes\n",
    "\n",
    "When a client applies for a loan, there are four types of decisions that could be taken by the client/company):\n",
    "\n",
    "1. Approved: The Company has approved loan Application\n",
    "\n",
    "2. Cancelled: The client cancelled the application sometime during approval. Either the client changed her/his mind about the loan or in some cases due to a higher risk of the client he received worse pricing which he did not want.\n",
    "\n",
    "3. Refused: The company had rejected the loan (because the client does not meet their requirements etc.).\n",
    "\n",
    "4. Unused offer:  Loan has been cancelled by the client but on different stages of the process.\n",
    "\n",
    "Need to use EDA to understand how consumer attributes and loan attributes influence the tendency of default.\n"
   ]
  },
  {
   "cell_type": "markdown",
   "metadata": {},
   "source": [
    "## Business Objective\n",
    "\n",
    "\n",
    "This case study aims to identify patterns which indicate if a client has difficulty paying their installments which may be used for taking actions such as denying the loan, reducing the amount of loan, lending (to risky applicants) at a higher interest rate, etc. This will ensure that the consumers capable of repaying the loan are not rejected. Identification of such applicants using EDA is the aim of this case study.\n",
    "\n",
    " \n",
    "\n",
    "In other words, the company wants to understand the driving factors (or driver variables) behind loan default, i.e. the variables which are strong indicators of default.  The company can utilise this knowledge for its portfolio and risk assessment.\n",
    "\n",
    "To develop your understanding of the domain, you are advised to independently research a little about risk analytics - understanding the types of variables and their significance should be enough).\n",
    "\n",
    " \n"
   ]
  },
  {
   "cell_type": "markdown",
   "metadata": {},
   "source": [
    "##  About the data\n",
    "\n",
    "\n",
    "1. 'application_data.csv'  contains all the information of the client at the time of application.\n",
    "The data is about whether a client has payment difficulties.\n",
    "\n",
    " \n",
    "\n",
    "2. 'previous_application.csv' contains information about the client’s previous loan data. It contains the data whether the previous application had been Approved, Cancelled, Refused or Unused offer.\n",
    "\n",
    " \n",
    "\n",
    "3. 'columns_description.csv' is data dictionary which describes the meaning of the variables."
   ]
  },
  {
   "cell_type": "markdown",
   "metadata": {},
   "source": [
    "###### Supressing warnings"
   ]
  },
  {
   "cell_type": "code",
   "execution_count": 1,
   "metadata": {},
   "outputs": [],
   "source": [
    "import warnings\n",
    "warnings.filterwarnings('ignore')"
   ]
  },
  {
   "cell_type": "markdown",
   "metadata": {},
   "source": [
    "#### Importing Required Libraries :"
   ]
  },
  {
   "cell_type": "code",
   "execution_count": 2,
   "metadata": {},
   "outputs": [],
   "source": [
    "import pandas as pd\n",
    "import numpy as np\n",
    "import matplotlib.pyplot as plt\n",
    "import seaborn as sns\n",
    "import scipy as sp"
   ]
  },
  {
   "cell_type": "markdown",
   "metadata": {},
   "source": [
    "#### Changing display formats"
   ]
  },
  {
   "cell_type": "code",
   "execution_count": 3,
   "metadata": {},
   "outputs": [],
   "source": [
    "pd.set_option('display.max_columns', None)\n",
    "pd.set_option('display.max_rows', 200)\n",
    "pd.set_option('display.float_format', lambda x: '%.5f' % x)"
   ]
  },
  {
   "cell_type": "code",
   "execution_count": 4,
   "metadata": {},
   "outputs": [],
   "source": [
    "about = pd.read_csv('columns_description.csv',encoding='iso-8859-1')"
   ]
  },
  {
   "cell_type": "markdown",
   "metadata": {},
   "source": [
    "`application_data.csv` contains all the information of the client at the time of application. The data is about whether a client has payment difficulties."
   ]
  },
  {
   "cell_type": "code",
   "execution_count": 6,
   "metadata": {},
   "outputs": [],
   "source": [
    "data_application = pd.read_csv('application_data.csv')"
   ]
  },
  {
   "cell_type": "code",
   "execution_count": 7,
   "metadata": {},
   "outputs": [
    {
     "data": {
      "text/plain": [
       "(307511, 122)"
      ]
     },
     "execution_count": 7,
     "metadata": {},
     "output_type": "execute_result"
    }
   ],
   "source": [
    "data_application.shape"
   ]
  },
  {
   "cell_type": "markdown",
   "metadata": {},
   "source": [
    "### CHECKING Info on the data loaded"
   ]
  },
  {
   "cell_type": "code",
   "execution_count": 94,
   "metadata": {},
   "outputs": [
    {
     "name": "stdout",
     "output_type": "stream",
     "text": [
      "<class 'pandas.core.frame.DataFrame'>\n",
      "Int64Index: 307499 entries, 0 to 307510\n",
      "Data columns (total 122 columns):\n",
      " #   Column                        Non-Null Count   Dtype  \n",
      "---  ------                        --------------   -----  \n",
      " 0   SK_ID_CURR                    307499 non-null  int64  \n",
      " 1   TARGET                        307499 non-null  int64  \n",
      " 2   NAME_CONTRACT_TYPE            307499 non-null  object \n",
      " 3   CODE_GENDER                   307499 non-null  object \n",
      " 4   FLAG_OWN_CAR                  307499 non-null  object \n",
      " 5   FLAG_OWN_REALTY               307499 non-null  object \n",
      " 6   CNT_CHILDREN                  307499 non-null  int64  \n",
      " 7   AMT_INCOME_TOTAL              307499 non-null  float64\n",
      " 8   AMT_CREDIT                    307499 non-null  float64\n",
      " 9   AMT_ANNUITY                   307499 non-null  float64\n",
      " 10  AMT_GOODS_PRICE               307499 non-null  float64\n",
      " 11  NAME_TYPE_SUITE               307499 non-null  object \n",
      " 12  NAME_INCOME_TYPE              307499 non-null  object \n",
      " 13  NAME_EDUCATION_TYPE           307499 non-null  object \n",
      " 14  NAME_FAMILY_STATUS            307499 non-null  object \n",
      " 15  NAME_HOUSING_TYPE             307499 non-null  object \n",
      " 16  REGION_POPULATION_RELATIVE    307499 non-null  float64\n",
      " 17  DAYS_BIRTH                    307499 non-null  int64  \n",
      " 18  DAYS_EMPLOYED                 307499 non-null  int64  \n",
      " 19  DAYS_REGISTRATION             307499 non-null  float64\n",
      " 20  DAYS_ID_PUBLISH               307499 non-null  int64  \n",
      " 21  OWN_CAR_AGE                   307499 non-null  float64\n",
      " 22  FLAG_MOBIL                    307499 non-null  int64  \n",
      " 23  FLAG_EMP_PHONE                307499 non-null  int64  \n",
      " 24  FLAG_WORK_PHONE               307499 non-null  int64  \n",
      " 25  FLAG_CONT_MOBILE              307499 non-null  int64  \n",
      " 26  FLAG_PHONE                    307499 non-null  int64  \n",
      " 27  FLAG_EMAIL                    307499 non-null  int64  \n",
      " 28  OCCUPATION_TYPE               307499 non-null  object \n",
      " 29  CNT_FAM_MEMBERS               307499 non-null  float64\n",
      " 30  REGION_RATING_CLIENT          307499 non-null  int64  \n",
      " 31  REGION_RATING_CLIENT_W_CITY   307499 non-null  int64  \n",
      " 32  WEEKDAY_APPR_PROCESS_START    307499 non-null  object \n",
      " 33  HOUR_APPR_PROCESS_START       307499 non-null  int64  \n",
      " 34  REG_REGION_NOT_LIVE_REGION    307499 non-null  int64  \n",
      " 35  REG_REGION_NOT_WORK_REGION    307499 non-null  int64  \n",
      " 36  LIVE_REGION_NOT_WORK_REGION   307499 non-null  int64  \n",
      " 37  REG_CITY_NOT_LIVE_CITY        307499 non-null  int64  \n",
      " 38  REG_CITY_NOT_WORK_CITY        307499 non-null  int64  \n",
      " 39  LIVE_CITY_NOT_WORK_CITY       307499 non-null  int64  \n",
      " 40  ORGANIZATION_TYPE             307499 non-null  object \n",
      " 41  EXT_SOURCE_1                  134125 non-null  float64\n",
      " 42  EXT_SOURCE_2                  306839 non-null  float64\n",
      " 43  EXT_SOURCE_3                  246535 non-null  float64\n",
      " 44  APARTMENTS_AVG                151444 non-null  float64\n",
      " 45  BASEMENTAREA_AVG              127565 non-null  float64\n",
      " 46  YEARS_BEGINEXPLUATATION_AVG   157498 non-null  float64\n",
      " 47  YEARS_BUILD_AVG               103020 non-null  float64\n",
      " 48  COMMONAREA_AVG                92643 non-null   float64\n",
      " 49  ELEVATORS_AVG                 143614 non-null  float64\n",
      " 50  ENTRANCES_AVG                 152677 non-null  float64\n",
      " 51  FLOORSMAX_AVG                 154485 non-null  float64\n",
      " 52  FLOORSMIN_AVG                 98866 non-null   float64\n",
      " 53  LANDAREA_AVG                  124918 non-null  float64\n",
      " 54  LIVINGAPARTMENTS_AVG          97309 non-null   float64\n",
      " 55  LIVINGAREA_AVG                153155 non-null  float64\n",
      " 56  NONLIVINGAPARTMENTS_AVG       93994 non-null   float64\n",
      " 57  NONLIVINGAREA_AVG             137823 non-null  float64\n",
      " 58  APARTMENTS_MODE               151444 non-null  float64\n",
      " 59  BASEMENTAREA_MODE             127565 non-null  float64\n",
      " 60  YEARS_BEGINEXPLUATATION_MODE  157498 non-null  float64\n",
      " 61  YEARS_BUILD_MODE              103020 non-null  float64\n",
      " 62  COMMONAREA_MODE               92643 non-null   float64\n",
      " 63  ELEVATORS_MODE                143614 non-null  float64\n",
      " 64  ENTRANCES_MODE                152677 non-null  float64\n",
      " 65  FLOORSMAX_MODE                154485 non-null  float64\n",
      " 66  FLOORSMIN_MODE                98866 non-null   float64\n",
      " 67  LANDAREA_MODE                 124918 non-null  float64\n",
      " 68  LIVINGAPARTMENTS_MODE         97309 non-null   float64\n",
      " 69  LIVINGAREA_MODE               153155 non-null  float64\n",
      " 70  NONLIVINGAPARTMENTS_MODE      93994 non-null   float64\n",
      " 71  NONLIVINGAREA_MODE            137823 non-null  float64\n",
      " 72  APARTMENTS_MEDI               151444 non-null  float64\n",
      " 73  BASEMENTAREA_MEDI             127565 non-null  float64\n",
      " 74  YEARS_BEGINEXPLUATATION_MEDI  157498 non-null  float64\n",
      " 75  YEARS_BUILD_MEDI              103020 non-null  float64\n",
      " 76  COMMONAREA_MEDI               92643 non-null   float64\n",
      " 77  ELEVATORS_MEDI                143614 non-null  float64\n",
      " 78  ENTRANCES_MEDI                152677 non-null  float64\n",
      " 79  FLOORSMAX_MEDI                154485 non-null  float64\n",
      " 80  FLOORSMIN_MEDI                98866 non-null   float64\n",
      " 81  LANDAREA_MEDI                 124918 non-null  float64\n",
      " 82  LIVINGAPARTMENTS_MEDI         97309 non-null   float64\n",
      " 83  LIVINGAREA_MEDI               153155 non-null  float64\n",
      " 84  NONLIVINGAPARTMENTS_MEDI      93994 non-null   float64\n",
      " 85  NONLIVINGAREA_MEDI            137823 non-null  float64\n",
      " 86  FONDKAPREMONT_MODE            97213 non-null   object \n",
      " 87  HOUSETYPE_MODE                153208 non-null  object \n",
      " 88  TOTALAREA_MODE                159074 non-null  float64\n",
      " 89  WALLSMATERIAL_MODE            151164 non-null  object \n",
      " 90  EMERGENCYSTATE_MODE           161750 non-null  object \n",
      " 91  OBS_30_CNT_SOCIAL_CIRCLE      306478 non-null  float64\n",
      " 92  DEF_30_CNT_SOCIAL_CIRCLE      306478 non-null  float64\n",
      " 93  OBS_60_CNT_SOCIAL_CIRCLE      306478 non-null  float64\n",
      " 94  DEF_60_CNT_SOCIAL_CIRCLE      306478 non-null  float64\n",
      " 95  DAYS_LAST_PHONE_CHANGE        307498 non-null  float64\n",
      " 96  FLAG_DOCUMENT_2               307499 non-null  int64  \n",
      " 97  FLAG_DOCUMENT_3               307499 non-null  int64  \n",
      " 98  FLAG_DOCUMENT_4               307499 non-null  int64  \n",
      " 99  FLAG_DOCUMENT_5               307499 non-null  int64  \n",
      " 100 FLAG_DOCUMENT_6               307499 non-null  int64  \n",
      " 101 FLAG_DOCUMENT_7               307499 non-null  int64  \n",
      " 102 FLAG_DOCUMENT_8               307499 non-null  int64  \n",
      " 103 FLAG_DOCUMENT_9               307499 non-null  int64  \n",
      " 104 FLAG_DOCUMENT_10              307499 non-null  int64  \n",
      " 105 FLAG_DOCUMENT_11              307499 non-null  int64  \n",
      " 106 FLAG_DOCUMENT_12              307499 non-null  int64  \n",
      " 107 FLAG_DOCUMENT_13              307499 non-null  int64  \n",
      " 108 FLAG_DOCUMENT_14              307499 non-null  int64  \n",
      " 109 FLAG_DOCUMENT_15              307499 non-null  int64  \n",
      " 110 FLAG_DOCUMENT_16              307499 non-null  int64  \n",
      " 111 FLAG_DOCUMENT_17              307499 non-null  int64  \n",
      " 112 FLAG_DOCUMENT_18              307499 non-null  int64  \n",
      " 113 FLAG_DOCUMENT_19              307499 non-null  int64  \n",
      " 114 FLAG_DOCUMENT_20              307499 non-null  int64  \n",
      " 115 FLAG_DOCUMENT_21              307499 non-null  int64  \n",
      " 116 AMT_REQ_CREDIT_BUREAU_HOUR    265981 non-null  float64\n",
      " 117 AMT_REQ_CREDIT_BUREAU_DAY     265981 non-null  float64\n",
      " 118 AMT_REQ_CREDIT_BUREAU_WEEK    265981 non-null  float64\n",
      " 119 AMT_REQ_CREDIT_BUREAU_MON     265981 non-null  float64\n",
      " 120 AMT_REQ_CREDIT_BUREAU_QRT     265981 non-null  float64\n",
      " 121 AMT_REQ_CREDIT_BUREAU_YEAR    265981 non-null  float64\n",
      "dtypes: float64(65), int64(41), object(16)\n",
      "memory usage: 298.6+ MB\n"
     ]
    }
   ],
   "source": [
    "data_application.info(verbose=True, null_counts=True)"
   ]
  },
  {
   "cell_type": "markdown",
   "metadata": {},
   "source": [
    "# DATA UNDERSTANDING AND PREPARATION"
   ]
  },
  {
   "cell_type": "markdown",
   "metadata": {},
   "source": [
    "#### Checking for percentage of null values \n",
    "\n",
    "This analysis will yeild information about the data in following ways :\n",
    "* We'll use this to identify what kind of data is missing, and whether its valid or not.\n",
    "* Some columns based on their description if its less likely to derive `TARGET` feature, we'll just remove if null percentage is high. Threshold for such columns would be 45% or higher\n",
    "* If null percentage is high and value is important based on its description, we'll try to impute the values.\n",
    "* If null percentage is high but there is some correlation with `TARGET` we'll see which other rows they correlate to.\n",
    "\n",
    "After Check, we'll have subset as follwing :\n",
    "\n",
    "`cols_to_drop` : These will be the columns we'll drop, based on the type of values they hold.\n",
    "\n",
    "`cols_to_impute` : These will be the columns we'll need to impute the null values using central tendencies\n",
    "\n",
    "`cols_with_valid_null` : These will be columns we'll leave as is.\n",
    "\n",
    "`cols_with_null_rows_dropped` : These will be columns, which have null for an important field and dont sway our TARGET variable significantly\n",
    "\n",
    "***Note*** : Idea behind creating list of different column categories is to have it handy to cross check whenever required."
   ]
  },
  {
   "cell_type": "code",
   "execution_count": 8,
   "metadata": {},
   "outputs": [],
   "source": [
    "cols_to_drop = []\n",
    "cols_to_impute = []\n",
    "cols_with_valid_null = []\n",
    "cols_with_null_rows_dropped = []"
   ]
  },
  {
   "cell_type": "markdown",
   "metadata": {},
   "source": [
    "#### Find Percentage null values"
   ]
  },
  {
   "cell_type": "code",
   "execution_count": 120,
   "metadata": {},
   "outputs": [
    {
     "data": {
      "text/plain": [
       "SK_ID_CURR                      0.00000\n",
       "TARGET                          0.00000\n",
       "NAME_CONTRACT_TYPE              0.00000\n",
       "CODE_GENDER                     0.00000\n",
       "FLAG_OWN_CAR                    0.00000\n",
       "FLAG_OWN_REALTY                 0.00000\n",
       "CNT_CHILDREN                    0.00000\n",
       "AMT_INCOME_TOTAL                0.00000\n",
       "AMT_CREDIT                      0.00000\n",
       "AMT_ANNUITY                     0.00000\n",
       "AMT_GOODS_PRICE                 0.00000\n",
       "NAME_TYPE_SUITE                 0.00000\n",
       "NAME_INCOME_TYPE                0.00000\n",
       "NAME_EDUCATION_TYPE             0.00000\n",
       "NAME_FAMILY_STATUS              0.00000\n",
       "NAME_HOUSING_TYPE               0.00000\n",
       "REGION_POPULATION_RELATIVE      0.00000\n",
       "DAYS_BIRTH                      0.00000\n",
       "DAYS_EMPLOYED                   0.00000\n",
       "DAYS_REGISTRATION               0.00000\n",
       "DAYS_ID_PUBLISH                 0.00000\n",
       "OWN_CAR_AGE                     0.00000\n",
       "FLAG_MOBIL                      0.00000\n",
       "FLAG_EMP_PHONE                  0.00000\n",
       "FLAG_WORK_PHONE                 0.00000\n",
       "FLAG_CONT_MOBILE                0.00000\n",
       "FLAG_PHONE                      0.00000\n",
       "FLAG_EMAIL                      0.00000\n",
       "OCCUPATION_TYPE                 0.00000\n",
       "CNT_FAM_MEMBERS                 0.00000\n",
       "REGION_RATING_CLIENT            0.00000\n",
       "REGION_RATING_CLIENT_W_CITY     0.00000\n",
       "WEEKDAY_APPR_PROCESS_START      0.00000\n",
       "HOUR_APPR_PROCESS_START         0.00000\n",
       "REG_REGION_NOT_LIVE_REGION      0.00000\n",
       "REG_REGION_NOT_WORK_REGION      0.00000\n",
       "LIVE_REGION_NOT_WORK_REGION     0.00000\n",
       "REG_CITY_NOT_LIVE_CITY          0.00000\n",
       "REG_CITY_NOT_WORK_CITY          0.00000\n",
       "LIVE_CITY_NOT_WORK_CITY         0.00000\n",
       "ORGANIZATION_TYPE               0.00000\n",
       "EXT_SOURCE_1                   56.38197\n",
       "EXT_SOURCE_2                    0.21463\n",
       "EXT_SOURCE_3                   19.82576\n",
       "APARTMENTS_AVG                 50.74976\n",
       "BASEMENTAREA_AVG               58.51531\n",
       "YEARS_BEGINEXPLUATATION_AVG    48.78097\n",
       "YEARS_BUILD_AVG                66.49745\n",
       "COMMONAREA_AVG                 69.87210\n",
       "ELEVATORS_AVG                  53.29611\n",
       "ENTRANCES_AVG                  50.34878\n",
       "FLOORSMAX_AVG                  49.76081\n",
       "FLOORSMIN_AVG                  67.84835\n",
       "LANDAREA_AVG                   59.37613\n",
       "LIVINGAPARTMENTS_AVG           68.35469\n",
       "LIVINGAREA_AVG                 50.19333\n",
       "NONLIVINGAPARTMENTS_AVG        69.43275\n",
       "NONLIVINGAREA_AVG              55.17937\n",
       "APARTMENTS_MODE                50.74976\n",
       "BASEMENTAREA_MODE              58.51531\n",
       "YEARS_BEGINEXPLUATATION_MODE   48.78097\n",
       "YEARS_BUILD_MODE               66.49745\n",
       "COMMONAREA_MODE                69.87210\n",
       "ELEVATORS_MODE                 53.29611\n",
       "ENTRANCES_MODE                 50.34878\n",
       "FLOORSMAX_MODE                 49.76081\n",
       "FLOORSMIN_MODE                 67.84835\n",
       "LANDAREA_MODE                  59.37613\n",
       "LIVINGAPARTMENTS_MODE          68.35469\n",
       "LIVINGAREA_MODE                50.19333\n",
       "NONLIVINGAPARTMENTS_MODE       69.43275\n",
       "NONLIVINGAREA_MODE             55.17937\n",
       "APARTMENTS_MEDI                50.74976\n",
       "BASEMENTAREA_MEDI              58.51531\n",
       "YEARS_BEGINEXPLUATATION_MEDI   48.78097\n",
       "YEARS_BUILD_MEDI               66.49745\n",
       "COMMONAREA_MEDI                69.87210\n",
       "ELEVATORS_MEDI                 53.29611\n",
       "ENTRANCES_MEDI                 50.34878\n",
       "FLOORSMAX_MEDI                 49.76081\n",
       "FLOORSMIN_MEDI                 67.84835\n",
       "LANDAREA_MEDI                  59.37613\n",
       "LIVINGAPARTMENTS_MEDI          68.35469\n",
       "LIVINGAREA_MEDI                50.19333\n",
       "NONLIVINGAPARTMENTS_MEDI       69.43275\n",
       "NONLIVINGAREA_MEDI             55.17937\n",
       "FONDKAPREMONT_MODE             68.38591\n",
       "HOUSETYPE_MODE                 50.17610\n",
       "TOTALAREA_MODE                 48.26845\n",
       "WALLSMATERIAL_MODE             50.84082\n",
       "EMERGENCYSTATE_MODE            47.39820\n",
       "OBS_30_CNT_SOCIAL_CIRCLE        0.33203\n",
       "DEF_30_CNT_SOCIAL_CIRCLE        0.33203\n",
       "OBS_60_CNT_SOCIAL_CIRCLE        0.33203\n",
       "DEF_60_CNT_SOCIAL_CIRCLE        0.33203\n",
       "DAYS_LAST_PHONE_CHANGE          0.00033\n",
       "FLAG_DOCUMENT_2                 0.00000\n",
       "FLAG_DOCUMENT_3                 0.00000\n",
       "FLAG_DOCUMENT_4                 0.00000\n",
       "FLAG_DOCUMENT_5                 0.00000\n",
       "FLAG_DOCUMENT_6                 0.00000\n",
       "FLAG_DOCUMENT_7                 0.00000\n",
       "FLAG_DOCUMENT_8                 0.00000\n",
       "FLAG_DOCUMENT_9                 0.00000\n",
       "FLAG_DOCUMENT_10                0.00000\n",
       "FLAG_DOCUMENT_11                0.00000\n",
       "FLAG_DOCUMENT_12                0.00000\n",
       "FLAG_DOCUMENT_13                0.00000\n",
       "FLAG_DOCUMENT_14                0.00000\n",
       "FLAG_DOCUMENT_15                0.00000\n",
       "FLAG_DOCUMENT_16                0.00000\n",
       "FLAG_DOCUMENT_17                0.00000\n",
       "FLAG_DOCUMENT_18                0.00000\n",
       "FLAG_DOCUMENT_19                0.00000\n",
       "FLAG_DOCUMENT_20                0.00000\n",
       "FLAG_DOCUMENT_21                0.00000\n",
       "AMT_REQ_CREDIT_BUREAU_HOUR     13.50183\n",
       "AMT_REQ_CREDIT_BUREAU_DAY      13.50183\n",
       "AMT_REQ_CREDIT_BUREAU_WEEK     13.50183\n",
       "AMT_REQ_CREDIT_BUREAU_MON      13.50183\n",
       "AMT_REQ_CREDIT_BUREAU_QRT      13.50183\n",
       "AMT_REQ_CREDIT_BUREAU_YEAR     13.50183\n",
       "dtype: float64"
      ]
     },
     "execution_count": 120,
     "metadata": {},
     "output_type": "execute_result"
    }
   ],
   "source": [
    "data_application.isnull().sum()*100/data_application.shape[0]"
   ]
  },
  {
   "cell_type": "code",
   "execution_count": 10,
   "metadata": {},
   "outputs": [
    {
     "data": {
      "text/plain": [
       "0   0.91927\n",
       "1   0.08073\n",
       "Name: TARGET, dtype: float64"
      ]
     },
     "execution_count": 10,
     "metadata": {},
     "output_type": "execute_result"
    }
   ],
   "source": [
    "data_application['TARGET'].value_counts(normalize=True)"
   ]
  },
  {
   "cell_type": "markdown",
   "metadata": {},
   "source": [
    "**HANDLING NULL for :** `AMT_ANNUITY`"
   ]
  },
  {
   "cell_type": "code",
   "execution_count": 11,
   "metadata": {},
   "outputs": [
    {
     "data": {
      "text/plain": [
       "(12, 122)"
      ]
     },
     "execution_count": 11,
     "metadata": {},
     "output_type": "execute_result"
    }
   ],
   "source": [
    "data_application[data_application['AMT_ANNUITY'].isnull()].shape"
   ]
  },
  {
   "cell_type": "markdown",
   "metadata": {},
   "source": [
    "All `AMT_ANNUITY` is null only for Cash Loans, by definition cash loans are :\n",
    "\n",
    "> *Instant cash loans are short-term loans that are processed quickly, usually within an hour, giving you access to funds instantly. Also known as cash advance loans and pay day loans, this type of loans is ideal for situations when you need funds immediately.*\n",
    "\n",
    "Here are few observations from other attributes of `AMT_ANNUITY` as null :\n",
    "1. All the rows with aforementioned columns as null have Target as 0 below is observation :\n",
    "> As the `TARGET` with value 0 is around 91% removing 0.003% will not sway \n",
    "2. Other rows are randomly distributed with respect to the 12 columns, that also should not introduce bias\n",
    "\n",
    "Has handling of null, we are removing the rows where `AMT_ANNUITY` is null using following code :-"
   ]
  },
  {
   "cell_type": "code",
   "execution_count": 12,
   "metadata": {},
   "outputs": [],
   "source": [
    "data_application = data_application.loc[~data_application['AMT_ANNUITY'].isnull(),:]"
   ]
  },
  {
   "cell_type": "code",
   "execution_count": 13,
   "metadata": {},
   "outputs": [],
   "source": [
    "cols_with_null_rows_dropped.append('AMT_ANNUITY')"
   ]
  },
  {
   "cell_type": "markdown",
   "metadata": {},
   "source": [
    "**HANDLING NULL for** : `AMT_GOODS_PRICE`"
   ]
  },
  {
   "cell_type": "markdown",
   "metadata": {},
   "source": [
    "Checking the correlation of `AMT_GOODS_PRICE`with `AMT_CREDIT`"
   ]
  },
  {
   "cell_type": "code",
   "execution_count": 14,
   "metadata": {},
   "outputs": [
    {
     "data": {
      "text/html": [
       "<div>\n",
       "<style scoped>\n",
       "    .dataframe tbody tr th:only-of-type {\n",
       "        vertical-align: middle;\n",
       "    }\n",
       "\n",
       "    .dataframe tbody tr th {\n",
       "        vertical-align: top;\n",
       "    }\n",
       "\n",
       "    .dataframe thead th {\n",
       "        text-align: right;\n",
       "    }\n",
       "</style>\n",
       "<table border=\"1\" class=\"dataframe\">\n",
       "  <thead>\n",
       "    <tr style=\"text-align: right;\">\n",
       "      <th></th>\n",
       "      <th>AMT_CREDIT</th>\n",
       "      <th>AMT_GOODS_PRICE</th>\n",
       "    </tr>\n",
       "  </thead>\n",
       "  <tbody>\n",
       "    <tr>\n",
       "      <th>AMT_CREDIT</th>\n",
       "      <td>1.00000</td>\n",
       "      <td>0.98697</td>\n",
       "    </tr>\n",
       "    <tr>\n",
       "      <th>AMT_GOODS_PRICE</th>\n",
       "      <td>0.98697</td>\n",
       "      <td>1.00000</td>\n",
       "    </tr>\n",
       "  </tbody>\n",
       "</table>\n",
       "</div>"
      ],
      "text/plain": [
       "                 AMT_CREDIT  AMT_GOODS_PRICE\n",
       "AMT_CREDIT          1.00000          0.98697\n",
       "AMT_GOODS_PRICE     0.98697          1.00000"
      ]
     },
     "execution_count": 14,
     "metadata": {},
     "output_type": "execute_result"
    }
   ],
   "source": [
    "data_application[['AMT_CREDIT','AMT_GOODS_PRICE']].corr()"
   ]
  },
  {
   "cell_type": "code",
   "execution_count": 15,
   "metadata": {},
   "outputs": [
    {
     "data": {
      "text/plain": [
       "(278, 122)"
      ]
     },
     "execution_count": 15,
     "metadata": {},
     "output_type": "execute_result"
    }
   ],
   "source": [
    "data_application[data_application['AMT_GOODS_PRICE'].isnull()].shape"
   ]
  },
  {
   "cell_type": "markdown",
   "metadata": {},
   "source": [
    "Most of the records are in 1:1 ratio for `AMT_GOODS_PRICE` : `AMT_CREDIT`"
   ]
  },
  {
   "cell_type": "code",
   "execution_count": 16,
   "metadata": {},
   "outputs": [
    {
     "data": {
      "text/plain": [
       "1.00000   0.99937\n",
       "2.00000   0.00044\n",
       "0.00000   0.00009\n",
       "3.00000   0.00008\n",
       "4.00000   0.00001\n",
       "7.00000   0.00001\n",
       "dtype: float64"
      ]
     },
     "execution_count": 16,
     "metadata": {},
     "output_type": "execute_result"
    }
   ],
   "source": [
    "round((data_application['AMT_GOODS_PRICE']/data_application['AMT_CREDIT']),0).value_counts(normalize=True)"
   ]
  },
  {
   "cell_type": "code",
   "execution_count": 17,
   "metadata": {},
   "outputs": [
    {
     "data": {
      "text/plain": [
       "Cash loans         79531\n",
       "Revolving loans    28673\n",
       "Name: NAME_CONTRACT_TYPE, dtype: int64"
      ]
     },
     "execution_count": 17,
     "metadata": {},
     "output_type": "execute_result"
    }
   ],
   "source": [
    "data_application[(data_application['AMT_GOODS_PRICE']/data_application['AMT_CREDIT']) == 1]['NAME_CONTRACT_TYPE'].value_counts()"
   ]
  },
  {
   "cell_type": "code",
   "execution_count": 18,
   "metadata": {},
   "outputs": [],
   "source": [
    "data_application.loc[data_application['AMT_GOODS_PRICE'].isnull(),'AMT_GOODS_PRICE'] = data_application.loc[data_application['AMT_GOODS_PRICE'].isnull(),'AMT_CREDIT']"
   ]
  },
  {
   "cell_type": "code",
   "execution_count": 19,
   "metadata": {},
   "outputs": [
    {
     "data": {
      "text/plain": [
       "Cash loans         79531\n",
       "Revolving loans    28951\n",
       "Name: NAME_CONTRACT_TYPE, dtype: int64"
      ]
     },
     "execution_count": 19,
     "metadata": {},
     "output_type": "execute_result"
    }
   ],
   "source": [
    "data_application[(data_application['AMT_GOODS_PRICE']/data_application['AMT_CREDIT']) == 1]['NAME_CONTRACT_TYPE'].value_counts()"
   ]
  },
  {
   "cell_type": "code",
   "execution_count": 20,
   "metadata": {},
   "outputs": [
    {
     "data": {
      "text/plain": [
       "0"
      ]
     },
     "execution_count": 20,
     "metadata": {},
     "output_type": "execute_result"
    }
   ],
   "source": [
    "data_application['AMT_GOODS_PRICE'].isnull().sum()"
   ]
  },
  {
   "cell_type": "code",
   "execution_count": 21,
   "metadata": {},
   "outputs": [],
   "source": [
    "cols_to_impute.append('AMT_GOODS_PRICE')"
   ]
  },
  {
   "cell_type": "markdown",
   "metadata": {},
   "source": [
    "All `AMT_GOODS_PRICE` is null only for Revolving Loans, by definition revolving loans are :\n",
    "\n",
    "*A revolving loan facility is a form of credit issued by a financial institution that provides the borrower with the ability to draw down or withdraw, repay, and withdraw again. A revolving loan is considered a flexible financing tool due to its repayment and re-borrowing accommodations.*\n",
    "\n",
    "We have seen that `AMT_GOODS_PRICE` and `AMT_CREDIT` are highly correlated, so much that in most of the cases `AMT_GOODS_PRICE` approximately equals to `AMT_CREDIT`\n",
    "\n",
    "Hence imputing those values to `AMT_CREDIT`"
   ]
  },
  {
   "cell_type": "markdown",
   "metadata": {},
   "source": [
    "**HANDLING FOR FIELD :** `NAME_TYPE_SUITE`"
   ]
  },
  {
   "cell_type": "code",
   "execution_count": 22,
   "metadata": {},
   "outputs": [
    {
     "data": {
      "text/plain": [
       "0.4201639680129041"
      ]
     },
     "execution_count": 22,
     "metadata": {},
     "output_type": "execute_result"
    }
   ],
   "source": [
    "data_application['NAME_TYPE_SUITE'].isnull().sum()*100/len(data_application)"
   ]
  },
  {
   "cell_type": "code",
   "execution_count": 23,
   "metadata": {},
   "outputs": [
    {
     "data": {
      "text/plain": [
       "'Unaccompanied'"
      ]
     },
     "execution_count": 23,
     "metadata": {},
     "output_type": "execute_result"
    }
   ],
   "source": [
    "data_application['NAME_TYPE_SUITE'].value_counts(normalize=True).index[0]"
   ]
  },
  {
   "cell_type": "markdown",
   "metadata": {},
   "source": [
    "The Column `NAME_TYPE_SUITE` and only *0.4%* of rows are null we'll impute these with value `Unaccompanied` as its for *81%* of the clients, following is the code for the same :-"
   ]
  },
  {
   "cell_type": "code",
   "execution_count": 24,
   "metadata": {},
   "outputs": [
    {
     "name": "stdout",
     "output_type": "stream",
     "text": [
      "All null removed for NAME_TYPE_SUITE = True\n"
     ]
    }
   ],
   "source": [
    "most_frequent = data_application['NAME_TYPE_SUITE'].value_counts(normalize=True).index[0]\n",
    "data_application['NAME_TYPE_SUITE'].fillna(most_frequent,inplace=True)\n",
    "print(f\"All null removed for NAME_TYPE_SUITE = {data_application['NAME_TYPE_SUITE'].isnull().sum() == 0}\")"
   ]
  },
  {
   "cell_type": "markdown",
   "metadata": {},
   "source": [
    "**HANDLING FOR FIELD :** `OWN_CAR_AGE`"
   ]
  },
  {
   "cell_type": "code",
   "execution_count": 25,
   "metadata": {},
   "outputs": [
    {
     "data": {
      "text/plain": [
       "65.99045850555612"
      ]
     },
     "execution_count": 25,
     "metadata": {},
     "output_type": "execute_result"
    }
   ],
   "source": [
    "data_application['OWN_CAR_AGE'].isnull().sum()*100/len(data_application)"
   ]
  },
  {
   "cell_type": "code",
   "execution_count": 26,
   "metadata": {},
   "outputs": [
    {
     "data": {
      "text/plain": [
       "65.98883248400807"
      ]
     },
     "execution_count": 26,
     "metadata": {},
     "output_type": "execute_result"
    }
   ],
   "source": [
    "data_application.loc[data_application['FLAG_OWN_CAR']=='N','OWN_CAR_AGE'].isnull().sum()*100/len(data_application)"
   ]
  },
  {
   "cell_type": "code",
   "execution_count": 27,
   "metadata": {},
   "outputs": [
    {
     "data": {
      "text/plain": [
       "5"
      ]
     },
     "execution_count": 27,
     "metadata": {},
     "output_type": "execute_result"
    }
   ],
   "source": [
    "data_application.loc[(data_application['OWN_CAR_AGE'].isnull()) & (data_application['FLAG_OWN_CAR']=='Y'),'OWN_CAR_AGE'].isnull().sum()"
   ]
  },
  {
   "cell_type": "markdown",
   "metadata": {},
   "source": [
    "Based on above observation, following rules used to impute values : \n",
    "1. If client doesnt own a car the OWN_CAR_AGE should be 0\n",
    "2. If client owns a car, then value should be imputed using Median"
   ]
  },
  {
   "cell_type": "code",
   "execution_count": 28,
   "metadata": {},
   "outputs": [],
   "source": [
    "data_application.loc[(data_application['OWN_CAR_AGE'].isnull()) & ((data_application['FLAG_OWN_CAR']=='Y')), 'OWN_CAR_AGE' ] = data_application['OWN_CAR_AGE'].describe()['50%']"
   ]
  },
  {
   "cell_type": "code",
   "execution_count": 29,
   "metadata": {},
   "outputs": [],
   "source": [
    "data_application['OWN_CAR_AGE'].fillna(0,inplace=True)"
   ]
  },
  {
   "cell_type": "code",
   "execution_count": 30,
   "metadata": {},
   "outputs": [
    {
     "data": {
      "text/plain": [
       "0"
      ]
     },
     "execution_count": 30,
     "metadata": {},
     "output_type": "execute_result"
    }
   ],
   "source": [
    "data_application['OWN_CAR_AGE'].isnull().sum()"
   ]
  },
  {
   "cell_type": "code",
   "execution_count": 31,
   "metadata": {},
   "outputs": [],
   "source": [
    "cols_to_impute.append('OWN_CAR_AGE')"
   ]
  },
  {
   "cell_type": "markdown",
   "metadata": {},
   "source": [
    "**HANDLING FOR FIELD :** `OCCUPATION_TYPE`"
   ]
  },
  {
   "cell_type": "code",
   "execution_count": 32,
   "metadata": {
    "scrolled": true
   },
   "outputs": [
    {
     "data": {
      "text/plain": [
       "Laborers                0.26140\n",
       "Sales staff             0.15206\n",
       "Core staff              0.13059\n",
       "Managers                0.10123\n",
       "Drivers                 0.08812\n",
       "High skill tech staff   0.05390\n",
       "Accountants             0.04648\n",
       "Medicine staff          0.04043\n",
       "Security staff          0.03183\n",
       "Cooking staff           0.02816\n",
       "Cleaning staff          0.02204\n",
       "Private service staff   0.01256\n",
       "Low-skill Laborers      0.00991\n",
       "Waiters/barmen staff    0.00639\n",
       "Secretaries             0.00618\n",
       "Realty agents           0.00356\n",
       "HR staff                0.00267\n",
       "IT staff                0.00249\n",
       "Name: OCCUPATION_TYPE, dtype: float64"
      ]
     },
     "execution_count": 32,
     "metadata": {},
     "output_type": "execute_result"
    }
   ],
   "source": [
    "data_application['OCCUPATION_TYPE'].value_counts(normalize=True)"
   ]
  },
  {
   "cell_type": "markdown",
   "metadata": {},
   "source": [
    "Since the `OCCUPATION_TYPE` was a categorical value which was Missing at completely at random and we could not derive, we created another cateogry to handle these null\n",
    "\n",
    "Following is the code :"
   ]
  },
  {
   "cell_type": "code",
   "execution_count": 33,
   "metadata": {},
   "outputs": [],
   "source": [
    "data_application['OCCUPATION_TYPE'].fillna('Undefined',inplace=True)"
   ]
  },
  {
   "cell_type": "markdown",
   "metadata": {},
   "source": [
    "**HANDLING for field :** `CNT_FAM_MEMBERS`"
   ]
  },
  {
   "cell_type": "code",
   "execution_count": 34,
   "metadata": {},
   "outputs": [
    {
     "name": "stdout",
     "output_type": "stream",
     "text": [
      "count   307497.00000\n",
      "mean         2.15268\n",
      "std          0.91069\n",
      "min          1.00000\n",
      "25%          2.00000\n",
      "50%          2.00000\n",
      "75%          3.00000\n",
      "max         20.00000\n",
      "Name: CNT_FAM_MEMBERS, dtype: float64\n",
      "mode : 0   2.00000\n",
      "dtype: float64\n"
     ]
    }
   ],
   "source": [
    "print(data_application['CNT_FAM_MEMBERS'].describe())\n",
    "print(f\"mode : {data_application['CNT_FAM_MEMBERS'].mode()}\")"
   ]
  },
  {
   "cell_type": "markdown",
   "metadata": {},
   "source": [
    "Since the mean/median/mode are all around 2 we will impute null as 2, following is the code"
   ]
  },
  {
   "cell_type": "code",
   "execution_count": 35,
   "metadata": {},
   "outputs": [
    {
     "data": {
      "text/plain": [
       "2"
      ]
     },
     "execution_count": 35,
     "metadata": {},
     "output_type": "execute_result"
    }
   ],
   "source": [
    "data_application['CNT_FAM_MEMBERS'].isnull().sum()"
   ]
  },
  {
   "cell_type": "code",
   "execution_count": 36,
   "metadata": {},
   "outputs": [],
   "source": [
    "data_application['CNT_FAM_MEMBERS'].fillna(2,inplace=True)"
   ]
  },
  {
   "cell_type": "code",
   "execution_count": 37,
   "metadata": {},
   "outputs": [
    {
     "data": {
      "text/plain": [
       "0"
      ]
     },
     "execution_count": 37,
     "metadata": {},
     "output_type": "execute_result"
    }
   ],
   "source": [
    "data_application['CNT_FAM_MEMBERS'].isnull().sum()"
   ]
  },
  {
   "cell_type": "markdown",
   "metadata": {},
   "source": [
    "**HANDLING FOR :** All Normalized fields _AVG/_MEDI/_MODE "
   ]
  },
  {
   "cell_type": "code",
   "execution_count": 38,
   "metadata": {},
   "outputs": [
    {
     "name": "stdout",
     "output_type": "stream",
     "text": [
      "2   0.73814\n",
      "3   0.15717\n",
      "1   0.10469\n",
      "Name: REGION_RATING_CLIENT, dtype: float64\n",
      "2   0.74627\n",
      "3   0.14263\n",
      "1   0.11110\n",
      "Name: REGION_RATING_CLIENT_W_CITY, dtype: float64\n"
     ]
    }
   ],
   "source": [
    "print(data_application['REGION_RATING_CLIENT'].value_counts(normalize=True))\n",
    "print(data_application['REGION_RATING_CLIENT_W_CITY'].value_counts(normalize=True))"
   ]
  },
  {
   "cell_type": "markdown",
   "metadata": {},
   "source": [
    "**HANDLING NULL FOR :** Normalized features about where client lives"
   ]
  },
  {
   "cell_type": "markdown",
   "metadata": {},
   "source": [
    "We will utlize already available information of `REGION_RATING_CLIENT` and `REGION_RATING_CLIENT_W_CITY`\n",
    "And try to map (1,2,3) to (Low, Medium, High)\n",
    "\n",
    "Currenlty we are not aware which of (1 or 3) is a  (High or Low)\n",
    "\n",
    "Once that is done it'll eliminate the need of Normalized information about where client lives\n",
    "\n",
    "Reason for this approach : Since these normalized columns have more than `50%` of columns as null, its best if we could find a feature in the data that could safely represent what this normalized data is trying to represent."
   ]
  },
  {
   "cell_type": "markdown",
   "metadata": {},
   "source": [
    "For this we'll perform multivariate analysis on these columns which seem to be related to the region/area where the client lives and try to find how these attributes are related"
   ]
  },
  {
   "cell_type": "code",
   "execution_count": 64,
   "metadata": {},
   "outputs": [],
   "source": [
    "#Starting with finding correlation of all these columns with the Target variable\n",
    "client_living_condition_col =['REGION_RATING_CLIENT_W_CITY','REGION_RATING_CLIENT','TARGET', 'APARTMENTS_AVG','BASEMENTAREA_AVG','YEARS_BEGINEXPLUATATION_AVG','YEARS_BUILD_AVG','COMMONAREA_AVG','ELEVATORS_AVG','ENTRANCES_AVG','FLOORSMAX_AVG','FLOORSMIN_AVG','LANDAREA_AVG','LIVINGAPARTMENTS_AVG','LIVINGAREA_AVG','NONLIVINGAPARTMENTS_AVG','NONLIVINGAREA_AVG','APARTMENTS_MODE','BASEMENTAREA_MODE','YEARS_BEGINEXPLUATATION_MODE','YEARS_BUILD_MODE','COMMONAREA_MODE','ELEVATORS_MODE','ENTRANCES_MODE','FLOORSMAX_MODE','FLOORSMIN_MODE','LANDAREA_MODE','LIVINGAPARTMENTS_MODE','LIVINGAREA_MODE','NONLIVINGAPARTMENTS_MODE','NONLIVINGAREA_MODE','APARTMENTS_MEDI','BASEMENTAREA_MEDI','YEARS_BEGINEXPLUATATION_MEDI','YEARS_BUILD_MEDI','COMMONAREA_MEDI','ELEVATORS_MEDI','ENTRANCES_MEDI','FLOORSMAX_MEDI','FLOORSMIN_MEDI','LANDAREA_MEDI','LIVINGAPARTMENTS_MEDI','LIVINGAREA_MEDI','NONLIVINGAPARTMENTS_MEDI','NONLIVINGAREA_MEDI','FONDKAPREMONT_MODE','HOUSETYPE_MODE','TOTALAREA_MODE','WALLSMATERIAL_MODE','EMERGENCYSTATE_MODE']\n",
    "s = data_application.loc[:,client_living_condition_col].corr()['TARGET']*100"
   ]
  },
  {
   "cell_type": "code",
   "execution_count": 67,
   "metadata": {},
   "outputs": [
    {
     "data": {
      "text/plain": [
       "REGION_RATING_CLIENT_W_CITY     6.08860\n",
       "REGION_RATING_CLIENT            5.88920\n",
       "TARGET                        100.00000\n",
       "ELEVATORS_AVG                  -3.41968\n",
       "FLOORSMAX_AVG                  -4.40005\n",
       "FLOORSMIN_AVG                  -3.36153\n",
       "LIVINGAREA_AVG                 -3.29952\n",
       "ELEVATORS_MODE                 -3.21306\n",
       "FLOORSMAX_MODE                 -4.32231\n",
       "FLOORSMIN_MODE                 -3.26994\n",
       "LIVINGAREA_MODE                -3.06841\n",
       "ELEVATORS_MEDI                 -3.38608\n",
       "FLOORSMAX_MEDI                 -4.37651\n",
       "FLOORSMIN_MEDI                 -3.33961\n",
       "LIVINGAREA_MEDI                -3.27373\n",
       "TOTALAREA_MODE                 -3.25958\n",
       "Name: TARGET, dtype: float64"
      ]
     },
     "execution_count": 67,
     "metadata": {},
     "output_type": "execute_result"
    }
   ],
   "source": [
    "s[(s < -3) | (s > 5)]"
   ]
  },
  {
   "cell_type": "markdown",
   "metadata": {},
   "source": [
    "From above we see that the values are very slightly correlated to the target column, max value -4, lets see if theres anything can these values correlate to and we can use to draw inference\n",
    "We start by picking the attributes that have abs highest correlation with target field"
   ]
  },
  {
   "cell_type": "code",
   "execution_count": 63,
   "metadata": {},
   "outputs": [
    {
     "data": {
      "text/plain": [
       "<matplotlib.axes._subplots.AxesSubplot at 0x26b0406fdf0>"
      ]
     },
     "execution_count": 63,
     "metadata": {},
     "output_type": "execute_result"
    },
    {
     "data": {
      "image/png": "[encoded data removed]",
      "text/plain": [
       "<Figure size 1296x432 with 6 Axes>"
      ]
     },
     "metadata": {
      "needs_background": "light"
     },
     "output_type": "display_data"
    }
   ],
   "source": [
    "subset = data_application[['REGION_RATING_CLIENT_W_CITY','NAME_HOUSING_TYPE','HOUSETYPE_MODE','EMERGENCYSTATE_MODE','LIVINGAREA_AVG','LIVINGAREA_MEDI','LIVINGAREA_MODE']]\n",
    "fig,ax = plt.subplots(ncols=3,sharey=True)\n",
    "fig.set_size_inches(18, 6, forward=True)\n",
    "sns.heatmap(subset.pivot_table(index=['NAME_HOUSING_TYPE','EMERGENCYSTATE_MODE'],columns=['REGION_RATING_CLIENT_W_CITY'],aggfunc='mean')['LIVINGAREA_AVG'],annot=False,ax=ax[0],cmap='YlOrBr',fmt='')\n",
    "sns.heatmap(subset.pivot_table(index=['NAME_HOUSING_TYPE','EMERGENCYSTATE_MODE'],columns=['REGION_RATING_CLIENT_W_CITY'],aggfunc='mean')['LIVINGAREA_MEDI'],annot=False,ax=ax[1],cmap='YlOrBr',fmt='')\n",
    "sns.heatmap(subset.pivot_table(index=['NAME_HOUSING_TYPE','EMERGENCYSTATE_MODE'],columns=['REGION_RATING_CLIENT_W_CITY'],aggfunc='mean')['LIVINGAREA_MODE'],annot=False,ax=ax[2],cmap='YlOrBr',fmt='')"
   ]
  },
  {
   "cell_type": "code",
   "execution_count": 52,
   "metadata": {},
   "outputs": [
    {
     "data": {
      "text/plain": [
       "<matplotlib.axes._subplots.AxesSubplot at 0x26b0340f760>"
      ]
     },
     "execution_count": 52,
     "metadata": {},
     "output_type": "execute_result"
    },
    {
     "data": {
      "image/png": "[encoded data removed]",
      "text/plain": [
       "<Figure size 1296x432 with 6 Axes>"
      ]
     },
     "metadata": {
      "needs_background": "light"
     },
     "output_type": "display_data"
    }
   ],
   "source": [
    "subset = pd.merge(data_application.loc[:,data_application.filter(like='FLOORSMAX_').columns],data_application[['REGION_RATING_CLIENT_W_CITY','NAME_HOUSING_TYPE','EMERGENCYSTATE_MODE']],left_index=True,right_index=True)\n",
    "fig,ax = plt.subplots(ncols=3,sharey=True)\n",
    "fig.set_size_inches(18, 6, forward=True)\n",
    "sns.heatmap(subset.pivot_table(index=['NAME_HOUSING_TYPE','EMERGENCYSTATE_MODE'],columns=['REGION_RATING_CLIENT_W_CITY'],aggfunc='mean')['FLOORSMAX_AVG'],annot=False,ax=ax[0],cmap='YlOrBr',fmt='')\n",
    "sns.heatmap(subset.pivot_table(index=['NAME_HOUSING_TYPE','EMERGENCYSTATE_MODE'],columns=['REGION_RATING_CLIENT_W_CITY'],aggfunc='mean')['FLOORSMAX_MEDI'],annot=False,ax=ax[1],cmap='YlOrBr',fmt='')\n",
    "sns.heatmap(subset.pivot_table(index=['NAME_HOUSING_TYPE','EMERGENCYSTATE_MODE'],columns=['REGION_RATING_CLIENT_W_CITY'],aggfunc='mean')['FLOORSMAX_MODE'],annot=False,ax=ax[2],cmap='YlOrBr',fmt='')"
   ]
  },
  {
   "cell_type": "code",
   "execution_count": 62,
   "metadata": {},
   "outputs": [
    {
     "data": {
      "text/plain": [
       "<matplotlib.axes._subplots.AxesSubplot at 0x26b023b5d30>"
      ]
     },
     "execution_count": 62,
     "metadata": {},
     "output_type": "execute_result"
    },
    {
     "data": {
      "image/png": "[encoded data removed]",
      "text/plain": [
       "<Figure size 432x288 with 2 Axes>"
      ]
     },
     "metadata": {
      "needs_background": "light"
     },
     "output_type": "display_data"
    }
   ],
   "source": [
    "subset = data_application[['REGION_RATING_CLIENT_W_CITY','NAME_HOUSING_TYPE','HOUSETYPE_MODE','EMERGENCYSTATE_MODE','TOTALAREA_MODE']]\n",
    "fig,ax = plt.subplots(ncols=1,sharey=True)\n",
    "fig.set_size_inches(6, 4, forward=True)\n",
    "sns.heatmap(subset.pivot_table(index=['NAME_HOUSING_TYPE','EMERGENCYSTATE_MODE'],columns=['REGION_RATING_CLIENT_W_CITY'],aggfunc='mean')['TOTALAREA_MODE'],annot=False,cmap='YlOrBr',fmt='')\n"
   ]
  },
  {
   "cell_type": "markdown",
   "metadata": {},
   "source": [
    "From above observation its safe to assume that\n",
    "\n",
    "For the fields : `REGION_RATING_CLIENT_W_CITY` and `REGION_RATING_CLIENT` the values\n",
    "> 1 corresponds to High | \n",
    "2 corresponds to Medium | \n",
    "3 corresponds to Low\n",
    "\n",
    "That is even fortified by the fact that the correlation is positive with target field, proving that with increase in value the `TARGET` is more likely to be 1"
   ]
  },
  {
   "cell_type": "code",
   "execution_count": 68,
   "metadata": {},
   "outputs": [],
   "source": [
    "cols_to_drop.extend(data_application.filter(like='_AVG').columns)\n",
    "cols_to_drop.extend(data_application.filter(like='_MEDI').columns)\n",
    "cols_to_drop.extend(data_application.filter(like='_MODE').columns)"
   ]
  },
  {
   "cell_type": "markdown",
   "metadata": {},
   "source": [
    "**HANDLING FIELDS FOR :** `FLAG_XX`"
   ]
  },
  {
   "cell_type": "code",
   "execution_count": 84,
   "metadata": {},
   "outputs": [
    {
     "data": {
      "text/plain": [
       "FLAG_DOCUMENT_2      0.54171\n",
       "FLAG_DOCUMENT_3      4.43463\n",
       "FLAG_DOCUMENT_4     -0.26722\n",
       "FLAG_DOCUMENT_5     -0.03015\n",
       "FLAG_DOCUMENT_6     -2.86056\n",
       "FLAG_DOCUMENT_7     -0.15197\n",
       "FLAG_DOCUMENT_8     -0.80371\n",
       "FLAG_DOCUMENT_9     -0.43531\n",
       "FLAG_DOCUMENT_10    -0.14139\n",
       "FLAG_DOCUMENT_11    -0.42301\n",
       "FLAG_DOCUMENT_12    -0.07558\n",
       "FLAG_DOCUMENT_13    -1.15839\n",
       "FLAG_DOCUMENT_14    -0.94645\n",
       "FLAG_DOCUMENT_15    -0.65361\n",
       "FLAG_DOCUMENT_16    -1.16159\n",
       "FLAG_DOCUMENT_17    -0.33778\n",
       "FLAG_DOCUMENT_18    -0.79534\n",
       "FLAG_DOCUMENT_19    -0.13578\n",
       "FLAG_DOCUMENT_20     0.02151\n",
       "FLAG_DOCUMENT_21     0.37084\n",
       "TARGET             100.00000\n",
       "Name: TARGET, dtype: float64"
      ]
     },
     "execution_count": 84,
     "metadata": {},
     "output_type": "execute_result"
    }
   ],
   "source": [
    "cols = [col for col in data_application.columns if \"FLAG_DOCUMENT\" in col]\n",
    "cols.append('TARGET')\n",
    "something = data_application.loc[:,cols]\n",
    "something.corr()['TARGET']*100"
   ]
  },
  {
   "cell_type": "code",
   "execution_count": 85,
   "metadata": {},
   "outputs": [],
   "source": [
    "tmp = []\n",
    "for col in something.columns:\n",
    "    tmp_series = something.loc[something['TARGET']==1,col].value_counts(normalize=True)\n",
    "    tmp_series.name = col\n",
    "    tmp.append(tmp_series)\n",
    "df_value_counts_defautler = pd.concat(tmp, axis=1)\n",
    "tmp = []\n",
    "for col in something.columns:\n",
    "    tmp_series = something.loc[something['TARGET']==0,col].value_counts(normalize=True)\n",
    "    tmp_series.name = col\n",
    "    tmp.append(tmp_series)\n",
    "df_value_counts_non_defaulter = pd.concat(tmp, axis=1)\n",
    "\n",
    "cols.remove('TARGET')"
   ]
  },
  {
   "cell_type": "code",
   "execution_count": 87,
   "metadata": {},
   "outputs": [
    {
     "data": {
      "text/html": [
       "<div>\n",
       "<style scoped>\n",
       "    .dataframe tbody tr th:only-of-type {\n",
       "        vertical-align: middle;\n",
       "    }\n",
       "\n",
       "    .dataframe tbody tr th {\n",
       "        vertical-align: top;\n",
       "    }\n",
       "\n",
       "    .dataframe thead th {\n",
       "        text-align: right;\n",
       "    }\n",
       "</style>\n",
       "<table border=\"1\" class=\"dataframe\">\n",
       "  <thead>\n",
       "    <tr style=\"text-align: right;\">\n",
       "      <th></th>\n",
       "      <th>FLAG_DOCUMENT_2</th>\n",
       "      <th>FLAG_DOCUMENT_3</th>\n",
       "      <th>FLAG_DOCUMENT_4</th>\n",
       "      <th>FLAG_DOCUMENT_5</th>\n",
       "      <th>FLAG_DOCUMENT_6</th>\n",
       "      <th>FLAG_DOCUMENT_7</th>\n",
       "      <th>FLAG_DOCUMENT_8</th>\n",
       "      <th>FLAG_DOCUMENT_9</th>\n",
       "      <th>FLAG_DOCUMENT_10</th>\n",
       "      <th>FLAG_DOCUMENT_11</th>\n",
       "      <th>FLAG_DOCUMENT_12</th>\n",
       "      <th>FLAG_DOCUMENT_13</th>\n",
       "      <th>FLAG_DOCUMENT_14</th>\n",
       "      <th>FLAG_DOCUMENT_15</th>\n",
       "      <th>FLAG_DOCUMENT_16</th>\n",
       "      <th>FLAG_DOCUMENT_17</th>\n",
       "      <th>FLAG_DOCUMENT_18</th>\n",
       "      <th>FLAG_DOCUMENT_19</th>\n",
       "      <th>FLAG_DOCUMENT_20</th>\n",
       "      <th>FLAG_DOCUMENT_21</th>\n",
       "      <th>TARGET</th>\n",
       "    </tr>\n",
       "  </thead>\n",
       "  <tbody>\n",
       "    <tr>\n",
       "      <th>0</th>\n",
       "      <td>0.99984</td>\n",
       "      <td>0.22207</td>\n",
       "      <td>1.00000</td>\n",
       "      <td>0.98502</td>\n",
       "      <td>0.93930</td>\n",
       "      <td>0.99988</td>\n",
       "      <td>0.92604</td>\n",
       "      <td>0.99702</td>\n",
       "      <td>1.00000</td>\n",
       "      <td>0.99698</td>\n",
       "      <td>1.00000</td>\n",
       "      <td>0.99879</td>\n",
       "      <td>0.99879</td>\n",
       "      <td>0.99956</td>\n",
       "      <td>0.99396</td>\n",
       "      <td>0.99992</td>\n",
       "      <td>0.99428</td>\n",
       "      <td>0.99952</td>\n",
       "      <td>0.99948</td>\n",
       "      <td>0.99944</td>\n",
       "      <td>nan</td>\n",
       "    </tr>\n",
       "    <tr>\n",
       "      <th>1</th>\n",
       "      <td>0.00016</td>\n",
       "      <td>0.77793</td>\n",
       "      <td>nan</td>\n",
       "      <td>0.01498</td>\n",
       "      <td>0.06070</td>\n",
       "      <td>0.00012</td>\n",
       "      <td>0.07396</td>\n",
       "      <td>0.00298</td>\n",
       "      <td>nan</td>\n",
       "      <td>0.00302</td>\n",
       "      <td>nan</td>\n",
       "      <td>0.00121</td>\n",
       "      <td>0.00121</td>\n",
       "      <td>0.00044</td>\n",
       "      <td>0.00604</td>\n",
       "      <td>0.00008</td>\n",
       "      <td>0.00572</td>\n",
       "      <td>0.00048</td>\n",
       "      <td>0.00052</td>\n",
       "      <td>0.00056</td>\n",
       "      <td>1.00000</td>\n",
       "    </tr>\n",
       "  </tbody>\n",
       "</table>\n",
       "</div>"
      ],
      "text/plain": [
       "   FLAG_DOCUMENT_2  FLAG_DOCUMENT_3  FLAG_DOCUMENT_4  FLAG_DOCUMENT_5  \\\n",
       "0          0.99984          0.22207          1.00000          0.98502   \n",
       "1          0.00016          0.77793              nan          0.01498   \n",
       "\n",
       "   FLAG_DOCUMENT_6  FLAG_DOCUMENT_7  FLAG_DOCUMENT_8  FLAG_DOCUMENT_9  \\\n",
       "0          0.93930          0.99988          0.92604          0.99702   \n",
       "1          0.06070          0.00012          0.07396          0.00298   \n",
       "\n",
       "   FLAG_DOCUMENT_10  FLAG_DOCUMENT_11  FLAG_DOCUMENT_12  FLAG_DOCUMENT_13  \\\n",
       "0           1.00000           0.99698           1.00000           0.99879   \n",
       "1               nan           0.00302               nan           0.00121   \n",
       "\n",
       "   FLAG_DOCUMENT_14  FLAG_DOCUMENT_15  FLAG_DOCUMENT_16  FLAG_DOCUMENT_17  \\\n",
       "0           0.99879           0.99956           0.99396           0.99992   \n",
       "1           0.00121           0.00044           0.00604           0.00008   \n",
       "\n",
       "   FLAG_DOCUMENT_18  FLAG_DOCUMENT_19  FLAG_DOCUMENT_20  FLAG_DOCUMENT_21  \\\n",
       "0           0.99428           0.99952           0.99948           0.99944   \n",
       "1           0.00572           0.00048           0.00052           0.00056   \n",
       "\n",
       "   TARGET  \n",
       "0     nan  \n",
       "1 1.00000  "
      ]
     },
     "execution_count": 87,
     "metadata": {},
     "output_type": "execute_result"
    }
   ],
   "source": [
    "df_value_counts_defautler"
   ]
  },
  {
   "cell_type": "code",
   "execution_count": 88,
   "metadata": {},
   "outputs": [
    {
     "data": {
      "text/html": [
       "<div>\n",
       "<style scoped>\n",
       "    .dataframe tbody tr th:only-of-type {\n",
       "        vertical-align: middle;\n",
       "    }\n",
       "\n",
       "    .dataframe tbody tr th {\n",
       "        vertical-align: top;\n",
       "    }\n",
       "\n",
       "    .dataframe thead th {\n",
       "        text-align: right;\n",
       "    }\n",
       "</style>\n",
       "<table border=\"1\" class=\"dataframe\">\n",
       "  <thead>\n",
       "    <tr style=\"text-align: right;\">\n",
       "      <th></th>\n",
       "      <th>FLAG_DOCUMENT_2</th>\n",
       "      <th>FLAG_DOCUMENT_3</th>\n",
       "      <th>FLAG_DOCUMENT_4</th>\n",
       "      <th>FLAG_DOCUMENT_5</th>\n",
       "      <th>FLAG_DOCUMENT_6</th>\n",
       "      <th>FLAG_DOCUMENT_7</th>\n",
       "      <th>FLAG_DOCUMENT_8</th>\n",
       "      <th>FLAG_DOCUMENT_9</th>\n",
       "      <th>FLAG_DOCUMENT_10</th>\n",
       "      <th>FLAG_DOCUMENT_11</th>\n",
       "      <th>FLAG_DOCUMENT_12</th>\n",
       "      <th>FLAG_DOCUMENT_13</th>\n",
       "      <th>FLAG_DOCUMENT_14</th>\n",
       "      <th>FLAG_DOCUMENT_15</th>\n",
       "      <th>FLAG_DOCUMENT_16</th>\n",
       "      <th>FLAG_DOCUMENT_17</th>\n",
       "      <th>FLAG_DOCUMENT_18</th>\n",
       "      <th>FLAG_DOCUMENT_19</th>\n",
       "      <th>FLAG_DOCUMENT_20</th>\n",
       "      <th>FLAG_DOCUMENT_21</th>\n",
       "      <th>TARGET</th>\n",
       "    </tr>\n",
       "  </thead>\n",
       "  <tbody>\n",
       "    <tr>\n",
       "      <th>0</th>\n",
       "      <td>0.99997</td>\n",
       "      <td>0.29594</td>\n",
       "      <td>0.99991</td>\n",
       "      <td>0.98488</td>\n",
       "      <td>0.90954</td>\n",
       "      <td>0.99980</td>\n",
       "      <td>0.91798</td>\n",
       "      <td>0.99602</td>\n",
       "      <td>0.99998</td>\n",
       "      <td>0.99601</td>\n",
       "      <td>0.99999</td>\n",
       "      <td>0.99627</td>\n",
       "      <td>0.99691</td>\n",
       "      <td>0.99872</td>\n",
       "      <td>0.98973</td>\n",
       "      <td>0.99972</td>\n",
       "      <td>0.99166</td>\n",
       "      <td>0.99940</td>\n",
       "      <td>0.99949</td>\n",
       "      <td>0.99969</td>\n",
       "      <td>1.00000</td>\n",
       "    </tr>\n",
       "    <tr>\n",
       "      <th>1</th>\n",
       "      <td>0.00003</td>\n",
       "      <td>0.70406</td>\n",
       "      <td>0.00009</td>\n",
       "      <td>0.01512</td>\n",
       "      <td>0.09046</td>\n",
       "      <td>0.00020</td>\n",
       "      <td>0.08202</td>\n",
       "      <td>0.00398</td>\n",
       "      <td>0.00002</td>\n",
       "      <td>0.00399</td>\n",
       "      <td>0.00001</td>\n",
       "      <td>0.00373</td>\n",
       "      <td>0.00309</td>\n",
       "      <td>0.00128</td>\n",
       "      <td>0.01027</td>\n",
       "      <td>0.00028</td>\n",
       "      <td>0.00834</td>\n",
       "      <td>0.00060</td>\n",
       "      <td>0.00051</td>\n",
       "      <td>0.00031</td>\n",
       "      <td>nan</td>\n",
       "    </tr>\n",
       "  </tbody>\n",
       "</table>\n",
       "</div>"
      ],
      "text/plain": [
       "   FLAG_DOCUMENT_2  FLAG_DOCUMENT_3  FLAG_DOCUMENT_4  FLAG_DOCUMENT_5  \\\n",
       "0          0.99997          0.29594          0.99991          0.98488   \n",
       "1          0.00003          0.70406          0.00009          0.01512   \n",
       "\n",
       "   FLAG_DOCUMENT_6  FLAG_DOCUMENT_7  FLAG_DOCUMENT_8  FLAG_DOCUMENT_9  \\\n",
       "0          0.90954          0.99980          0.91798          0.99602   \n",
       "1          0.09046          0.00020          0.08202          0.00398   \n",
       "\n",
       "   FLAG_DOCUMENT_10  FLAG_DOCUMENT_11  FLAG_DOCUMENT_12  FLAG_DOCUMENT_13  \\\n",
       "0           0.99998           0.99601           0.99999           0.99627   \n",
       "1           0.00002           0.00399           0.00001           0.00373   \n",
       "\n",
       "   FLAG_DOCUMENT_14  FLAG_DOCUMENT_15  FLAG_DOCUMENT_16  FLAG_DOCUMENT_17  \\\n",
       "0           0.99691           0.99872           0.98973           0.99972   \n",
       "1           0.00309           0.00128           0.01027           0.00028   \n",
       "\n",
       "   FLAG_DOCUMENT_18  FLAG_DOCUMENT_19  FLAG_DOCUMENT_20  FLAG_DOCUMENT_21  \\\n",
       "0           0.99166           0.99940           0.99949           0.99969   \n",
       "1           0.00834           0.00060           0.00051           0.00031   \n",
       "\n",
       "   TARGET  \n",
       "0 1.00000  \n",
       "1     nan  "
      ]
     },
     "execution_count": 88,
     "metadata": {},
     "output_type": "execute_result"
    }
   ],
   "source": [
    "df_value_counts_non_defaulter"
   ]
  },
  {
   "cell_type": "markdown",
   "metadata": {},
   "source": [
    "#### Observation about FLAG_DOCUMENT : \n",
    "**What is observed** : Above observation indicate that `FLAG_DOCUMENT_3` has is most submitted document, also have the highest correlation with `TARGET` all the other documents have a 5% submission ratio, and that remains same for both Defaulter and Non Defaulter.\n",
    "\n",
    "**Descision** : Since this field shows little to no variation with respect to Target field and there are other fields which can have genuine impact we'll not focus on `FLAG_DOCUMENT_XX` Fields"
   ]
  },
  {
   "cell_type": "code",
   "execution_count": 89,
   "metadata": {},
   "outputs": [],
   "source": [
    "cols_to_drop.extend(cols)\n",
    "cols=[]"
   ]
  },
  {
   "cell_type": "markdown",
   "metadata": {},
   "source": [
    "**HANDLING Last few columns left**"
   ]
  },
  {
   "cell_type": "code",
   "execution_count": 93,
   "metadata": {},
   "outputs": [
    {
     "name": "stdout",
     "output_type": "stream",
     "text": [
      "<class 'pandas.core.frame.DataFrame'>\n",
      "Int64Index: 307499 entries, 0 to 307510\n",
      "Data columns (total 122 columns):\n",
      " #   Column                        Non-Null Count   Dtype  \n",
      "---  ------                        --------------   -----  \n",
      " 0   SK_ID_CURR                    307499 non-null  int64  \n",
      " 1   TARGET                        307499 non-null  int64  \n",
      " 2   NAME_CONTRACT_TYPE            307499 non-null  object \n",
      " 3   CODE_GENDER                   307499 non-null  object \n",
      " 4   FLAG_OWN_CAR                  307499 non-null  object \n",
      " 5   FLAG_OWN_REALTY               307499 non-null  object \n",
      " 6   CNT_CHILDREN                  307499 non-null  int64  \n",
      " 7   AMT_INCOME_TOTAL              307499 non-null  float64\n",
      " 8   AMT_CREDIT                    307499 non-null  float64\n",
      " 9   AMT_ANNUITY                   307499 non-null  float64\n",
      " 10  AMT_GOODS_PRICE               307499 non-null  float64\n",
      " 11  NAME_TYPE_SUITE               307499 non-null  object \n",
      " 12  NAME_INCOME_TYPE              307499 non-null  object \n",
      " 13  NAME_EDUCATION_TYPE           307499 non-null  object \n",
      " 14  NAME_FAMILY_STATUS            307499 non-null  object \n",
      " 15  NAME_HOUSING_TYPE             307499 non-null  object \n",
      " 16  REGION_POPULATION_RELATIVE    307499 non-null  float64\n",
      " 17  DAYS_BIRTH                    307499 non-null  int64  \n",
      " 18  DAYS_EMPLOYED                 307499 non-null  int64  \n",
      " 19  DAYS_REGISTRATION             307499 non-null  float64\n",
      " 20  DAYS_ID_PUBLISH               307499 non-null  int64  \n",
      " 21  OWN_CAR_AGE                   307499 non-null  float64\n",
      " 22  FLAG_MOBIL                    307499 non-null  int64  \n",
      " 23  FLAG_EMP_PHONE                307499 non-null  int64  \n",
      " 24  FLAG_WORK_PHONE               307499 non-null  int64  \n",
      " 25  FLAG_CONT_MOBILE              307499 non-null  int64  \n",
      " 26  FLAG_PHONE                    307499 non-null  int64  \n",
      " 27  FLAG_EMAIL                    307499 non-null  int64  \n",
      " 28  OCCUPATION_TYPE               307499 non-null  object \n",
      " 29  CNT_FAM_MEMBERS               307499 non-null  float64\n",
      " 30  REGION_RATING_CLIENT          307499 non-null  int64  \n",
      " 31  REGION_RATING_CLIENT_W_CITY   307499 non-null  int64  \n",
      " 32  WEEKDAY_APPR_PROCESS_START    307499 non-null  object \n",
      " 33  HOUR_APPR_PROCESS_START       307499 non-null  int64  \n",
      " 34  REG_REGION_NOT_LIVE_REGION    307499 non-null  int64  \n",
      " 35  REG_REGION_NOT_WORK_REGION    307499 non-null  int64  \n",
      " 36  LIVE_REGION_NOT_WORK_REGION   307499 non-null  int64  \n",
      " 37  REG_CITY_NOT_LIVE_CITY        307499 non-null  int64  \n",
      " 38  REG_CITY_NOT_WORK_CITY        307499 non-null  int64  \n",
      " 39  LIVE_CITY_NOT_WORK_CITY       307499 non-null  int64  \n",
      " 40  ORGANIZATION_TYPE             307499 non-null  object \n",
      " 41  EXT_SOURCE_1                  134125 non-null  float64\n",
      " 42  EXT_SOURCE_2                  306839 non-null  float64\n",
      " 43  EXT_SOURCE_3                  246535 non-null  float64\n",
      " 44  APARTMENTS_AVG                151444 non-null  float64\n",
      " 45  BASEMENTAREA_AVG              127565 non-null  float64\n",
      " 46  YEARS_BEGINEXPLUATATION_AVG   157498 non-null  float64\n",
      " 47  YEARS_BUILD_AVG               103020 non-null  float64\n",
      " 48  COMMONAREA_AVG                92643 non-null   float64\n",
      " 49  ELEVATORS_AVG                 143614 non-null  float64\n",
      " 50  ENTRANCES_AVG                 152677 non-null  float64\n",
      " 51  FLOORSMAX_AVG                 154485 non-null  float64\n",
      " 52  FLOORSMIN_AVG                 98866 non-null   float64\n",
      " 53  LANDAREA_AVG                  124918 non-null  float64\n",
      " 54  LIVINGAPARTMENTS_AVG          97309 non-null   float64\n",
      " 55  LIVINGAREA_AVG                153155 non-null  float64\n",
      " 56  NONLIVINGAPARTMENTS_AVG       93994 non-null   float64\n",
      " 57  NONLIVINGAREA_AVG             137823 non-null  float64\n",
      " 58  APARTMENTS_MODE               151444 non-null  float64\n",
      " 59  BASEMENTAREA_MODE             127565 non-null  float64\n",
      " 60  YEARS_BEGINEXPLUATATION_MODE  157498 non-null  float64\n",
      " 61  YEARS_BUILD_MODE              103020 non-null  float64\n",
      " 62  COMMONAREA_MODE               92643 non-null   float64\n",
      " 63  ELEVATORS_MODE                143614 non-null  float64\n",
      " 64  ENTRANCES_MODE                152677 non-null  float64\n",
      " 65  FLOORSMAX_MODE                154485 non-null  float64\n",
      " 66  FLOORSMIN_MODE                98866 non-null   float64\n",
      " 67  LANDAREA_MODE                 124918 non-null  float64\n",
      " 68  LIVINGAPARTMENTS_MODE         97309 non-null   float64\n",
      " 69  LIVINGAREA_MODE               153155 non-null  float64\n",
      " 70  NONLIVINGAPARTMENTS_MODE      93994 non-null   float64\n",
      " 71  NONLIVINGAREA_MODE            137823 non-null  float64\n",
      " 72  APARTMENTS_MEDI               151444 non-null  float64\n",
      " 73  BASEMENTAREA_MEDI             127565 non-null  float64\n",
      " 74  YEARS_BEGINEXPLUATATION_MEDI  157498 non-null  float64\n",
      " 75  YEARS_BUILD_MEDI              103020 non-null  float64\n",
      " 76  COMMONAREA_MEDI               92643 non-null   float64\n",
      " 77  ELEVATORS_MEDI                143614 non-null  float64\n",
      " 78  ENTRANCES_MEDI                152677 non-null  float64\n",
      " 79  FLOORSMAX_MEDI                154485 non-null  float64\n",
      " 80  FLOORSMIN_MEDI                98866 non-null   float64\n",
      " 81  LANDAREA_MEDI                 124918 non-null  float64\n",
      " 82  LIVINGAPARTMENTS_MEDI         97309 non-null   float64\n",
      " 83  LIVINGAREA_MEDI               153155 non-null  float64\n",
      " 84  NONLIVINGAPARTMENTS_MEDI      93994 non-null   float64\n",
      " 85  NONLIVINGAREA_MEDI            137823 non-null  float64\n",
      " 86  FONDKAPREMONT_MODE            97213 non-null   object \n",
      " 87  HOUSETYPE_MODE                153208 non-null  object \n",
      " 88  TOTALAREA_MODE                159074 non-null  float64\n",
      " 89  WALLSMATERIAL_MODE            151164 non-null  object \n",
      " 90  EMERGENCYSTATE_MODE           161750 non-null  object \n",
      " 91  OBS_30_CNT_SOCIAL_CIRCLE      306478 non-null  float64\n",
      " 92  DEF_30_CNT_SOCIAL_CIRCLE      306478 non-null  float64\n",
      " 93  OBS_60_CNT_SOCIAL_CIRCLE      306478 non-null  float64\n",
      " 94  DEF_60_CNT_SOCIAL_CIRCLE      306478 non-null  float64\n",
      " 95  DAYS_LAST_PHONE_CHANGE        307498 non-null  float64\n",
      " 96  FLAG_DOCUMENT_2               307499 non-null  int64  \n",
      " 97  FLAG_DOCUMENT_3               307499 non-null  int64  \n",
      " 98  FLAG_DOCUMENT_4               307499 non-null  int64  \n",
      " 99  FLAG_DOCUMENT_5               307499 non-null  int64  \n",
      " 100 FLAG_DOCUMENT_6               307499 non-null  int64  \n",
      " 101 FLAG_DOCUMENT_7               307499 non-null  int64  \n",
      " 102 FLAG_DOCUMENT_8               307499 non-null  int64  \n",
      " 103 FLAG_DOCUMENT_9               307499 non-null  int64  \n",
      " 104 FLAG_DOCUMENT_10              307499 non-null  int64  \n",
      " 105 FLAG_DOCUMENT_11              307499 non-null  int64  \n",
      " 106 FLAG_DOCUMENT_12              307499 non-null  int64  \n",
      " 107 FLAG_DOCUMENT_13              307499 non-null  int64  \n",
      " 108 FLAG_DOCUMENT_14              307499 non-null  int64  \n",
      " 109 FLAG_DOCUMENT_15              307499 non-null  int64  \n",
      " 110 FLAG_DOCUMENT_16              307499 non-null  int64  \n",
      " 111 FLAG_DOCUMENT_17              307499 non-null  int64  \n",
      " 112 FLAG_DOCUMENT_18              307499 non-null  int64  \n",
      " 113 FLAG_DOCUMENT_19              307499 non-null  int64  \n",
      " 114 FLAG_DOCUMENT_20              307499 non-null  int64  \n",
      " 115 FLAG_DOCUMENT_21              307499 non-null  int64  \n",
      " 116 AMT_REQ_CREDIT_BUREAU_HOUR    265981 non-null  float64\n",
      " 117 AMT_REQ_CREDIT_BUREAU_DAY     265981 non-null  float64\n",
      " 118 AMT_REQ_CREDIT_BUREAU_WEEK    265981 non-null  float64\n",
      " 119 AMT_REQ_CREDIT_BUREAU_MON     265981 non-null  float64\n",
      " 120 AMT_REQ_CREDIT_BUREAU_QRT     265981 non-null  float64\n",
      " 121 AMT_REQ_CREDIT_BUREAU_YEAR    265981 non-null  float64\n",
      "dtypes: float64(65), int64(41), object(16)\n",
      "memory usage: 298.6+ MB\n"
     ]
    }
   ],
   "source": [
    "data_application.loc[:,data_application.filter]"
   ]
  },
  {
   "cell_type": "code",
   "execution_count": 119,
   "metadata": {},
   "outputs": [
    {
     "data": {
      "text/plain": [
       "OBS_30_CNT_SOCIAL_CIRCLE    1021\n",
       "DEF_30_CNT_SOCIAL_CIRCLE    1021\n",
       "OBS_60_CNT_SOCIAL_CIRCLE    1021\n",
       "DEF_60_CNT_SOCIAL_CIRCLE    1021\n",
       "TARGET                         0\n",
       "dtype: int64"
      ]
     },
     "execution_count": 119,
     "metadata": {},
     "output_type": "execute_result"
    }
   ],
   "source": [
    "data_application.loc[:,['OBS_30_CNT_SOCIAL_CIRCLE','DEF_30_CNT_SOCIAL_CIRCLE','OBS_60_CNT_SOCIAL_CIRCLE','DEF_60_CNT_SOCIAL_CIRCLE','TARGET']].isnull().sum()"
   ]
  },
  {
   "cell_type": "code",
   "execution_count": 107,
   "metadata": {},
   "outputs": [
    {
     "data": {
      "text/html": [
       "<div>\n",
       "<style scoped>\n",
       "    .dataframe tbody tr th:only-of-type {\n",
       "        vertical-align: middle;\n",
       "    }\n",
       "\n",
       "    .dataframe tbody tr th {\n",
       "        vertical-align: top;\n",
       "    }\n",
       "\n",
       "    .dataframe thead th {\n",
       "        text-align: right;\n",
       "    }\n",
       "</style>\n",
       "<table border=\"1\" class=\"dataframe\">\n",
       "  <thead>\n",
       "    <tr style=\"text-align: right;\">\n",
       "      <th></th>\n",
       "      <th>OBS_30_CNT_SOCIAL_CIRCLE</th>\n",
       "      <th>DEF_30_CNT_SOCIAL_CIRCLE</th>\n",
       "      <th>OBS_60_CNT_SOCIAL_CIRCLE</th>\n",
       "      <th>DEF_60_CNT_SOCIAL_CIRCLE</th>\n",
       "      <th>TARGET</th>\n",
       "    </tr>\n",
       "  </thead>\n",
       "  <tbody>\n",
       "    <tr>\n",
       "      <th>count</th>\n",
       "      <td>306478.00000</td>\n",
       "      <td>306478.00000</td>\n",
       "      <td>306478.00000</td>\n",
       "      <td>306478.00000</td>\n",
       "      <td>307499.00000</td>\n",
       "    </tr>\n",
       "    <tr>\n",
       "      <th>mean</th>\n",
       "      <td>1.42229</td>\n",
       "      <td>0.14343</td>\n",
       "      <td>1.40534</td>\n",
       "      <td>0.10005</td>\n",
       "      <td>0.08073</td>\n",
       "    </tr>\n",
       "    <tr>\n",
       "      <th>std</th>\n",
       "      <td>2.40102</td>\n",
       "      <td>0.44671</td>\n",
       "      <td>2.37984</td>\n",
       "      <td>0.36230</td>\n",
       "      <td>0.27242</td>\n",
       "    </tr>\n",
       "    <tr>\n",
       "      <th>min</th>\n",
       "      <td>0.00000</td>\n",
       "      <td>0.00000</td>\n",
       "      <td>0.00000</td>\n",
       "      <td>0.00000</td>\n",
       "      <td>0.00000</td>\n",
       "    </tr>\n",
       "    <tr>\n",
       "      <th>25%</th>\n",
       "      <td>0.00000</td>\n",
       "      <td>0.00000</td>\n",
       "      <td>0.00000</td>\n",
       "      <td>0.00000</td>\n",
       "      <td>0.00000</td>\n",
       "    </tr>\n",
       "    <tr>\n",
       "      <th>50%</th>\n",
       "      <td>0.00000</td>\n",
       "      <td>0.00000</td>\n",
       "      <td>0.00000</td>\n",
       "      <td>0.00000</td>\n",
       "      <td>0.00000</td>\n",
       "    </tr>\n",
       "    <tr>\n",
       "      <th>75%</th>\n",
       "      <td>2.00000</td>\n",
       "      <td>0.00000</td>\n",
       "      <td>2.00000</td>\n",
       "      <td>0.00000</td>\n",
       "      <td>0.00000</td>\n",
       "    </tr>\n",
       "    <tr>\n",
       "      <th>max</th>\n",
       "      <td>348.00000</td>\n",
       "      <td>34.00000</td>\n",
       "      <td>344.00000</td>\n",
       "      <td>24.00000</td>\n",
       "      <td>1.00000</td>\n",
       "    </tr>\n",
       "  </tbody>\n",
       "</table>\n",
       "</div>"
      ],
      "text/plain": [
       "       OBS_30_CNT_SOCIAL_CIRCLE  DEF_30_CNT_SOCIAL_CIRCLE  \\\n",
       "count              306478.00000              306478.00000   \n",
       "mean                    1.42229                   0.14343   \n",
       "std                     2.40102                   0.44671   \n",
       "min                     0.00000                   0.00000   \n",
       "25%                     0.00000                   0.00000   \n",
       "50%                     0.00000                   0.00000   \n",
       "75%                     2.00000                   0.00000   \n",
       "max                   348.00000                  34.00000   \n",
       "\n",
       "       OBS_60_CNT_SOCIAL_CIRCLE  DEF_60_CNT_SOCIAL_CIRCLE       TARGET  \n",
       "count              306478.00000              306478.00000 307499.00000  \n",
       "mean                    1.40534                   0.10005      0.08073  \n",
       "std                     2.37984                   0.36230      0.27242  \n",
       "min                     0.00000                   0.00000      0.00000  \n",
       "25%                     0.00000                   0.00000      0.00000  \n",
       "50%                     0.00000                   0.00000      0.00000  \n",
       "75%                     2.00000                   0.00000      0.00000  \n",
       "max                   344.00000                  24.00000      1.00000  "
      ]
     },
     "execution_count": 107,
     "metadata": {},
     "output_type": "execute_result"
    }
   ],
   "source": [
    "data_application.loc[:,['OBS_30_CNT_SOCIAL_CIRCLE','DEF_30_CNT_SOCIAL_CIRCLE','OBS_60_CNT_SOCIAL_CIRCLE','DEF_60_CNT_SOCIAL_CIRCLE','TARGET']].describe()"
   ]
  },
  {
   "cell_type": "markdown",
   "metadata": {},
   "source": [
    "As can be seen from the above chart, most of the values are 0, we'll be imputing the null with 0"
   ]
  },
  {
   "cell_type": "code",
   "execution_count": 118,
   "metadata": {},
   "outputs": [
    {
     "data": {
      "text/plain": [
       "<matplotlib.axes._subplots.AxesSubplot at 0x26b05b59640>"
      ]
     },
     "execution_count": 118,
     "metadata": {},
     "output_type": "execute_result"
    },
    {
     "data": {
      "image/png": "[encoded data removed]",
      "text/plain": [
       "<Figure size 432x288 with 1 Axes>"
      ]
     },
     "metadata": {
      "needs_background": "light"
     },
     "output_type": "display_data"
    }
   ],
   "source": [
    "data_application.loc[:,\\\n",
    "                     ['OBS_30_CNT_SOCIAL_CIRCLE','DEF_30_CNT_SOCIAL_CIRCLE',\\\n",
    "                      'OBS_60_CNT_SOCIAL_CIRCLE','DEF_60_CNT_SOCIAL_CIRCLE','TARGET']].groupby('TARGET').mean().plot.bar()"
   ]
  },
  {
   "cell_type": "code",
   "execution_count": 108,
   "metadata": {},
   "outputs": [
    {
     "data": {
      "text/plain": [
       "OBS_30_CNT_SOCIAL_CIRCLE   0.00913\n",
       "DEF_30_CNT_SOCIAL_CIRCLE   0.03224\n",
       "OBS_60_CNT_SOCIAL_CIRCLE   0.00902\n",
       "DEF_60_CNT_SOCIAL_CIRCLE   0.03127\n",
       "TARGET                     1.00000\n",
       "Name: TARGET, dtype: float64"
      ]
     },
     "execution_count": 108,
     "metadata": {},
     "output_type": "execute_result"
    }
   ],
   "source": [
    "data_application.loc[:,['OBS_30_CNT_SOCIAL_CIRCLE','DEF_30_CNT_SOCIAL_CIRCLE','OBS_60_CNT_SOCIAL_CIRCLE','DEF_60_CNT_SOCIAL_CIRCLE','TARGET']].corr()['TARGET']"
   ]
  },
  {
   "cell_type": "code",
   "execution_count": null,
   "metadata": {},
   "outputs": [],
   "source": [
    "application_data = data_application.drop(cols_to_drop,axis=1)"
   ]
  },
  {
   "cell_type": "code",
   "execution_count": null,
   "metadata": {},
   "outputs": [],
   "source": [
    "application_data.corr()['TARGET']*100"
   ]
  },
  {
   "cell_type": "code",
   "execution_count": null,
   "metadata": {},
   "outputs": [],
   "source": [
    "data_application.corr()['TARGET']*100"
   ]
  },
  {
   "cell_type": "markdown",
   "metadata": {},
   "source": [
    "# DATA CLEANING AND FEATURE ENGINEERING\n",
    "\n",
    "1. Converting columns to their proper data type.\n",
    "2. Rounding off the data.\n",
    "3. Converting Numerical to categorical when required.\n",
    "4. \n"
   ]
  },
  {
   "cell_type": "code",
   "execution_count": null,
   "metadata": {},
   "outputs": [],
   "source": []
  },
  {
   "cell_type": "markdown",
   "metadata": {},
   "source": [
    "## Data Cleaning and preparation for previous_application_data"
   ]
  },
  {
   "cell_type": "markdown",
   "metadata": {},
   "source": [
    "1. Drop columns with null values with null > 30%\n",
    "2. Check if there are outliers and outlier limits"
   ]
  },
  {
   "cell_type": "code",
   "execution_count": null,
   "metadata": {},
   "outputs": [],
   "source": []
  },
  {
   "cell_type": "code",
   "execution_count": null,
   "metadata": {},
   "outputs": [],
   "source": []
  },
  {
   "cell_type": "markdown",
   "metadata": {},
   "source": [
    "# DATA ANALYSIS :\n",
    "\n",
    "Following steps we'll be taking for the data analysis\n",
    "\n",
    "* Check data imbalance and find imbalance percentage\n",
    "* Categorize data with `TARGET` values {0,1}\n",
    "* Univariate Analysis \n",
    "* Correlation between columns\n",
    "* BiVariate Analysis\n",
    "* MultiVariate Analysis\n",
    "\n",
    "* Join perv to current data\n",
    "* Based on the results from prev analysis, try to infer and create hypothesis"
   ]
  },
  {
   "cell_type": "code",
   "execution_count": null,
   "metadata": {},
   "outputs": [],
   "source": []
  },
  {
   "cell_type": "code",
   "execution_count": null,
   "metadata": {},
   "outputs": [],
   "source": []
  },
  {
   "cell_type": "markdown",
   "metadata": {},
   "source": [
    "#  PRESENTATION AND RECOMMENDATIONS :\n",
    "\n",
    "* Purpose\n",
    "* Steps Involved\n",
    "* Data Analysis performed\n",
    "* Graphs from Univariate, BiVariate and Multivariate analysis\n",
    "* Recommendations derived based from the analysis based on case study : Parameters that affect the loan defaulting."
   ]
  },
  {
   "cell_type": "code",
   "execution_count": null,
   "metadata": {},
   "outputs": [],
   "source": []
  },
  {
   "cell_type": "code",
   "execution_count": null,
   "metadata": {},
   "outputs": [],
   "source": []
  },
  {
   "cell_type": "markdown",
   "metadata": {},
   "source": [
    "`previous_application.csv` contains information about the client’s previous loan data. It contains the data whether the previous application had been Approved, Cancelled, Refused or Unused offer."
   ]
  },
  {
   "cell_type": "code",
   "execution_count": null,
   "metadata": {},
   "outputs": [],
   "source": [
    "data_previous = pd.read_csv('previous_application.csv')"
   ]
  },
  {
   "cell_type": "code",
   "execution_count": null,
   "metadata": {},
   "outputs": [],
   "source": [
    "data_previous.shape"
   ]
  },
  {
   "cell_type": "code",
   "execution_count": null,
   "metadata": {},
   "outputs": [],
   "source": [
    "len(data_previous.columns[data_previous.isna().any()].tolist())"
   ]
  },
  {
   "cell_type": "code",
   "execution_count": null,
   "metadata": {},
   "outputs": [],
   "source": [
    "data_application.isnull().sum()"
   ]
  },
  {
   "cell_type": "code",
   "execution_count": null,
   "metadata": {},
   "outputs": [],
   "source": []
  },
  {
   "cell_type": "code",
   "execution_count": null,
   "metadata": {},
   "outputs": [],
   "source": []
  },
  {
   "cell_type": "code",
   "execution_count": null,
   "metadata": {},
   "outputs": [],
   "source": []
  },
  {
   "cell_type": "code",
   "execution_count": null,
   "metadata": {},
   "outputs": [],
   "source": []
  },
  {
   "cell_type": "code",
   "execution_count": null,
   "metadata": {},
   "outputs": [],
   "source": []
  }
 ],
 "metadata": {
  "kernelspec": {
   "display_name": "Python 3",
   "language": "python",
   "name": "python3"
  },
  "language_info": {
   "codemirror_mode": {
    "name": "ipython",
    "version": 3
   },
   "file_extension": ".py",
   "mimetype": "text/x-python",
   "name": "python",
   "nbconvert_exporter": "python",
   "pygments_lexer": "ipython3",
   "version": "3.8.3"
  }
 },
 "nbformat": 4,
 "nbformat_minor": 4
}
