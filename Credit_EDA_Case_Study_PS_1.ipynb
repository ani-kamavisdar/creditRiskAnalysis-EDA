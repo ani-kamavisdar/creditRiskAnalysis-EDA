{
 "cells": [
  {
   "cell_type": "markdown",
   "metadata": {},
   "source": [
    "#  CREDIT EDA CASE STUDY\n",
    "\n",
    "\n",
    "### Business Case :\n",
    "\n",
    "The loan providing companies find it hard to give loans to the people due to their insufficient or non-existent credit history. Because of that, some consumers use it as their advantage by becoming a defaulter. Suppose you work for a consumer finance company which specialises in lending various types of loans to urban customers.\n",
    "\n",
    "Use EDA to analyse the patterns present in the data. This will ensure that the applicants capable of repaying the loan are not rejected.\n",
    "\n",
    "When the company receives a loan application, the company has to decide for loan approval based on the applicant’s profile. Two types of risks are associated with the bank’s decision:\n",
    "\n",
    "* If the applicant is likely to repay the loan, then not approving the loan results in a loss of business to the company\n",
    "\n",
    "* If the applicant is not likely to repay the loan, i.e. he/she is likely to default, then approving the loan may lead to a financial loss for the company.\n"
   ]
  },
  {
   "cell_type": "markdown",
   "metadata": {},
   "source": [
    "## Understanding the Data :\n",
    "\n",
    "The data given below contains the information about the loan application at the time of applying for the loan. It contains two types of scenarios:\n",
    "\n",
    "* The client with payment difficulties: he/she had late payment more than X days on at least one of the first Y instalments of the loan in our sample,\n",
    "\n",
    "* All other cases: All other cases when the payment is paid on time."
   ]
  },
  {
   "cell_type": "markdown",
   "metadata": {},
   "source": [
    "### Possible OutComes\n",
    "\n",
    "When a client applies for a loan, there are four types of decisions that could be taken by the client/company):\n",
    "\n",
    "1. Approved: The Company has approved loan Application\n",
    "\n",
    "2. Cancelled: The client cancelled the application sometime during approval. Either the client changed her/his mind about the loan or in some cases due to a higher risk of the client he received worse pricing which he did not want.\n",
    "\n",
    "3. Refused: The company had rejected the loan (because the client does not meet their requirements etc.).\n",
    "\n",
    "4. Unused offer:  Loan has been cancelled by the client but on different stages of the process.\n",
    "\n",
    "Need to use EDA to understand how consumer attributes and loan attributes influence the tendency of default.\n"
   ]
  },
  {
   "cell_type": "markdown",
   "metadata": {},
   "source": [
    "## Business Objective\n",
    "\n",
    "\n",
    "This case study aims to identify patterns which indicate if a client has difficulty paying their installments which may be used for taking actions such as denying the loan, reducing the amount of loan, lending (to risky applicants) at a higher interest rate, etc. This will ensure that the consumers capable of repaying the loan are not rejected. Identification of such applicants using EDA is the aim of this case study.\n",
    "\n",
    " \n",
    "\n",
    "In other words, the company wants to understand the driving factors (or driver variables) behind loan default, i.e. the variables which are strong indicators of default.  The company can utilise this knowledge for its portfolio and risk assessment.\n",
    "\n",
    "To develop your understanding of the domain, you are advised to independently research a little about risk analytics - understanding the types of variables and their significance should be enough).\n",
    "\n",
    " \n"
   ]
  },
  {
   "cell_type": "markdown",
   "metadata": {},
   "source": [
    "##  About the data\n",
    "\n",
    "\n",
    "1. 'application_data.csv'  contains all the information of the client at the time of application.\n",
    "The data is about whether a client has payment difficulties.\n",
    "\n",
    " \n",
    "\n",
    "2. 'previous_application.csv' contains information about the client’s previous loan data. It contains the data whether the previous application had been Approved, Cancelled, Refused or Unused offer.\n",
    "\n",
    " \n",
    "\n",
    "3. 'columns_description.csv' is data dictionary which describes the meaning of the variables."
   ]
  },
  {
   "cell_type": "markdown",
   "metadata": {},
   "source": [
    "###### Supressing warnings"
   ]
  },
  {
   "cell_type": "code",
   "execution_count": 1,
   "metadata": {},
   "outputs": [],
   "source": [
    "import warnings\n",
    "warnings.filterwarnings('ignore')"
   ]
  },
  {
   "cell_type": "markdown",
   "metadata": {},
   "source": [
    "#### Importing Required Libraries :"
   ]
  },
  {
   "cell_type": "code",
   "execution_count": 2,
   "metadata": {},
   "outputs": [],
   "source": [
    "import pandas as pd\n",
    "import numpy as np\n",
    "import matplotlib.pyplot as plt\n",
    "import seaborn as sns\n",
    "import scipy as sp"
   ]
  },
  {
   "cell_type": "markdown",
   "metadata": {},
   "source": [
    "#### Changing display formats"
   ]
  },
  {
   "cell_type": "code",
   "execution_count": 3,
   "metadata": {},
   "outputs": [],
   "source": [
    "pd.set_option('display.max_columns', None)\n",
    "pd.set_option('display.max_rows', 200)\n",
    "pd.set_option('display.float_format', lambda x: '%.2f' % x)"
   ]
  },
  {
   "cell_type": "code",
   "execution_count": 4,
   "metadata": {},
   "outputs": [],
   "source": [
    "about = pd.read_csv('columns_description.csv',encoding='iso-8859-1')"
   ]
  },
  {
   "cell_type": "markdown",
   "metadata": {},
   "source": [
    "`application_data.csv` contains all the information of the client at the time of application. The data is about whether a client has payment difficulties."
   ]
  },
  {
   "cell_type": "code",
   "execution_count": 5,
   "metadata": {},
   "outputs": [],
   "source": [
    "data_application = pd.read_csv('application_data.csv')"
   ]
  },
  {
   "cell_type": "code",
   "execution_count": 6,
   "metadata": {},
   "outputs": [
    {
     "data": {
      "text/plain": [
       "(307511, 122)"
      ]
     },
     "execution_count": 6,
     "metadata": {},
     "output_type": "execute_result"
    }
   ],
   "source": [
    "data_application.shape"
   ]
  },
  {
   "cell_type": "markdown",
   "metadata": {},
   "source": [
    "### CHECKING Info on the data loaded"
   ]
  },
  {
   "cell_type": "code",
   "execution_count": 7,
   "metadata": {},
   "outputs": [
    {
     "name": "stdout",
     "output_type": "stream",
     "text": [
      "<class 'pandas.core.frame.DataFrame'>\n",
      "RangeIndex: 307511 entries, 0 to 307510\n",
      "Data columns (total 122 columns):\n",
      " #   Column                        Non-Null Count   Dtype  \n",
      "---  ------                        --------------   -----  \n",
      " 0   SK_ID_CURR                    307511 non-null  int64  \n",
      " 1   TARGET                        307511 non-null  int64  \n",
      " 2   NAME_CONTRACT_TYPE            307511 non-null  object \n",
      " 3   CODE_GENDER                   307511 non-null  object \n",
      " 4   FLAG_OWN_CAR                  307511 non-null  object \n",
      " 5   FLAG_OWN_REALTY               307511 non-null  object \n",
      " 6   CNT_CHILDREN                  307511 non-null  int64  \n",
      " 7   AMT_INCOME_TOTAL              307511 non-null  float64\n",
      " 8   AMT_CREDIT                    307511 non-null  float64\n",
      " 9   AMT_ANNUITY                   307499 non-null  float64\n",
      " 10  AMT_GOODS_PRICE               307233 non-null  float64\n",
      " 11  NAME_TYPE_SUITE               306219 non-null  object \n",
      " 12  NAME_INCOME_TYPE              307511 non-null  object \n",
      " 13  NAME_EDUCATION_TYPE           307511 non-null  object \n",
      " 14  NAME_FAMILY_STATUS            307511 non-null  object \n",
      " 15  NAME_HOUSING_TYPE             307511 non-null  object \n",
      " 16  REGION_POPULATION_RELATIVE    307511 non-null  float64\n",
      " 17  DAYS_BIRTH                    307511 non-null  int64  \n",
      " 18  DAYS_EMPLOYED                 307511 non-null  int64  \n",
      " 19  DAYS_REGISTRATION             307511 non-null  float64\n",
      " 20  DAYS_ID_PUBLISH               307511 non-null  int64  \n",
      " 21  OWN_CAR_AGE                   104582 non-null  float64\n",
      " 22  FLAG_MOBIL                    307511 non-null  int64  \n",
      " 23  FLAG_EMP_PHONE                307511 non-null  int64  \n",
      " 24  FLAG_WORK_PHONE               307511 non-null  int64  \n",
      " 25  FLAG_CONT_MOBILE              307511 non-null  int64  \n",
      " 26  FLAG_PHONE                    307511 non-null  int64  \n",
      " 27  FLAG_EMAIL                    307511 non-null  int64  \n",
      " 28  OCCUPATION_TYPE               211120 non-null  object \n",
      " 29  CNT_FAM_MEMBERS               307509 non-null  float64\n",
      " 30  REGION_RATING_CLIENT          307511 non-null  int64  \n",
      " 31  REGION_RATING_CLIENT_W_CITY   307511 non-null  int64  \n",
      " 32  WEEKDAY_APPR_PROCESS_START    307511 non-null  object \n",
      " 33  HOUR_APPR_PROCESS_START       307511 non-null  int64  \n",
      " 34  REG_REGION_NOT_LIVE_REGION    307511 non-null  int64  \n",
      " 35  REG_REGION_NOT_WORK_REGION    307511 non-null  int64  \n",
      " 36  LIVE_REGION_NOT_WORK_REGION   307511 non-null  int64  \n",
      " 37  REG_CITY_NOT_LIVE_CITY        307511 non-null  int64  \n",
      " 38  REG_CITY_NOT_WORK_CITY        307511 non-null  int64  \n",
      " 39  LIVE_CITY_NOT_WORK_CITY       307511 non-null  int64  \n",
      " 40  ORGANIZATION_TYPE             307511 non-null  object \n",
      " 41  EXT_SOURCE_1                  134133 non-null  float64\n",
      " 42  EXT_SOURCE_2                  306851 non-null  float64\n",
      " 43  EXT_SOURCE_3                  246546 non-null  float64\n",
      " 44  APARTMENTS_AVG                151450 non-null  float64\n",
      " 45  BASEMENTAREA_AVG              127568 non-null  float64\n",
      " 46  YEARS_BEGINEXPLUATATION_AVG   157504 non-null  float64\n",
      " 47  YEARS_BUILD_AVG               103023 non-null  float64\n",
      " 48  COMMONAREA_AVG                92646 non-null   float64\n",
      " 49  ELEVATORS_AVG                 143620 non-null  float64\n",
      " 50  ENTRANCES_AVG                 152683 non-null  float64\n",
      " 51  FLOORSMAX_AVG                 154491 non-null  float64\n",
      " 52  FLOORSMIN_AVG                 98869 non-null   float64\n",
      " 53  LANDAREA_AVG                  124921 non-null  float64\n",
      " 54  LIVINGAPARTMENTS_AVG          97312 non-null   float64\n",
      " 55  LIVINGAREA_AVG                153161 non-null  float64\n",
      " 56  NONLIVINGAPARTMENTS_AVG       93997 non-null   float64\n",
      " 57  NONLIVINGAREA_AVG             137829 non-null  float64\n",
      " 58  APARTMENTS_MODE               151450 non-null  float64\n",
      " 59  BASEMENTAREA_MODE             127568 non-null  float64\n",
      " 60  YEARS_BEGINEXPLUATATION_MODE  157504 non-null  float64\n",
      " 61  YEARS_BUILD_MODE              103023 non-null  float64\n",
      " 62  COMMONAREA_MODE               92646 non-null   float64\n",
      " 63  ELEVATORS_MODE                143620 non-null  float64\n",
      " 64  ENTRANCES_MODE                152683 non-null  float64\n",
      " 65  FLOORSMAX_MODE                154491 non-null  float64\n",
      " 66  FLOORSMIN_MODE                98869 non-null   float64\n",
      " 67  LANDAREA_MODE                 124921 non-null  float64\n",
      " 68  LIVINGAPARTMENTS_MODE         97312 non-null   float64\n",
      " 69  LIVINGAREA_MODE               153161 non-null  float64\n",
      " 70  NONLIVINGAPARTMENTS_MODE      93997 non-null   float64\n",
      " 71  NONLIVINGAREA_MODE            137829 non-null  float64\n",
      " 72  APARTMENTS_MEDI               151450 non-null  float64\n",
      " 73  BASEMENTAREA_MEDI             127568 non-null  float64\n",
      " 74  YEARS_BEGINEXPLUATATION_MEDI  157504 non-null  float64\n",
      " 75  YEARS_BUILD_MEDI              103023 non-null  float64\n",
      " 76  COMMONAREA_MEDI               92646 non-null   float64\n",
      " 77  ELEVATORS_MEDI                143620 non-null  float64\n",
      " 78  ENTRANCES_MEDI                152683 non-null  float64\n",
      " 79  FLOORSMAX_MEDI                154491 non-null  float64\n",
      " 80  FLOORSMIN_MEDI                98869 non-null   float64\n",
      " 81  LANDAREA_MEDI                 124921 non-null  float64\n",
      " 82  LIVINGAPARTMENTS_MEDI         97312 non-null   float64\n",
      " 83  LIVINGAREA_MEDI               153161 non-null  float64\n",
      " 84  NONLIVINGAPARTMENTS_MEDI      93997 non-null   float64\n",
      " 85  NONLIVINGAREA_MEDI            137829 non-null  float64\n",
      " 86  FONDKAPREMONT_MODE            97216 non-null   object \n",
      " 87  HOUSETYPE_MODE                153214 non-null  object \n",
      " 88  TOTALAREA_MODE                159080 non-null  float64\n",
      " 89  WALLSMATERIAL_MODE            151170 non-null  object \n",
      " 90  EMERGENCYSTATE_MODE           161756 non-null  object \n",
      " 91  OBS_30_CNT_SOCIAL_CIRCLE      306490 non-null  float64\n",
      " 92  DEF_30_CNT_SOCIAL_CIRCLE      306490 non-null  float64\n",
      " 93  OBS_60_CNT_SOCIAL_CIRCLE      306490 non-null  float64\n",
      " 94  DEF_60_CNT_SOCIAL_CIRCLE      306490 non-null  float64\n",
      " 95  DAYS_LAST_PHONE_CHANGE        307510 non-null  float64\n",
      " 96  FLAG_DOCUMENT_2               307511 non-null  int64  \n",
      " 97  FLAG_DOCUMENT_3               307511 non-null  int64  \n",
      " 98  FLAG_DOCUMENT_4               307511 non-null  int64  \n",
      " 99  FLAG_DOCUMENT_5               307511 non-null  int64  \n",
      " 100 FLAG_DOCUMENT_6               307511 non-null  int64  \n",
      " 101 FLAG_DOCUMENT_7               307511 non-null  int64  \n",
      " 102 FLAG_DOCUMENT_8               307511 non-null  int64  \n",
      " 103 FLAG_DOCUMENT_9               307511 non-null  int64  \n",
      " 104 FLAG_DOCUMENT_10              307511 non-null  int64  \n",
      " 105 FLAG_DOCUMENT_11              307511 non-null  int64  \n",
      " 106 FLAG_DOCUMENT_12              307511 non-null  int64  \n",
      " 107 FLAG_DOCUMENT_13              307511 non-null  int64  \n",
      " 108 FLAG_DOCUMENT_14              307511 non-null  int64  \n",
      " 109 FLAG_DOCUMENT_15              307511 non-null  int64  \n",
      " 110 FLAG_DOCUMENT_16              307511 non-null  int64  \n",
      " 111 FLAG_DOCUMENT_17              307511 non-null  int64  \n",
      " 112 FLAG_DOCUMENT_18              307511 non-null  int64  \n",
      " 113 FLAG_DOCUMENT_19              307511 non-null  int64  \n",
      " 114 FLAG_DOCUMENT_20              307511 non-null  int64  \n",
      " 115 FLAG_DOCUMENT_21              307511 non-null  int64  \n",
      " 116 AMT_REQ_CREDIT_BUREAU_HOUR    265992 non-null  float64\n",
      " 117 AMT_REQ_CREDIT_BUREAU_DAY     265992 non-null  float64\n",
      " 118 AMT_REQ_CREDIT_BUREAU_WEEK    265992 non-null  float64\n",
      " 119 AMT_REQ_CREDIT_BUREAU_MON     265992 non-null  float64\n",
      " 120 AMT_REQ_CREDIT_BUREAU_QRT     265992 non-null  float64\n",
      " 121 AMT_REQ_CREDIT_BUREAU_YEAR    265992 non-null  float64\n",
      "dtypes: float64(65), int64(41), object(16)\n",
      "memory usage: 286.2+ MB\n"
     ]
    }
   ],
   "source": [
    "data_application.info(verbose=True, null_counts=True)"
   ]
  },
  {
   "cell_type": "markdown",
   "metadata": {},
   "source": [
    "# DATA UNDERSTANDING AND PREPARATION"
   ]
  },
  {
   "cell_type": "markdown",
   "metadata": {},
   "source": [
    "#### Checking for percentage of null values \n",
    "\n",
    "This analysis will yeild information about the data in following ways :\n",
    "\n",
    "* We'll use this to identify what kind of data is missing, and whether its valid or not.\n",
    "0. Check the imbalance percentage of data.\n",
    "1. Checking percentage of null value.\n",
    "2. Dropping columns with null > 45%\n",
    "3. Impute null values with null < 20%\n",
    "4. Data with null between 20-45% we'll have find correlation to different column and impute if necessary and important for `TARGET` variable\n",
    "5. Drop duplicates if present\n",
    "\n",
    "After Check, we'll have subset as follwing :\n",
    "\n",
    "`cols_to_drop` : These will be the columns we'll drop, based on the type of values they hold.\n",
    "\n",
    "`cols_to_impute` : These will be the columns we'll need to impute the null values using central tendencies\n",
    "\n",
    "`rows_dropped` : Total number of rows dropped from the main dataset\n",
    "\n",
    "***Note*** : Idea behind creating list of different column categories is to have it handy to cross check whenever required."
   ]
  },
  {
   "cell_type": "code",
   "execution_count": 8,
   "metadata": {},
   "outputs": [],
   "source": [
    "cols_to_drop = []\n",
    "cols_to_impute = []\n",
    "rows_dropped = 0"
   ]
  },
  {
   "cell_type": "markdown",
   "metadata": {},
   "source": [
    "**Checking imbalance of data**"
   ]
  },
  {
   "cell_type": "code",
   "execution_count": 9,
   "metadata": {},
   "outputs": [
    {
     "data": {
      "text/plain": [
       "0   0.92\n",
       "1   0.08\n",
       "Name: TARGET, dtype: float64"
      ]
     },
     "execution_count": 9,
     "metadata": {},
     "output_type": "execute_result"
    }
   ],
   "source": [
    "data_application['TARGET'].value_counts(normalize=True)"
   ]
  },
  {
   "cell_type": "code",
   "execution_count": 10,
   "metadata": {},
   "outputs": [
    {
     "data": {
      "image/png": "[encoded data removed]",
      "text/plain": [
       "<Figure size 432x288 with 1 Axes>"
      ]
     },
     "metadata": {
      "needs_background": "light"
     },
     "output_type": "display_data"
    }
   ],
   "source": [
    "sns.countplot(data_application['TARGET'])\n",
    "plt.show()"
   ]
  },
  {
   "cell_type": "markdown",
   "metadata": {},
   "source": [
    "Note : The data is heavily imbalance towards `TARGET` = 0, until this imbalance is resolved we will refrain to check correlation of any attribute with `TARGET` variable as it will be heavily biased towards 0"
   ]
  },
  {
   "cell_type": "markdown",
   "metadata": {},
   "source": [
    "#### Find Percentage null values"
   ]
  },
  {
   "cell_type": "code",
   "execution_count": 11,
   "metadata": {},
   "outputs": [
    {
     "data": {
      "text/plain": [
       "SK_ID_CURR                      0.00\n",
       "TARGET                          0.00\n",
       "NAME_CONTRACT_TYPE              0.00\n",
       "CODE_GENDER                     0.00\n",
       "FLAG_OWN_CAR                    0.00\n",
       "FLAG_OWN_REALTY                 0.00\n",
       "CNT_CHILDREN                    0.00\n",
       "AMT_INCOME_TOTAL                0.00\n",
       "AMT_CREDIT                      0.00\n",
       "AMT_ANNUITY                     0.00\n",
       "AMT_GOODS_PRICE                 0.09\n",
       "NAME_TYPE_SUITE                 0.42\n",
       "NAME_INCOME_TYPE                0.00\n",
       "NAME_EDUCATION_TYPE             0.00\n",
       "NAME_FAMILY_STATUS              0.00\n",
       "NAME_HOUSING_TYPE               0.00\n",
       "REGION_POPULATION_RELATIVE      0.00\n",
       "DAYS_BIRTH                      0.00\n",
       "DAYS_EMPLOYED                   0.00\n",
       "DAYS_REGISTRATION               0.00\n",
       "DAYS_ID_PUBLISH                 0.00\n",
       "OWN_CAR_AGE                    65.99\n",
       "FLAG_MOBIL                      0.00\n",
       "FLAG_EMP_PHONE                  0.00\n",
       "FLAG_WORK_PHONE                 0.00\n",
       "FLAG_CONT_MOBILE                0.00\n",
       "FLAG_PHONE                      0.00\n",
       "FLAG_EMAIL                      0.00\n",
       "OCCUPATION_TYPE                31.35\n",
       "CNT_FAM_MEMBERS                 0.00\n",
       "REGION_RATING_CLIENT            0.00\n",
       "REGION_RATING_CLIENT_W_CITY     0.00\n",
       "WEEKDAY_APPR_PROCESS_START      0.00\n",
       "HOUR_APPR_PROCESS_START         0.00\n",
       "REG_REGION_NOT_LIVE_REGION      0.00\n",
       "REG_REGION_NOT_WORK_REGION      0.00\n",
       "LIVE_REGION_NOT_WORK_REGION     0.00\n",
       "REG_CITY_NOT_LIVE_CITY          0.00\n",
       "REG_CITY_NOT_WORK_CITY          0.00\n",
       "LIVE_CITY_NOT_WORK_CITY         0.00\n",
       "ORGANIZATION_TYPE               0.00\n",
       "EXT_SOURCE_1                   56.38\n",
       "EXT_SOURCE_2                    0.21\n",
       "EXT_SOURCE_3                   19.83\n",
       "APARTMENTS_AVG                 50.75\n",
       "BASEMENTAREA_AVG               58.52\n",
       "YEARS_BEGINEXPLUATATION_AVG    48.78\n",
       "YEARS_BUILD_AVG                66.50\n",
       "COMMONAREA_AVG                 69.87\n",
       "ELEVATORS_AVG                  53.30\n",
       "ENTRANCES_AVG                  50.35\n",
       "FLOORSMAX_AVG                  49.76\n",
       "FLOORSMIN_AVG                  67.85\n",
       "LANDAREA_AVG                   59.38\n",
       "LIVINGAPARTMENTS_AVG           68.35\n",
       "LIVINGAREA_AVG                 50.19\n",
       "NONLIVINGAPARTMENTS_AVG        69.43\n",
       "NONLIVINGAREA_AVG              55.18\n",
       "APARTMENTS_MODE                50.75\n",
       "BASEMENTAREA_MODE              58.52\n",
       "YEARS_BEGINEXPLUATATION_MODE   48.78\n",
       "YEARS_BUILD_MODE               66.50\n",
       "COMMONAREA_MODE                69.87\n",
       "ELEVATORS_MODE                 53.30\n",
       "ENTRANCES_MODE                 50.35\n",
       "FLOORSMAX_MODE                 49.76\n",
       "FLOORSMIN_MODE                 67.85\n",
       "LANDAREA_MODE                  59.38\n",
       "LIVINGAPARTMENTS_MODE          68.35\n",
       "LIVINGAREA_MODE                50.19\n",
       "NONLIVINGAPARTMENTS_MODE       69.43\n",
       "NONLIVINGAREA_MODE             55.18\n",
       "APARTMENTS_MEDI                50.75\n",
       "BASEMENTAREA_MEDI              58.52\n",
       "YEARS_BEGINEXPLUATATION_MEDI   48.78\n",
       "YEARS_BUILD_MEDI               66.50\n",
       "COMMONAREA_MEDI                69.87\n",
       "ELEVATORS_MEDI                 53.30\n",
       "ENTRANCES_MEDI                 50.35\n",
       "FLOORSMAX_MEDI                 49.76\n",
       "FLOORSMIN_MEDI                 67.85\n",
       "LANDAREA_MEDI                  59.38\n",
       "LIVINGAPARTMENTS_MEDI          68.35\n",
       "LIVINGAREA_MEDI                50.19\n",
       "NONLIVINGAPARTMENTS_MEDI       69.43\n",
       "NONLIVINGAREA_MEDI             55.18\n",
       "FONDKAPREMONT_MODE             68.39\n",
       "HOUSETYPE_MODE                 50.18\n",
       "TOTALAREA_MODE                 48.27\n",
       "WALLSMATERIAL_MODE             50.84\n",
       "EMERGENCYSTATE_MODE            47.40\n",
       "OBS_30_CNT_SOCIAL_CIRCLE        0.33\n",
       "DEF_30_CNT_SOCIAL_CIRCLE        0.33\n",
       "OBS_60_CNT_SOCIAL_CIRCLE        0.33\n",
       "DEF_60_CNT_SOCIAL_CIRCLE        0.33\n",
       "DAYS_LAST_PHONE_CHANGE          0.00\n",
       "FLAG_DOCUMENT_2                 0.00\n",
       "FLAG_DOCUMENT_3                 0.00\n",
       "FLAG_DOCUMENT_4                 0.00\n",
       "FLAG_DOCUMENT_5                 0.00\n",
       "FLAG_DOCUMENT_6                 0.00\n",
       "FLAG_DOCUMENT_7                 0.00\n",
       "FLAG_DOCUMENT_8                 0.00\n",
       "FLAG_DOCUMENT_9                 0.00\n",
       "FLAG_DOCUMENT_10                0.00\n",
       "FLAG_DOCUMENT_11                0.00\n",
       "FLAG_DOCUMENT_12                0.00\n",
       "FLAG_DOCUMENT_13                0.00\n",
       "FLAG_DOCUMENT_14                0.00\n",
       "FLAG_DOCUMENT_15                0.00\n",
       "FLAG_DOCUMENT_16                0.00\n",
       "FLAG_DOCUMENT_17                0.00\n",
       "FLAG_DOCUMENT_18                0.00\n",
       "FLAG_DOCUMENT_19                0.00\n",
       "FLAG_DOCUMENT_20                0.00\n",
       "FLAG_DOCUMENT_21                0.00\n",
       "AMT_REQ_CREDIT_BUREAU_HOUR     13.50\n",
       "AMT_REQ_CREDIT_BUREAU_DAY      13.50\n",
       "AMT_REQ_CREDIT_BUREAU_WEEK     13.50\n",
       "AMT_REQ_CREDIT_BUREAU_MON      13.50\n",
       "AMT_REQ_CREDIT_BUREAU_QRT      13.50\n",
       "AMT_REQ_CREDIT_BUREAU_YEAR     13.50\n",
       "dtype: float64"
      ]
     },
     "execution_count": 11,
     "metadata": {},
     "output_type": "execute_result"
    }
   ],
   "source": [
    "data_application.isnull().sum()*100/data_application.shape[0]"
   ]
  },
  {
   "cell_type": "code",
   "execution_count": 12,
   "metadata": {},
   "outputs": [
    {
     "data": {
      "text/plain": [
       "0   0.92\n",
       "1   0.08\n",
       "Name: TARGET, dtype: float64"
      ]
     },
     "execution_count": 12,
     "metadata": {},
     "output_type": "execute_result"
    }
   ],
   "source": [
    "data_application['TARGET'].value_counts(normalize=True)"
   ]
  },
  {
   "cell_type": "markdown",
   "metadata": {},
   "source": [
    "There is a huge data imbalance, this has to be kept in mind while doing any analysis"
   ]
  },
  {
   "cell_type": "markdown",
   "metadata": {},
   "source": [
    "**CHECKING for Duplicates :**"
   ]
  },
  {
   "cell_type": "code",
   "execution_count": 13,
   "metadata": {},
   "outputs": [
    {
     "data": {
      "text/html": [
       "<div>\n",
       "<style scoped>\n",
       "    .dataframe tbody tr th:only-of-type {\n",
       "        vertical-align: middle;\n",
       "    }\n",
       "\n",
       "    .dataframe tbody tr th {\n",
       "        vertical-align: top;\n",
       "    }\n",
       "\n",
       "    .dataframe thead th {\n",
       "        text-align: right;\n",
       "    }\n",
       "</style>\n",
       "<table border=\"1\" class=\"dataframe\">\n",
       "  <thead>\n",
       "    <tr style=\"text-align: right;\">\n",
       "      <th></th>\n",
       "      <th>SK_ID_CURR</th>\n",
       "      <th>TARGET</th>\n",
       "      <th>NAME_CONTRACT_TYPE</th>\n",
       "      <th>CODE_GENDER</th>\n",
       "      <th>FLAG_OWN_CAR</th>\n",
       "      <th>FLAG_OWN_REALTY</th>\n",
       "      <th>CNT_CHILDREN</th>\n",
       "      <th>AMT_INCOME_TOTAL</th>\n",
       "      <th>AMT_CREDIT</th>\n",
       "      <th>AMT_ANNUITY</th>\n",
       "      <th>AMT_GOODS_PRICE</th>\n",
       "      <th>NAME_TYPE_SUITE</th>\n",
       "      <th>NAME_INCOME_TYPE</th>\n",
       "      <th>NAME_EDUCATION_TYPE</th>\n",
       "      <th>NAME_FAMILY_STATUS</th>\n",
       "      <th>NAME_HOUSING_TYPE</th>\n",
       "      <th>REGION_POPULATION_RELATIVE</th>\n",
       "      <th>DAYS_BIRTH</th>\n",
       "      <th>DAYS_EMPLOYED</th>\n",
       "      <th>DAYS_REGISTRATION</th>\n",
       "      <th>DAYS_ID_PUBLISH</th>\n",
       "      <th>OWN_CAR_AGE</th>\n",
       "      <th>FLAG_MOBIL</th>\n",
       "      <th>FLAG_EMP_PHONE</th>\n",
       "      <th>FLAG_WORK_PHONE</th>\n",
       "      <th>FLAG_CONT_MOBILE</th>\n",
       "      <th>FLAG_PHONE</th>\n",
       "      <th>FLAG_EMAIL</th>\n",
       "      <th>OCCUPATION_TYPE</th>\n",
       "      <th>CNT_FAM_MEMBERS</th>\n",
       "      <th>REGION_RATING_CLIENT</th>\n",
       "      <th>REGION_RATING_CLIENT_W_CITY</th>\n",
       "      <th>WEEKDAY_APPR_PROCESS_START</th>\n",
       "      <th>HOUR_APPR_PROCESS_START</th>\n",
       "      <th>REG_REGION_NOT_LIVE_REGION</th>\n",
       "      <th>REG_REGION_NOT_WORK_REGION</th>\n",
       "      <th>LIVE_REGION_NOT_WORK_REGION</th>\n",
       "      <th>REG_CITY_NOT_LIVE_CITY</th>\n",
       "      <th>REG_CITY_NOT_WORK_CITY</th>\n",
       "      <th>LIVE_CITY_NOT_WORK_CITY</th>\n",
       "      <th>ORGANIZATION_TYPE</th>\n",
       "      <th>EXT_SOURCE_1</th>\n",
       "      <th>EXT_SOURCE_2</th>\n",
       "      <th>EXT_SOURCE_3</th>\n",
       "      <th>APARTMENTS_AVG</th>\n",
       "      <th>BASEMENTAREA_AVG</th>\n",
       "      <th>YEARS_BEGINEXPLUATATION_AVG</th>\n",
       "      <th>YEARS_BUILD_AVG</th>\n",
       "      <th>COMMONAREA_AVG</th>\n",
       "      <th>ELEVATORS_AVG</th>\n",
       "      <th>ENTRANCES_AVG</th>\n",
       "      <th>FLOORSMAX_AVG</th>\n",
       "      <th>FLOORSMIN_AVG</th>\n",
       "      <th>LANDAREA_AVG</th>\n",
       "      <th>LIVINGAPARTMENTS_AVG</th>\n",
       "      <th>LIVINGAREA_AVG</th>\n",
       "      <th>NONLIVINGAPARTMENTS_AVG</th>\n",
       "      <th>NONLIVINGAREA_AVG</th>\n",
       "      <th>APARTMENTS_MODE</th>\n",
       "      <th>BASEMENTAREA_MODE</th>\n",
       "      <th>YEARS_BEGINEXPLUATATION_MODE</th>\n",
       "      <th>YEARS_BUILD_MODE</th>\n",
       "      <th>COMMONAREA_MODE</th>\n",
       "      <th>ELEVATORS_MODE</th>\n",
       "      <th>ENTRANCES_MODE</th>\n",
       "      <th>FLOORSMAX_MODE</th>\n",
       "      <th>FLOORSMIN_MODE</th>\n",
       "      <th>LANDAREA_MODE</th>\n",
       "      <th>LIVINGAPARTMENTS_MODE</th>\n",
       "      <th>LIVINGAREA_MODE</th>\n",
       "      <th>NONLIVINGAPARTMENTS_MODE</th>\n",
       "      <th>NONLIVINGAREA_MODE</th>\n",
       "      <th>APARTMENTS_MEDI</th>\n",
       "      <th>BASEMENTAREA_MEDI</th>\n",
       "      <th>YEARS_BEGINEXPLUATATION_MEDI</th>\n",
       "      <th>YEARS_BUILD_MEDI</th>\n",
       "      <th>COMMONAREA_MEDI</th>\n",
       "      <th>ELEVATORS_MEDI</th>\n",
       "      <th>ENTRANCES_MEDI</th>\n",
       "      <th>FLOORSMAX_MEDI</th>\n",
       "      <th>FLOORSMIN_MEDI</th>\n",
       "      <th>LANDAREA_MEDI</th>\n",
       "      <th>LIVINGAPARTMENTS_MEDI</th>\n",
       "      <th>LIVINGAREA_MEDI</th>\n",
       "      <th>NONLIVINGAPARTMENTS_MEDI</th>\n",
       "      <th>NONLIVINGAREA_MEDI</th>\n",
       "      <th>FONDKAPREMONT_MODE</th>\n",
       "      <th>HOUSETYPE_MODE</th>\n",
       "      <th>TOTALAREA_MODE</th>\n",
       "      <th>WALLSMATERIAL_MODE</th>\n",
       "      <th>EMERGENCYSTATE_MODE</th>\n",
       "      <th>OBS_30_CNT_SOCIAL_CIRCLE</th>\n",
       "      <th>DEF_30_CNT_SOCIAL_CIRCLE</th>\n",
       "      <th>OBS_60_CNT_SOCIAL_CIRCLE</th>\n",
       "      <th>DEF_60_CNT_SOCIAL_CIRCLE</th>\n",
       "      <th>DAYS_LAST_PHONE_CHANGE</th>\n",
       "      <th>FLAG_DOCUMENT_2</th>\n",
       "      <th>FLAG_DOCUMENT_3</th>\n",
       "      <th>FLAG_DOCUMENT_4</th>\n",
       "      <th>FLAG_DOCUMENT_5</th>\n",
       "      <th>FLAG_DOCUMENT_6</th>\n",
       "      <th>FLAG_DOCUMENT_7</th>\n",
       "      <th>FLAG_DOCUMENT_8</th>\n",
       "      <th>FLAG_DOCUMENT_9</th>\n",
       "      <th>FLAG_DOCUMENT_10</th>\n",
       "      <th>FLAG_DOCUMENT_11</th>\n",
       "      <th>FLAG_DOCUMENT_12</th>\n",
       "      <th>FLAG_DOCUMENT_13</th>\n",
       "      <th>FLAG_DOCUMENT_14</th>\n",
       "      <th>FLAG_DOCUMENT_15</th>\n",
       "      <th>FLAG_DOCUMENT_16</th>\n",
       "      <th>FLAG_DOCUMENT_17</th>\n",
       "      <th>FLAG_DOCUMENT_18</th>\n",
       "      <th>FLAG_DOCUMENT_19</th>\n",
       "      <th>FLAG_DOCUMENT_20</th>\n",
       "      <th>FLAG_DOCUMENT_21</th>\n",
       "      <th>AMT_REQ_CREDIT_BUREAU_HOUR</th>\n",
       "      <th>AMT_REQ_CREDIT_BUREAU_DAY</th>\n",
       "      <th>AMT_REQ_CREDIT_BUREAU_WEEK</th>\n",
       "      <th>AMT_REQ_CREDIT_BUREAU_MON</th>\n",
       "      <th>AMT_REQ_CREDIT_BUREAU_QRT</th>\n",
       "      <th>AMT_REQ_CREDIT_BUREAU_YEAR</th>\n",
       "    </tr>\n",
       "  </thead>\n",
       "  <tbody>\n",
       "  </tbody>\n",
       "</table>\n",
       "</div>"
      ],
      "text/plain": [
       "Empty DataFrame\n",
       "Columns: [SK_ID_CURR, TARGET, NAME_CONTRACT_TYPE, CODE_GENDER, FLAG_OWN_CAR, FLAG_OWN_REALTY, CNT_CHILDREN, AMT_INCOME_TOTAL, AMT_CREDIT, AMT_ANNUITY, AMT_GOODS_PRICE, NAME_TYPE_SUITE, NAME_INCOME_TYPE, NAME_EDUCATION_TYPE, NAME_FAMILY_STATUS, NAME_HOUSING_TYPE, REGION_POPULATION_RELATIVE, DAYS_BIRTH, DAYS_EMPLOYED, DAYS_REGISTRATION, DAYS_ID_PUBLISH, OWN_CAR_AGE, FLAG_MOBIL, FLAG_EMP_PHONE, FLAG_WORK_PHONE, FLAG_CONT_MOBILE, FLAG_PHONE, FLAG_EMAIL, OCCUPATION_TYPE, CNT_FAM_MEMBERS, REGION_RATING_CLIENT, REGION_RATING_CLIENT_W_CITY, WEEKDAY_APPR_PROCESS_START, HOUR_APPR_PROCESS_START, REG_REGION_NOT_LIVE_REGION, REG_REGION_NOT_WORK_REGION, LIVE_REGION_NOT_WORK_REGION, REG_CITY_NOT_LIVE_CITY, REG_CITY_NOT_WORK_CITY, LIVE_CITY_NOT_WORK_CITY, ORGANIZATION_TYPE, EXT_SOURCE_1, EXT_SOURCE_2, EXT_SOURCE_3, APARTMENTS_AVG, BASEMENTAREA_AVG, YEARS_BEGINEXPLUATATION_AVG, YEARS_BUILD_AVG, COMMONAREA_AVG, ELEVATORS_AVG, ENTRANCES_AVG, FLOORSMAX_AVG, FLOORSMIN_AVG, LANDAREA_AVG, LIVINGAPARTMENTS_AVG, LIVINGAREA_AVG, NONLIVINGAPARTMENTS_AVG, NONLIVINGAREA_AVG, APARTMENTS_MODE, BASEMENTAREA_MODE, YEARS_BEGINEXPLUATATION_MODE, YEARS_BUILD_MODE, COMMONAREA_MODE, ELEVATORS_MODE, ENTRANCES_MODE, FLOORSMAX_MODE, FLOORSMIN_MODE, LANDAREA_MODE, LIVINGAPARTMENTS_MODE, LIVINGAREA_MODE, NONLIVINGAPARTMENTS_MODE, NONLIVINGAREA_MODE, APARTMENTS_MEDI, BASEMENTAREA_MEDI, YEARS_BEGINEXPLUATATION_MEDI, YEARS_BUILD_MEDI, COMMONAREA_MEDI, ELEVATORS_MEDI, ENTRANCES_MEDI, FLOORSMAX_MEDI, FLOORSMIN_MEDI, LANDAREA_MEDI, LIVINGAPARTMENTS_MEDI, LIVINGAREA_MEDI, NONLIVINGAPARTMENTS_MEDI, NONLIVINGAREA_MEDI, FONDKAPREMONT_MODE, HOUSETYPE_MODE, TOTALAREA_MODE, WALLSMATERIAL_MODE, EMERGENCYSTATE_MODE, OBS_30_CNT_SOCIAL_CIRCLE, DEF_30_CNT_SOCIAL_CIRCLE, OBS_60_CNT_SOCIAL_CIRCLE, DEF_60_CNT_SOCIAL_CIRCLE, DAYS_LAST_PHONE_CHANGE, FLAG_DOCUMENT_2, FLAG_DOCUMENT_3, FLAG_DOCUMENT_4, FLAG_DOCUMENT_5, ...]\n",
       "Index: []"
      ]
     },
     "execution_count": 13,
     "metadata": {},
     "output_type": "execute_result"
    }
   ],
   "source": [
    "data_application[data_application.duplicated()]"
   ]
  },
  {
   "cell_type": "markdown",
   "metadata": {},
   "source": [
    "*No Duplicates present in the data*"
   ]
  },
  {
   "cell_type": "markdown",
   "metadata": {},
   "source": [
    "**HANDLING NULL for :** `AMT_ANNUITY`"
   ]
  },
  {
   "cell_type": "code",
   "execution_count": 14,
   "metadata": {},
   "outputs": [
    {
     "data": {
      "text/plain": [
       "(12, 122)"
      ]
     },
     "execution_count": 14,
     "metadata": {},
     "output_type": "execute_result"
    }
   ],
   "source": [
    "data_application[data_application['AMT_ANNUITY'].isnull()].shape"
   ]
  },
  {
   "cell_type": "markdown",
   "metadata": {},
   "source": [
    "All `AMT_ANNUITY` is null only for Cash Loans, by definition cash loans are :\n",
    "\n",
    "> *Instant cash loans are short-term loans that are processed quickly, usually within an hour, giving you access to funds instantly. Also known as cash advance loans and pay day loans, this type of loans is ideal for situations when you need funds immediately.*\n",
    "\n",
    "Here are few observations from other attributes of `AMT_ANNUITY` as null :\n",
    "1. All the rows with aforementioned columns as null have Target as 0 below is observation :\n",
    "> As the `TARGET` with value 0 is around 91% removing 0.003% will not sway \n",
    "2. Other rows are randomly distributed with respect to the 12 columns, that also should not introduce bias\n",
    "\n",
    "Has handling of null, we are removing the rows where `AMT_ANNUITY` is null using following code :-"
   ]
  },
  {
   "cell_type": "code",
   "execution_count": 15,
   "metadata": {},
   "outputs": [],
   "source": [
    "rows_dropped = rows_dropped+data_application['AMT_ANNUITY'].isnull().sum()"
   ]
  },
  {
   "cell_type": "code",
   "execution_count": 16,
   "metadata": {},
   "outputs": [],
   "source": [
    "data_application = data_application.loc[~data_application['AMT_ANNUITY'].isnull(),:]"
   ]
  },
  {
   "cell_type": "markdown",
   "metadata": {},
   "source": [
    "**HANDLING NULL for** : `AMT_GOODS_PRICE`"
   ]
  },
  {
   "cell_type": "markdown",
   "metadata": {},
   "source": [
    "Checking the correlation of `AMT_GOODS_PRICE`with `AMT_CREDIT`"
   ]
  },
  {
   "cell_type": "code",
   "execution_count": 17,
   "metadata": {},
   "outputs": [
    {
     "data": {
      "text/html": [
       "<div>\n",
       "<style scoped>\n",
       "    .dataframe tbody tr th:only-of-type {\n",
       "        vertical-align: middle;\n",
       "    }\n",
       "\n",
       "    .dataframe tbody tr th {\n",
       "        vertical-align: top;\n",
       "    }\n",
       "\n",
       "    .dataframe thead th {\n",
       "        text-align: right;\n",
       "    }\n",
       "</style>\n",
       "<table border=\"1\" class=\"dataframe\">\n",
       "  <thead>\n",
       "    <tr style=\"text-align: right;\">\n",
       "      <th></th>\n",
       "      <th>AMT_CREDIT</th>\n",
       "      <th>AMT_GOODS_PRICE</th>\n",
       "    </tr>\n",
       "  </thead>\n",
       "  <tbody>\n",
       "    <tr>\n",
       "      <th>AMT_CREDIT</th>\n",
       "      <td>1.00</td>\n",
       "      <td>0.99</td>\n",
       "    </tr>\n",
       "    <tr>\n",
       "      <th>AMT_GOODS_PRICE</th>\n",
       "      <td>0.99</td>\n",
       "      <td>1.00</td>\n",
       "    </tr>\n",
       "  </tbody>\n",
       "</table>\n",
       "</div>"
      ],
      "text/plain": [
       "                 AMT_CREDIT  AMT_GOODS_PRICE\n",
       "AMT_CREDIT             1.00             0.99\n",
       "AMT_GOODS_PRICE        0.99             1.00"
      ]
     },
     "execution_count": 17,
     "metadata": {},
     "output_type": "execute_result"
    }
   ],
   "source": [
    "data_application[['AMT_CREDIT','AMT_GOODS_PRICE']].corr()"
   ]
  },
  {
   "cell_type": "code",
   "execution_count": 18,
   "metadata": {},
   "outputs": [
    {
     "data": {
      "text/plain": [
       "(278, 122)"
      ]
     },
     "execution_count": 18,
     "metadata": {},
     "output_type": "execute_result"
    }
   ],
   "source": [
    "data_application[data_application['AMT_GOODS_PRICE'].isnull()].shape"
   ]
  },
  {
   "cell_type": "markdown",
   "metadata": {},
   "source": [
    "Most of the records are in 1:1 ratio for `AMT_GOODS_PRICE` : `AMT_CREDIT`"
   ]
  },
  {
   "cell_type": "code",
   "execution_count": 19,
   "metadata": {},
   "outputs": [
    {
     "data": {
      "text/plain": [
       "1.00   1.00\n",
       "2.00   0.00\n",
       "0.00   0.00\n",
       "3.00   0.00\n",
       "4.00   0.00\n",
       "7.00   0.00\n",
       "dtype: float64"
      ]
     },
     "execution_count": 19,
     "metadata": {},
     "output_type": "execute_result"
    }
   ],
   "source": [
    "round((data_application['AMT_GOODS_PRICE']/data_application['AMT_CREDIT']),0).value_counts(normalize=True)"
   ]
  },
  {
   "cell_type": "code",
   "execution_count": 20,
   "metadata": {},
   "outputs": [
    {
     "data": {
      "text/plain": [
       "Cash loans         79531\n",
       "Revolving loans    28673\n",
       "Name: NAME_CONTRACT_TYPE, dtype: int64"
      ]
     },
     "execution_count": 20,
     "metadata": {},
     "output_type": "execute_result"
    }
   ],
   "source": [
    "data_application[(data_application['AMT_GOODS_PRICE']/data_application['AMT_CREDIT']) == 1]['NAME_CONTRACT_TYPE'].value_counts()"
   ]
  },
  {
   "cell_type": "code",
   "execution_count": 21,
   "metadata": {},
   "outputs": [],
   "source": [
    "data_application.loc[data_application['AMT_GOODS_PRICE'].isnull(),'AMT_GOODS_PRICE'] = data_application.loc[data_application['AMT_GOODS_PRICE'].isnull(),'AMT_CREDIT']"
   ]
  },
  {
   "cell_type": "code",
   "execution_count": 22,
   "metadata": {},
   "outputs": [
    {
     "data": {
      "text/plain": [
       "Cash loans         79531\n",
       "Revolving loans    28951\n",
       "Name: NAME_CONTRACT_TYPE, dtype: int64"
      ]
     },
     "execution_count": 22,
     "metadata": {},
     "output_type": "execute_result"
    }
   ],
   "source": [
    "data_application[(data_application['AMT_GOODS_PRICE']/data_application['AMT_CREDIT']) == 1]['NAME_CONTRACT_TYPE'].value_counts()"
   ]
  },
  {
   "cell_type": "code",
   "execution_count": 23,
   "metadata": {},
   "outputs": [
    {
     "data": {
      "text/plain": [
       "0"
      ]
     },
     "execution_count": 23,
     "metadata": {},
     "output_type": "execute_result"
    }
   ],
   "source": [
    "data_application['AMT_GOODS_PRICE'].isnull().sum()"
   ]
  },
  {
   "cell_type": "markdown",
   "metadata": {},
   "source": [
    "All `AMT_GOODS_PRICE` is null only for Revolving Loans, by definition revolving loans are :\n",
    "\n",
    "*A revolving loan facility is a form of credit issued by a financial institution that provides the borrower with the ability to draw down or withdraw, repay, and withdraw again. A revolving loan is considered a flexible financing tool due to its repayment and re-borrowing accommodations.*\n",
    "\n",
    "We have seen that `AMT_GOODS_PRICE` and `AMT_CREDIT` are highly correlated, so much that in most of the cases `AMT_GOODS_PRICE` approximately equals to `AMT_CREDIT`\n",
    "\n",
    "Hence imputing those values to `AMT_CREDIT`"
   ]
  },
  {
   "cell_type": "code",
   "execution_count": 24,
   "metadata": {},
   "outputs": [],
   "source": [
    "cols_to_impute.append('AMT_GOODS_PRICE')"
   ]
  },
  {
   "cell_type": "markdown",
   "metadata": {},
   "source": [
    "**HANDLING FOR FIELD :** `NAME_TYPE_SUITE`"
   ]
  },
  {
   "cell_type": "code",
   "execution_count": 25,
   "metadata": {},
   "outputs": [
    {
     "data": {
      "text/plain": [
       "0.4201639680129041"
      ]
     },
     "execution_count": 25,
     "metadata": {},
     "output_type": "execute_result"
    }
   ],
   "source": [
    "data_application['NAME_TYPE_SUITE'].isnull().sum()*100/data_application.shape[0]"
   ]
  },
  {
   "cell_type": "code",
   "execution_count": 26,
   "metadata": {},
   "outputs": [
    {
     "data": {
      "text/plain": [
       "Unaccompanied     0.81\n",
       "Family            0.13\n",
       "Spouse, partner   0.04\n",
       "Children          0.01\n",
       "Other_B           0.01\n",
       "Other_A           0.00\n",
       "Group of people   0.00\n",
       "Name: NAME_TYPE_SUITE, dtype: float64"
      ]
     },
     "execution_count": 26,
     "metadata": {},
     "output_type": "execute_result"
    }
   ],
   "source": [
    "data_application['NAME_TYPE_SUITE'].value_counts(normalize=True)"
   ]
  },
  {
   "cell_type": "markdown",
   "metadata": {},
   "source": [
    "The Column `NAME_TYPE_SUITE` and only *0.4%* of rows are null we'll impute these with value `Unaccompanied` as its for *81%* of the clients, following is the code for the same :-"
   ]
  },
  {
   "cell_type": "code",
   "execution_count": 27,
   "metadata": {},
   "outputs": [
    {
     "name": "stdout",
     "output_type": "stream",
     "text": [
      "All null removed for NAME_TYPE_SUITE = True\n"
     ]
    }
   ],
   "source": [
    "most_frequent = data_application['NAME_TYPE_SUITE'].value_counts(normalize=True).index[0]\n",
    "data_application['NAME_TYPE_SUITE'].fillna(most_frequent,inplace=True)\n",
    "print(f\"All null removed for NAME_TYPE_SUITE = {data_application['NAME_TYPE_SUITE'].isnull().sum() == 0}\")"
   ]
  },
  {
   "cell_type": "markdown",
   "metadata": {},
   "source": [
    "**HANDLING FOR FIELD :** `OWN_CAR_AGE`"
   ]
  },
  {
   "cell_type": "code",
   "execution_count": 28,
   "metadata": {},
   "outputs": [
    {
     "data": {
      "text/plain": [
       "65.99045850555612"
      ]
     },
     "execution_count": 28,
     "metadata": {},
     "output_type": "execute_result"
    }
   ],
   "source": [
    "data_application['OWN_CAR_AGE'].isnull().sum()*100/len(data_application)"
   ]
  },
  {
   "cell_type": "code",
   "execution_count": 29,
   "metadata": {},
   "outputs": [
    {
     "data": {
      "text/plain": [
       "65.98883248400807"
      ]
     },
     "execution_count": 29,
     "metadata": {},
     "output_type": "execute_result"
    }
   ],
   "source": [
    "data_application.loc[data_application['FLAG_OWN_CAR']=='N','OWN_CAR_AGE'].isnull().sum()*100/len(data_application)"
   ]
  },
  {
   "cell_type": "code",
   "execution_count": 30,
   "metadata": {},
   "outputs": [
    {
     "data": {
      "text/plain": [
       "5"
      ]
     },
     "execution_count": 30,
     "metadata": {},
     "output_type": "execute_result"
    }
   ],
   "source": [
    "data_application.loc[(data_application['OWN_CAR_AGE'].isnull()) & (data_application['FLAG_OWN_CAR']=='Y'),'OWN_CAR_AGE'].isnull().sum()"
   ]
  },
  {
   "cell_type": "markdown",
   "metadata": {},
   "source": [
    "Based on above observation, following rules used to impute values : \n",
    "1. If client doesnt own a car the OWN_CAR_AGE should be 0\n",
    "2. If client owns a car, then value should be imputed using Median"
   ]
  },
  {
   "cell_type": "code",
   "execution_count": 31,
   "metadata": {},
   "outputs": [],
   "source": [
    "data_application.loc[(data_application['OWN_CAR_AGE'].isnull()) & ((data_application['FLAG_OWN_CAR']=='Y')), 'OWN_CAR_AGE' ] = data_application['OWN_CAR_AGE'].describe()['50%']"
   ]
  },
  {
   "cell_type": "code",
   "execution_count": 32,
   "metadata": {},
   "outputs": [],
   "source": [
    "data_application['OWN_CAR_AGE'].fillna(0,inplace=True)"
   ]
  },
  {
   "cell_type": "code",
   "execution_count": 33,
   "metadata": {},
   "outputs": [
    {
     "data": {
      "text/plain": [
       "0"
      ]
     },
     "execution_count": 33,
     "metadata": {},
     "output_type": "execute_result"
    }
   ],
   "source": [
    "data_application['OWN_CAR_AGE'].isnull().sum()"
   ]
  },
  {
   "cell_type": "code",
   "execution_count": 34,
   "metadata": {},
   "outputs": [],
   "source": [
    "cols_to_impute.append('OWN_CAR_AGE')"
   ]
  },
  {
   "cell_type": "markdown",
   "metadata": {},
   "source": [
    "**HANDLING FOR FIELD :** `OCCUPATION_TYPE`"
   ]
  },
  {
   "cell_type": "code",
   "execution_count": 35,
   "metadata": {
    "scrolled": true
   },
   "outputs": [
    {
     "data": {
      "text/plain": [
       "Laborers                0.26\n",
       "Sales staff             0.15\n",
       "Core staff              0.13\n",
       "Managers                0.10\n",
       "Drivers                 0.09\n",
       "High skill tech staff   0.05\n",
       "Accountants             0.05\n",
       "Medicine staff          0.04\n",
       "Security staff          0.03\n",
       "Cooking staff           0.03\n",
       "Cleaning staff          0.02\n",
       "Private service staff   0.01\n",
       "Low-skill Laborers      0.01\n",
       "Waiters/barmen staff    0.01\n",
       "Secretaries             0.01\n",
       "Realty agents           0.00\n",
       "HR staff                0.00\n",
       "IT staff                0.00\n",
       "Name: OCCUPATION_TYPE, dtype: float64"
      ]
     },
     "execution_count": 35,
     "metadata": {},
     "output_type": "execute_result"
    }
   ],
   "source": [
    "data_application['OCCUPATION_TYPE'].value_counts(normalize=True)"
   ]
  },
  {
   "cell_type": "markdown",
   "metadata": {},
   "source": [
    "Since the `OCCUPATION_TYPE` was a categorical value which was Missing at completely at random and we could not derive, we created another cateogry to handle these null\n",
    "\n",
    "Following is the code :"
   ]
  },
  {
   "cell_type": "code",
   "execution_count": 36,
   "metadata": {},
   "outputs": [],
   "source": [
    "data_application['OCCUPATION_TYPE'].fillna('Undefined',inplace=True)"
   ]
  },
  {
   "cell_type": "markdown",
   "metadata": {},
   "source": [
    "**HANDLING for field :** `CNT_FAM_MEMBERS`"
   ]
  },
  {
   "cell_type": "code",
   "execution_count": 37,
   "metadata": {},
   "outputs": [
    {
     "name": "stdout",
     "output_type": "stream",
     "text": [
      "count   307497.00\n",
      "mean         2.15\n",
      "std          0.91\n",
      "min          1.00\n",
      "25%          2.00\n",
      "50%          2.00\n",
      "75%          3.00\n",
      "max         20.00\n",
      "Name: CNT_FAM_MEMBERS, dtype: float64\n",
      "mode : 0   2.00\n",
      "dtype: float64\n"
     ]
    }
   ],
   "source": [
    "print(data_application['CNT_FAM_MEMBERS'].describe())\n",
    "print(f\"mode : {data_application['CNT_FAM_MEMBERS'].mode()}\")"
   ]
  },
  {
   "cell_type": "markdown",
   "metadata": {},
   "source": [
    "Since the mean/median/mode are all around 2 we will impute null as 2, following is the code"
   ]
  },
  {
   "cell_type": "code",
   "execution_count": 38,
   "metadata": {},
   "outputs": [
    {
     "data": {
      "text/plain": [
       "2"
      ]
     },
     "execution_count": 38,
     "metadata": {},
     "output_type": "execute_result"
    }
   ],
   "source": [
    "data_application['CNT_FAM_MEMBERS'].isnull().sum()"
   ]
  },
  {
   "cell_type": "code",
   "execution_count": 39,
   "metadata": {},
   "outputs": [],
   "source": [
    "data_application['CNT_FAM_MEMBERS'].fillna(2,inplace=True)"
   ]
  },
  {
   "cell_type": "code",
   "execution_count": 40,
   "metadata": {},
   "outputs": [
    {
     "data": {
      "text/plain": [
       "0"
      ]
     },
     "execution_count": 40,
     "metadata": {},
     "output_type": "execute_result"
    }
   ],
   "source": [
    "data_application['CNT_FAM_MEMBERS'].isnull().sum()"
   ]
  },
  {
   "cell_type": "markdown",
   "metadata": {},
   "source": [
    "**HANDLING FOR :** All Normalized fields _AVG/_MEDI/_MODE "
   ]
  },
  {
   "cell_type": "code",
   "execution_count": 41,
   "metadata": {},
   "outputs": [
    {
     "name": "stdout",
     "output_type": "stream",
     "text": [
      "2   0.74\n",
      "3   0.16\n",
      "1   0.10\n",
      "Name: REGION_RATING_CLIENT, dtype: float64\n",
      "2   0.75\n",
      "3   0.14\n",
      "1   0.11\n",
      "Name: REGION_RATING_CLIENT_W_CITY, dtype: float64\n"
     ]
    }
   ],
   "source": [
    "print(data_application['REGION_RATING_CLIENT'].value_counts(normalize=True))\n",
    "print(data_application['REGION_RATING_CLIENT_W_CITY'].value_counts(normalize=True))"
   ]
  },
  {
   "cell_type": "markdown",
   "metadata": {},
   "source": [
    "**HANDLING NULL FOR :** Normalized features about where client lives"
   ]
  },
  {
   "cell_type": "markdown",
   "metadata": {},
   "source": [
    "We will utlize already available information of `REGION_RATING_CLIENT` and `REGION_RATING_CLIENT_W_CITY`\n",
    "And try to map (1,2,3) to (Low, Medium, High)\n",
    "\n",
    "Currenlty we are not aware which of (1 or 3) is a  (High or Low)\n",
    "\n",
    "Once that is done it'll eliminate the need of Normalized information about where client lives\n",
    "\n",
    "Reason for this approach : Since these normalized columns have more than `50%` of columns as null, its best if we could find a feature in the data that could safely represent what this normalized data is trying to represent."
   ]
  },
  {
   "cell_type": "markdown",
   "metadata": {},
   "source": [
    "For this we'll perform multivariate analysis on these columns which seem to be related to the region/area where the client lives and try to find how these attributes are related"
   ]
  },
  {
   "cell_type": "code",
   "execution_count": 42,
   "metadata": {},
   "outputs": [
    {
     "data": {
      "text/plain": [
       "REGION_RATING_CLIENT_W_CITY     6.09\n",
       "REGION_RATING_CLIENT            5.89\n",
       "TARGET                        100.00\n",
       "ELEVATORS_AVG                  -3.42\n",
       "FLOORSMAX_AVG                  -4.40\n",
       "FLOORSMIN_AVG                  -3.36\n",
       "LIVINGAREA_AVG                 -3.30\n",
       "ELEVATORS_MODE                 -3.21\n",
       "FLOORSMAX_MODE                 -4.32\n",
       "FLOORSMIN_MODE                 -3.27\n",
       "LIVINGAREA_MODE                -3.07\n",
       "ELEVATORS_MEDI                 -3.39\n",
       "FLOORSMAX_MEDI                 -4.38\n",
       "FLOORSMIN_MEDI                 -3.34\n",
       "LIVINGAREA_MEDI                -3.27\n",
       "TOTALAREA_MODE                 -3.26\n",
       "Name: TARGET, dtype: float64"
      ]
     },
     "execution_count": 42,
     "metadata": {},
     "output_type": "execute_result"
    }
   ],
   "source": [
    "#Starting with finding correlation of all these columns with the Target variable\n",
    "client_living_condition_col =['REGION_RATING_CLIENT_W_CITY','REGION_RATING_CLIENT','TARGET', 'APARTMENTS_AVG','BASEMENTAREA_AVG','YEARS_BEGINEXPLUATATION_AVG','YEARS_BUILD_AVG','COMMONAREA_AVG','ELEVATORS_AVG','ENTRANCES_AVG','FLOORSMAX_AVG','FLOORSMIN_AVG','LANDAREA_AVG','LIVINGAPARTMENTS_AVG','LIVINGAREA_AVG','NONLIVINGAPARTMENTS_AVG','NONLIVINGAREA_AVG','APARTMENTS_MODE','BASEMENTAREA_MODE','YEARS_BEGINEXPLUATATION_MODE','YEARS_BUILD_MODE','COMMONAREA_MODE','ELEVATORS_MODE','ENTRANCES_MODE','FLOORSMAX_MODE','FLOORSMIN_MODE','LANDAREA_MODE','LIVINGAPARTMENTS_MODE','LIVINGAREA_MODE','NONLIVINGAPARTMENTS_MODE','NONLIVINGAREA_MODE','APARTMENTS_MEDI','BASEMENTAREA_MEDI','YEARS_BEGINEXPLUATATION_MEDI','YEARS_BUILD_MEDI','COMMONAREA_MEDI','ELEVATORS_MEDI','ENTRANCES_MEDI','FLOORSMAX_MEDI','FLOORSMIN_MEDI','LANDAREA_MEDI','LIVINGAPARTMENTS_MEDI','LIVINGAREA_MEDI','NONLIVINGAPARTMENTS_MEDI','NONLIVINGAREA_MEDI','FONDKAPREMONT_MODE','HOUSETYPE_MODE','TOTALAREA_MODE','WALLSMATERIAL_MODE','EMERGENCYSTATE_MODE']\n",
    "s = data_application.loc[:,client_living_condition_col].corr()['TARGET']*100\n",
    "\n",
    "s[(s < -3) | (s > 4)]"
   ]
  },
  {
   "cell_type": "markdown",
   "metadata": {},
   "source": [
    "From above we see that the values are very slightly correlated to the target column, max value -4, \n",
    "Lets see if theres anything can these values correlate to and we can use to draw inference\n",
    "We start by picking the attributes that have abs highest correlation with target field"
   ]
  },
  {
   "cell_type": "code",
   "execution_count": 43,
   "metadata": {},
   "outputs": [
    {
     "data": {
      "text/plain": [
       "<matplotlib.axes._subplots.AxesSubplot at 0x1cc27494220>"
      ]
     },
     "execution_count": 43,
     "metadata": {},
     "output_type": "execute_result"
    },
    {
     "data": {
      "image/png": "[encoded data removed]",
      "text/plain": [
       "<Figure size 1296x432 with 6 Axes>"
      ]
     },
     "metadata": {
      "needs_background": "light"
     },
     "output_type": "display_data"
    }
   ],
   "source": [
    "subset = data_application[['REGION_RATING_CLIENT_W_CITY','NAME_HOUSING_TYPE','HOUSETYPE_MODE','EMERGENCYSTATE_MODE','LIVINGAREA_AVG','LIVINGAREA_MEDI','LIVINGAREA_MODE']]\n",
    "fig,ax = plt.subplots(ncols=3,sharey=True)\n",
    "fig.set_size_inches(18, 6, forward=True)\n",
    "sns.heatmap(subset.pivot_table(index=['NAME_HOUSING_TYPE','EMERGENCYSTATE_MODE'],columns=['REGION_RATING_CLIENT_W_CITY'],aggfunc='mean')['LIVINGAREA_AVG'],annot=False,ax=ax[0],cmap='YlOrBr',fmt='')\n",
    "sns.heatmap(subset.pivot_table(index=['NAME_HOUSING_TYPE','EMERGENCYSTATE_MODE'],columns=['REGION_RATING_CLIENT_W_CITY'],aggfunc='mean')['LIVINGAREA_MEDI'],annot=False,ax=ax[1],cmap='YlOrBr',fmt='')\n",
    "sns.heatmap(subset.pivot_table(index=['NAME_HOUSING_TYPE','EMERGENCYSTATE_MODE'],columns=['REGION_RATING_CLIENT_W_CITY'],aggfunc='mean')['LIVINGAREA_MODE'],annot=False,ax=ax[2],cmap='YlOrBr',fmt='')"
   ]
  },
  {
   "cell_type": "code",
   "execution_count": 44,
   "metadata": {},
   "outputs": [
    {
     "data": {
      "text/plain": [
       "<matplotlib.axes._subplots.AxesSubplot at 0x1cc2767cdf0>"
      ]
     },
     "execution_count": 44,
     "metadata": {},
     "output_type": "execute_result"
    },
    {
     "data": {
      "image/png": "[encoded data removed]",
      "text/plain": [
       "<Figure size 1296x432 with 6 Axes>"
      ]
     },
     "metadata": {
      "needs_background": "light"
     },
     "output_type": "display_data"
    }
   ],
   "source": [
    "subset = pd.merge(data_application.loc[:,data_application.filter(like='FLOORSMAX_').columns],data_application[['REGION_RATING_CLIENT_W_CITY','NAME_HOUSING_TYPE','EMERGENCYSTATE_MODE']],left_index=True,right_index=True)\n",
    "fig,ax = plt.subplots(ncols=3,sharey=True)\n",
    "fig.set_size_inches(18, 6, forward=True)\n",
    "sns.heatmap(subset.pivot_table(index=['NAME_HOUSING_TYPE','EMERGENCYSTATE_MODE'],columns=['REGION_RATING_CLIENT_W_CITY'],aggfunc='mean')['FLOORSMAX_AVG'],annot=False,ax=ax[0],cmap='YlOrBr',fmt='')\n",
    "sns.heatmap(subset.pivot_table(index=['NAME_HOUSING_TYPE','EMERGENCYSTATE_MODE'],columns=['REGION_RATING_CLIENT_W_CITY'],aggfunc='mean')['FLOORSMAX_MEDI'],annot=False,ax=ax[1],cmap='YlOrBr',fmt='')\n",
    "sns.heatmap(subset.pivot_table(index=['NAME_HOUSING_TYPE','EMERGENCYSTATE_MODE'],columns=['REGION_RATING_CLIENT_W_CITY'],aggfunc='mean')['FLOORSMAX_MODE'],annot=False,ax=ax[2],cmap='YlOrBr',fmt='')"
   ]
  },
  {
   "cell_type": "code",
   "execution_count": 45,
   "metadata": {},
   "outputs": [
    {
     "data": {
      "text/plain": [
       "<matplotlib.axes._subplots.AxesSubplot at 0x1cc27463d90>"
      ]
     },
     "execution_count": 45,
     "metadata": {},
     "output_type": "execute_result"
    },
    {
     "data": {
      "image/png": "[encoded data removed]",
      "text/plain": [
       "<Figure size 432x288 with 2 Axes>"
      ]
     },
     "metadata": {
      "needs_background": "light"
     },
     "output_type": "display_data"
    }
   ],
   "source": [
    "subset = data_application[['REGION_RATING_CLIENT_W_CITY','NAME_HOUSING_TYPE','HOUSETYPE_MODE','EMERGENCYSTATE_MODE','TOTALAREA_MODE']]\n",
    "fig,ax = plt.subplots(ncols=1,sharey=True)\n",
    "fig.set_size_inches(6, 4, forward=True)\n",
    "sns.heatmap(subset.pivot_table(index=['NAME_HOUSING_TYPE','EMERGENCYSTATE_MODE'],columns=['REGION_RATING_CLIENT_W_CITY'],aggfunc='mean')['TOTALAREA_MODE'],annot=False,cmap='YlOrBr',fmt='')\n"
   ]
  },
  {
   "cell_type": "markdown",
   "metadata": {},
   "source": [
    "From above observation its safe to assume that\n",
    "\n",
    "For the fields : `REGION_RATING_CLIENT_W_CITY` and `REGION_RATING_CLIENT` the values\n",
    "> 1 corresponds to High | \n",
    "2 corresponds to Medium | \n",
    "3 corresponds to Low\n",
    "\n",
    "That is even fortified by the fact that the correlation is positive with target field, proving that with increase in value the `TARGET` is more likely to be 1"
   ]
  },
  {
   "cell_type": "code",
   "execution_count": 46,
   "metadata": {},
   "outputs": [],
   "source": [
    "cols_to_drop.extend(data_application.filter(like='_AVG').columns)\n",
    "cols_to_drop.extend(data_application.filter(like='_MEDI').columns)\n",
    "cols_to_drop.extend(data_application.filter(like='_MODE').columns)"
   ]
  },
  {
   "cell_type": "markdown",
   "metadata": {},
   "source": [
    "**HANDLING FIELDS FOR :** `FLAG_XX`"
   ]
  },
  {
   "cell_type": "code",
   "execution_count": 47,
   "metadata": {},
   "outputs": [
    {
     "data": {
      "text/plain": [
       "FLAG_DOCUMENT_2      0.54\n",
       "FLAG_DOCUMENT_3      4.43\n",
       "FLAG_DOCUMENT_4     -0.27\n",
       "FLAG_DOCUMENT_5     -0.03\n",
       "FLAG_DOCUMENT_6     -2.86\n",
       "FLAG_DOCUMENT_7     -0.15\n",
       "FLAG_DOCUMENT_8     -0.80\n",
       "FLAG_DOCUMENT_9     -0.44\n",
       "FLAG_DOCUMENT_10    -0.14\n",
       "FLAG_DOCUMENT_11    -0.42\n",
       "FLAG_DOCUMENT_12    -0.08\n",
       "FLAG_DOCUMENT_13    -1.16\n",
       "FLAG_DOCUMENT_14    -0.95\n",
       "FLAG_DOCUMENT_15    -0.65\n",
       "FLAG_DOCUMENT_16    -1.16\n",
       "FLAG_DOCUMENT_17    -0.34\n",
       "FLAG_DOCUMENT_18    -0.80\n",
       "FLAG_DOCUMENT_19    -0.14\n",
       "FLAG_DOCUMENT_20     0.02\n",
       "FLAG_DOCUMENT_21     0.37\n",
       "TARGET             100.00\n",
       "Name: TARGET, dtype: float64"
      ]
     },
     "execution_count": 47,
     "metadata": {},
     "output_type": "execute_result"
    }
   ],
   "source": [
    "cols = [col for col in data_application.columns if \"FLAG_DOCUMENT\" in col]\n",
    "cols.append('TARGET')\n",
    "something = data_application.loc[:,cols]\n",
    "something.corr()['TARGET']*100"
   ]
  },
  {
   "cell_type": "code",
   "execution_count": 48,
   "metadata": {},
   "outputs": [],
   "source": [
    "tmp = []\n",
    "for col in something.columns:\n",
    "    tmp_series = something.loc[something['TARGET']==1,col].value_counts(normalize=True)\n",
    "    tmp_series.name = col\n",
    "    tmp.append(tmp_series)\n",
    "df_value_counts_defautler = pd.concat(tmp, axis=1)\n",
    "tmp = []\n",
    "for col in something.columns:\n",
    "    tmp_series = something.loc[something['TARGET']==0,col].value_counts(normalize=True)\n",
    "    tmp_series.name = col\n",
    "    tmp.append(tmp_series)\n",
    "df_value_counts_non_defaulter = pd.concat(tmp, axis=1)\n",
    "\n",
    "cols.remove('TARGET')"
   ]
  },
  {
   "cell_type": "code",
   "execution_count": 49,
   "metadata": {},
   "outputs": [
    {
     "data": {
      "text/html": [
       "<div>\n",
       "<style scoped>\n",
       "    .dataframe tbody tr th:only-of-type {\n",
       "        vertical-align: middle;\n",
       "    }\n",
       "\n",
       "    .dataframe tbody tr th {\n",
       "        vertical-align: top;\n",
       "    }\n",
       "\n",
       "    .dataframe thead th {\n",
       "        text-align: right;\n",
       "    }\n",
       "</style>\n",
       "<table border=\"1\" class=\"dataframe\">\n",
       "  <thead>\n",
       "    <tr style=\"text-align: right;\">\n",
       "      <th></th>\n",
       "      <th>FLAG_DOCUMENT_2</th>\n",
       "      <th>FLAG_DOCUMENT_3</th>\n",
       "      <th>FLAG_DOCUMENT_4</th>\n",
       "      <th>FLAG_DOCUMENT_5</th>\n",
       "      <th>FLAG_DOCUMENT_6</th>\n",
       "      <th>FLAG_DOCUMENT_7</th>\n",
       "      <th>FLAG_DOCUMENT_8</th>\n",
       "      <th>FLAG_DOCUMENT_9</th>\n",
       "      <th>FLAG_DOCUMENT_10</th>\n",
       "      <th>FLAG_DOCUMENT_11</th>\n",
       "      <th>FLAG_DOCUMENT_12</th>\n",
       "      <th>FLAG_DOCUMENT_13</th>\n",
       "      <th>FLAG_DOCUMENT_14</th>\n",
       "      <th>FLAG_DOCUMENT_15</th>\n",
       "      <th>FLAG_DOCUMENT_16</th>\n",
       "      <th>FLAG_DOCUMENT_17</th>\n",
       "      <th>FLAG_DOCUMENT_18</th>\n",
       "      <th>FLAG_DOCUMENT_19</th>\n",
       "      <th>FLAG_DOCUMENT_20</th>\n",
       "      <th>FLAG_DOCUMENT_21</th>\n",
       "      <th>TARGET</th>\n",
       "    </tr>\n",
       "  </thead>\n",
       "  <tbody>\n",
       "    <tr>\n",
       "      <th>0</th>\n",
       "      <td>1.00</td>\n",
       "      <td>0.22</td>\n",
       "      <td>1.00</td>\n",
       "      <td>0.99</td>\n",
       "      <td>0.94</td>\n",
       "      <td>1.00</td>\n",
       "      <td>0.93</td>\n",
       "      <td>1.00</td>\n",
       "      <td>1.00</td>\n",
       "      <td>1.00</td>\n",
       "      <td>1.00</td>\n",
       "      <td>1.00</td>\n",
       "      <td>1.00</td>\n",
       "      <td>1.00</td>\n",
       "      <td>0.99</td>\n",
       "      <td>1.00</td>\n",
       "      <td>0.99</td>\n",
       "      <td>1.00</td>\n",
       "      <td>1.00</td>\n",
       "      <td>1.00</td>\n",
       "      <td>nan</td>\n",
       "    </tr>\n",
       "    <tr>\n",
       "      <th>1</th>\n",
       "      <td>0.00</td>\n",
       "      <td>0.78</td>\n",
       "      <td>nan</td>\n",
       "      <td>0.01</td>\n",
       "      <td>0.06</td>\n",
       "      <td>0.00</td>\n",
       "      <td>0.07</td>\n",
       "      <td>0.00</td>\n",
       "      <td>nan</td>\n",
       "      <td>0.00</td>\n",
       "      <td>nan</td>\n",
       "      <td>0.00</td>\n",
       "      <td>0.00</td>\n",
       "      <td>0.00</td>\n",
       "      <td>0.01</td>\n",
       "      <td>0.00</td>\n",
       "      <td>0.01</td>\n",
       "      <td>0.00</td>\n",
       "      <td>0.00</td>\n",
       "      <td>0.00</td>\n",
       "      <td>1.00</td>\n",
       "    </tr>\n",
       "  </tbody>\n",
       "</table>\n",
       "</div>"
      ],
      "text/plain": [
       "   FLAG_DOCUMENT_2  FLAG_DOCUMENT_3  FLAG_DOCUMENT_4  FLAG_DOCUMENT_5  \\\n",
       "0             1.00             0.22             1.00             0.99   \n",
       "1             0.00             0.78              nan             0.01   \n",
       "\n",
       "   FLAG_DOCUMENT_6  FLAG_DOCUMENT_7  FLAG_DOCUMENT_8  FLAG_DOCUMENT_9  \\\n",
       "0             0.94             1.00             0.93             1.00   \n",
       "1             0.06             0.00             0.07             0.00   \n",
       "\n",
       "   FLAG_DOCUMENT_10  FLAG_DOCUMENT_11  FLAG_DOCUMENT_12  FLAG_DOCUMENT_13  \\\n",
       "0              1.00              1.00              1.00              1.00   \n",
       "1               nan              0.00               nan              0.00   \n",
       "\n",
       "   FLAG_DOCUMENT_14  FLAG_DOCUMENT_15  FLAG_DOCUMENT_16  FLAG_DOCUMENT_17  \\\n",
       "0              1.00              1.00              0.99              1.00   \n",
       "1              0.00              0.00              0.01              0.00   \n",
       "\n",
       "   FLAG_DOCUMENT_18  FLAG_DOCUMENT_19  FLAG_DOCUMENT_20  FLAG_DOCUMENT_21  \\\n",
       "0              0.99              1.00              1.00              1.00   \n",
       "1              0.01              0.00              0.00              0.00   \n",
       "\n",
       "   TARGET  \n",
       "0     nan  \n",
       "1    1.00  "
      ]
     },
     "execution_count": 49,
     "metadata": {},
     "output_type": "execute_result"
    }
   ],
   "source": [
    "df_value_counts_defautler"
   ]
  },
  {
   "cell_type": "code",
   "execution_count": 50,
   "metadata": {},
   "outputs": [
    {
     "data": {
      "text/html": [
       "<div>\n",
       "<style scoped>\n",
       "    .dataframe tbody tr th:only-of-type {\n",
       "        vertical-align: middle;\n",
       "    }\n",
       "\n",
       "    .dataframe tbody tr th {\n",
       "        vertical-align: top;\n",
       "    }\n",
       "\n",
       "    .dataframe thead th {\n",
       "        text-align: right;\n",
       "    }\n",
       "</style>\n",
       "<table border=\"1\" class=\"dataframe\">\n",
       "  <thead>\n",
       "    <tr style=\"text-align: right;\">\n",
       "      <th></th>\n",
       "      <th>FLAG_DOCUMENT_2</th>\n",
       "      <th>FLAG_DOCUMENT_3</th>\n",
       "      <th>FLAG_DOCUMENT_4</th>\n",
       "      <th>FLAG_DOCUMENT_5</th>\n",
       "      <th>FLAG_DOCUMENT_6</th>\n",
       "      <th>FLAG_DOCUMENT_7</th>\n",
       "      <th>FLAG_DOCUMENT_8</th>\n",
       "      <th>FLAG_DOCUMENT_9</th>\n",
       "      <th>FLAG_DOCUMENT_10</th>\n",
       "      <th>FLAG_DOCUMENT_11</th>\n",
       "      <th>FLAG_DOCUMENT_12</th>\n",
       "      <th>FLAG_DOCUMENT_13</th>\n",
       "      <th>FLAG_DOCUMENT_14</th>\n",
       "      <th>FLAG_DOCUMENT_15</th>\n",
       "      <th>FLAG_DOCUMENT_16</th>\n",
       "      <th>FLAG_DOCUMENT_17</th>\n",
       "      <th>FLAG_DOCUMENT_18</th>\n",
       "      <th>FLAG_DOCUMENT_19</th>\n",
       "      <th>FLAG_DOCUMENT_20</th>\n",
       "      <th>FLAG_DOCUMENT_21</th>\n",
       "      <th>TARGET</th>\n",
       "    </tr>\n",
       "  </thead>\n",
       "  <tbody>\n",
       "    <tr>\n",
       "      <th>0</th>\n",
       "      <td>1.00</td>\n",
       "      <td>0.30</td>\n",
       "      <td>1.00</td>\n",
       "      <td>0.98</td>\n",
       "      <td>0.91</td>\n",
       "      <td>1.00</td>\n",
       "      <td>0.92</td>\n",
       "      <td>1.00</td>\n",
       "      <td>1.00</td>\n",
       "      <td>1.00</td>\n",
       "      <td>1.00</td>\n",
       "      <td>1.00</td>\n",
       "      <td>1.00</td>\n",
       "      <td>1.00</td>\n",
       "      <td>0.99</td>\n",
       "      <td>1.00</td>\n",
       "      <td>0.99</td>\n",
       "      <td>1.00</td>\n",
       "      <td>1.00</td>\n",
       "      <td>1.00</td>\n",
       "      <td>1.00</td>\n",
       "    </tr>\n",
       "    <tr>\n",
       "      <th>1</th>\n",
       "      <td>0.00</td>\n",
       "      <td>0.70</td>\n",
       "      <td>0.00</td>\n",
       "      <td>0.02</td>\n",
       "      <td>0.09</td>\n",
       "      <td>0.00</td>\n",
       "      <td>0.08</td>\n",
       "      <td>0.00</td>\n",
       "      <td>0.00</td>\n",
       "      <td>0.00</td>\n",
       "      <td>0.00</td>\n",
       "      <td>0.00</td>\n",
       "      <td>0.00</td>\n",
       "      <td>0.00</td>\n",
       "      <td>0.01</td>\n",
       "      <td>0.00</td>\n",
       "      <td>0.01</td>\n",
       "      <td>0.00</td>\n",
       "      <td>0.00</td>\n",
       "      <td>0.00</td>\n",
       "      <td>nan</td>\n",
       "    </tr>\n",
       "  </tbody>\n",
       "</table>\n",
       "</div>"
      ],
      "text/plain": [
       "   FLAG_DOCUMENT_2  FLAG_DOCUMENT_3  FLAG_DOCUMENT_4  FLAG_DOCUMENT_5  \\\n",
       "0             1.00             0.30             1.00             0.98   \n",
       "1             0.00             0.70             0.00             0.02   \n",
       "\n",
       "   FLAG_DOCUMENT_6  FLAG_DOCUMENT_7  FLAG_DOCUMENT_8  FLAG_DOCUMENT_9  \\\n",
       "0             0.91             1.00             0.92             1.00   \n",
       "1             0.09             0.00             0.08             0.00   \n",
       "\n",
       "   FLAG_DOCUMENT_10  FLAG_DOCUMENT_11  FLAG_DOCUMENT_12  FLAG_DOCUMENT_13  \\\n",
       "0              1.00              1.00              1.00              1.00   \n",
       "1              0.00              0.00              0.00              0.00   \n",
       "\n",
       "   FLAG_DOCUMENT_14  FLAG_DOCUMENT_15  FLAG_DOCUMENT_16  FLAG_DOCUMENT_17  \\\n",
       "0              1.00              1.00              0.99              1.00   \n",
       "1              0.00              0.00              0.01              0.00   \n",
       "\n",
       "   FLAG_DOCUMENT_18  FLAG_DOCUMENT_19  FLAG_DOCUMENT_20  FLAG_DOCUMENT_21  \\\n",
       "0              0.99              1.00              1.00              1.00   \n",
       "1              0.01              0.00              0.00              0.00   \n",
       "\n",
       "   TARGET  \n",
       "0    1.00  \n",
       "1     nan  "
      ]
     },
     "execution_count": 50,
     "metadata": {},
     "output_type": "execute_result"
    }
   ],
   "source": [
    "df_value_counts_non_defaulter"
   ]
  },
  {
   "cell_type": "markdown",
   "metadata": {},
   "source": [
    "#### Observation about FLAG_DOCUMENT : \n",
    "**What is observed** : Above observation indicate that `FLAG_DOCUMENT_3` has is most submitted document, also have the highest correlation with `TARGET` all the other documents have a 5% submission ratio, and that remains same for both Defaulter and Non Defaulter.\n",
    "\n",
    "**Descision** : Since this field shows little to no variation with respect to Target field and there are other fields which can have genuine impact we'll not focus on `FLAG_DOCUMENT_XX` Fields"
   ]
  },
  {
   "cell_type": "code",
   "execution_count": 51,
   "metadata": {},
   "outputs": [],
   "source": [
    "cols_to_drop.extend(cols)\n",
    "cols=[]"
   ]
  },
  {
   "cell_type": "markdown",
   "metadata": {},
   "source": [
    "**HANDLING Null for** : OBS/DEF_XX_CNT_SOCIAL_CIRCLE"
   ]
  },
  {
   "cell_type": "code",
   "execution_count": 52,
   "metadata": {},
   "outputs": [
    {
     "data": {
      "text/html": [
       "<div>\n",
       "<style scoped>\n",
       "    .dataframe tbody tr th:only-of-type {\n",
       "        vertical-align: middle;\n",
       "    }\n",
       "\n",
       "    .dataframe tbody tr th {\n",
       "        vertical-align: top;\n",
       "    }\n",
       "\n",
       "    .dataframe thead th {\n",
       "        text-align: right;\n",
       "    }\n",
       "</style>\n",
       "<table border=\"1\" class=\"dataframe\">\n",
       "  <thead>\n",
       "    <tr style=\"text-align: right;\">\n",
       "      <th></th>\n",
       "      <th>OBS_30_CNT_SOCIAL_CIRCLE</th>\n",
       "      <th>DEF_30_CNT_SOCIAL_CIRCLE</th>\n",
       "      <th>OBS_60_CNT_SOCIAL_CIRCLE</th>\n",
       "      <th>DEF_60_CNT_SOCIAL_CIRCLE</th>\n",
       "      <th>TARGET</th>\n",
       "    </tr>\n",
       "  </thead>\n",
       "  <tbody>\n",
       "    <tr>\n",
       "      <th>count</th>\n",
       "      <td>281689.00</td>\n",
       "      <td>281689.00</td>\n",
       "      <td>281689.00</td>\n",
       "      <td>281689.00</td>\n",
       "      <td>282674.00</td>\n",
       "    </tr>\n",
       "    <tr>\n",
       "      <th>mean</th>\n",
       "      <td>1.42</td>\n",
       "      <td>0.14</td>\n",
       "      <td>1.40</td>\n",
       "      <td>0.10</td>\n",
       "      <td>0.00</td>\n",
       "    </tr>\n",
       "    <tr>\n",
       "      <th>std</th>\n",
       "      <td>2.40</td>\n",
       "      <td>0.44</td>\n",
       "      <td>2.38</td>\n",
       "      <td>0.36</td>\n",
       "      <td>0.00</td>\n",
       "    </tr>\n",
       "    <tr>\n",
       "      <th>min</th>\n",
       "      <td>0.00</td>\n",
       "      <td>0.00</td>\n",
       "      <td>0.00</td>\n",
       "      <td>0.00</td>\n",
       "      <td>0.00</td>\n",
       "    </tr>\n",
       "    <tr>\n",
       "      <th>25%</th>\n",
       "      <td>0.00</td>\n",
       "      <td>0.00</td>\n",
       "      <td>0.00</td>\n",
       "      <td>0.00</td>\n",
       "      <td>0.00</td>\n",
       "    </tr>\n",
       "    <tr>\n",
       "      <th>50%</th>\n",
       "      <td>0.00</td>\n",
       "      <td>0.00</td>\n",
       "      <td>0.00</td>\n",
       "      <td>0.00</td>\n",
       "      <td>0.00</td>\n",
       "    </tr>\n",
       "    <tr>\n",
       "      <th>75%</th>\n",
       "      <td>2.00</td>\n",
       "      <td>0.00</td>\n",
       "      <td>2.00</td>\n",
       "      <td>0.00</td>\n",
       "      <td>0.00</td>\n",
       "    </tr>\n",
       "    <tr>\n",
       "      <th>max</th>\n",
       "      <td>348.00</td>\n",
       "      <td>34.00</td>\n",
       "      <td>344.00</td>\n",
       "      <td>24.00</td>\n",
       "      <td>0.00</td>\n",
       "    </tr>\n",
       "  </tbody>\n",
       "</table>\n",
       "</div>"
      ],
      "text/plain": [
       "       OBS_30_CNT_SOCIAL_CIRCLE  DEF_30_CNT_SOCIAL_CIRCLE  \\\n",
       "count                 281689.00                 281689.00   \n",
       "mean                       1.42                      0.14   \n",
       "std                        2.40                      0.44   \n",
       "min                        0.00                      0.00   \n",
       "25%                        0.00                      0.00   \n",
       "50%                        0.00                      0.00   \n",
       "75%                        2.00                      0.00   \n",
       "max                      348.00                     34.00   \n",
       "\n",
       "       OBS_60_CNT_SOCIAL_CIRCLE  DEF_60_CNT_SOCIAL_CIRCLE    TARGET  \n",
       "count                 281689.00                 281689.00 282674.00  \n",
       "mean                       1.40                      0.10      0.00  \n",
       "std                        2.38                      0.36      0.00  \n",
       "min                        0.00                      0.00      0.00  \n",
       "25%                        0.00                      0.00      0.00  \n",
       "50%                        0.00                      0.00      0.00  \n",
       "75%                        2.00                      0.00      0.00  \n",
       "max                      344.00                     24.00      0.00  "
      ]
     },
     "execution_count": 52,
     "metadata": {},
     "output_type": "execute_result"
    }
   ],
   "source": [
    "cols = ['OBS_30_CNT_SOCIAL_CIRCLE','DEF_30_CNT_SOCIAL_CIRCLE','OBS_60_CNT_SOCIAL_CIRCLE','DEF_60_CNT_SOCIAL_CIRCLE']\n",
    "data_application.loc[data_application['TARGET']==0,\\\n",
    "                     ['OBS_30_CNT_SOCIAL_CIRCLE','DEF_30_CNT_SOCIAL_CIRCLE','OBS_60_CNT_SOCIAL_CIRCLE',\\\n",
    "                      'DEF_60_CNT_SOCIAL_CIRCLE','TARGET']].describe()"
   ]
  },
  {
   "cell_type": "code",
   "execution_count": 53,
   "metadata": {},
   "outputs": [
    {
     "data": {
      "text/html": [
       "<div>\n",
       "<style scoped>\n",
       "    .dataframe tbody tr th:only-of-type {\n",
       "        vertical-align: middle;\n",
       "    }\n",
       "\n",
       "    .dataframe tbody tr th {\n",
       "        vertical-align: top;\n",
       "    }\n",
       "\n",
       "    .dataframe thead th {\n",
       "        text-align: right;\n",
       "    }\n",
       "</style>\n",
       "<table border=\"1\" class=\"dataframe\">\n",
       "  <thead>\n",
       "    <tr style=\"text-align: right;\">\n",
       "      <th></th>\n",
       "      <th>OBS_30_CNT_SOCIAL_CIRCLE</th>\n",
       "      <th>DEF_30_CNT_SOCIAL_CIRCLE</th>\n",
       "      <th>OBS_60_CNT_SOCIAL_CIRCLE</th>\n",
       "      <th>DEF_60_CNT_SOCIAL_CIRCLE</th>\n",
       "      <th>TARGET</th>\n",
       "    </tr>\n",
       "  </thead>\n",
       "  <tbody>\n",
       "    <tr>\n",
       "      <th>count</th>\n",
       "      <td>24789.00</td>\n",
       "      <td>24789.00</td>\n",
       "      <td>24789.00</td>\n",
       "      <td>24789.00</td>\n",
       "      <td>24825.00</td>\n",
       "    </tr>\n",
       "    <tr>\n",
       "      <th>mean</th>\n",
       "      <td>1.50</td>\n",
       "      <td>0.19</td>\n",
       "      <td>1.48</td>\n",
       "      <td>0.14</td>\n",
       "      <td>1.00</td>\n",
       "    </tr>\n",
       "    <tr>\n",
       "      <th>std</th>\n",
       "      <td>2.38</td>\n",
       "      <td>0.52</td>\n",
       "      <td>2.36</td>\n",
       "      <td>0.43</td>\n",
       "      <td>0.00</td>\n",
       "    </tr>\n",
       "    <tr>\n",
       "      <th>min</th>\n",
       "      <td>0.00</td>\n",
       "      <td>0.00</td>\n",
       "      <td>0.00</td>\n",
       "      <td>0.00</td>\n",
       "      <td>1.00</td>\n",
       "    </tr>\n",
       "    <tr>\n",
       "      <th>25%</th>\n",
       "      <td>0.00</td>\n",
       "      <td>0.00</td>\n",
       "      <td>0.00</td>\n",
       "      <td>0.00</td>\n",
       "      <td>1.00</td>\n",
       "    </tr>\n",
       "    <tr>\n",
       "      <th>50%</th>\n",
       "      <td>0.00</td>\n",
       "      <td>0.00</td>\n",
       "      <td>0.00</td>\n",
       "      <td>0.00</td>\n",
       "      <td>1.00</td>\n",
       "    </tr>\n",
       "    <tr>\n",
       "      <th>75%</th>\n",
       "      <td>2.00</td>\n",
       "      <td>0.00</td>\n",
       "      <td>2.00</td>\n",
       "      <td>0.00</td>\n",
       "      <td>1.00</td>\n",
       "    </tr>\n",
       "    <tr>\n",
       "      <th>max</th>\n",
       "      <td>30.00</td>\n",
       "      <td>6.00</td>\n",
       "      <td>29.00</td>\n",
       "      <td>5.00</td>\n",
       "      <td>1.00</td>\n",
       "    </tr>\n",
       "  </tbody>\n",
       "</table>\n",
       "</div>"
      ],
      "text/plain": [
       "       OBS_30_CNT_SOCIAL_CIRCLE  DEF_30_CNT_SOCIAL_CIRCLE  \\\n",
       "count                  24789.00                  24789.00   \n",
       "mean                       1.50                      0.19   \n",
       "std                        2.38                      0.52   \n",
       "min                        0.00                      0.00   \n",
       "25%                        0.00                      0.00   \n",
       "50%                        0.00                      0.00   \n",
       "75%                        2.00                      0.00   \n",
       "max                       30.00                      6.00   \n",
       "\n",
       "       OBS_60_CNT_SOCIAL_CIRCLE  DEF_60_CNT_SOCIAL_CIRCLE   TARGET  \n",
       "count                  24789.00                  24789.00 24825.00  \n",
       "mean                       1.48                      0.14     1.00  \n",
       "std                        2.36                      0.43     0.00  \n",
       "min                        0.00                      0.00     1.00  \n",
       "25%                        0.00                      0.00     1.00  \n",
       "50%                        0.00                      0.00     1.00  \n",
       "75%                        2.00                      0.00     1.00  \n",
       "max                       29.00                      5.00     1.00  "
      ]
     },
     "execution_count": 53,
     "metadata": {},
     "output_type": "execute_result"
    }
   ],
   "source": [
    "data_application.loc[data_application['TARGET']==1,\\\n",
    "                     ['OBS_30_CNT_SOCIAL_CIRCLE','DEF_30_CNT_SOCIAL_CIRCLE','OBS_60_CNT_SOCIAL_CIRCLE',\\\n",
    "                      'DEF_60_CNT_SOCIAL_CIRCLE','TARGET']].describe()"
   ]
  },
  {
   "cell_type": "markdown",
   "metadata": {},
   "source": [
    "As can be seen from the above chart, most of the values are 0 (Median and Mode), hence we'll be imputing the null with 0"
   ]
  },
  {
   "cell_type": "code",
   "execution_count": 54,
   "metadata": {},
   "outputs": [],
   "source": [
    "data_application['OBS_30_CNT_SOCIAL_CIRCLE'].fillna(0,inplace=True)\n",
    "data_application['DEF_30_CNT_SOCIAL_CIRCLE'].fillna(0,inplace=True)\n",
    "data_application['OBS_60_CNT_SOCIAL_CIRCLE'].fillna(0,inplace=True)\n",
    "data_application['DEF_60_CNT_SOCIAL_CIRCLE'].fillna(0,inplace=True)"
   ]
  },
  {
   "cell_type": "markdown",
   "metadata": {},
   "source": [
    "**HANDLING null values for :** DAYS_LAST_PHONE_CHANGE"
   ]
  },
  {
   "cell_type": "code",
   "execution_count": 55,
   "metadata": {},
   "outputs": [
    {
     "data": {
      "text/html": [
       "<div>\n",
       "<style scoped>\n",
       "    .dataframe tbody tr th:only-of-type {\n",
       "        vertical-align: middle;\n",
       "    }\n",
       "\n",
       "    .dataframe tbody tr th {\n",
       "        vertical-align: top;\n",
       "    }\n",
       "\n",
       "    .dataframe thead th {\n",
       "        text-align: right;\n",
       "    }\n",
       "</style>\n",
       "<table border=\"1\" class=\"dataframe\">\n",
       "  <thead>\n",
       "    <tr style=\"text-align: right;\">\n",
       "      <th></th>\n",
       "      <th>SK_ID_CURR</th>\n",
       "      <th>TARGET</th>\n",
       "      <th>NAME_CONTRACT_TYPE</th>\n",
       "      <th>CODE_GENDER</th>\n",
       "      <th>FLAG_OWN_CAR</th>\n",
       "      <th>FLAG_OWN_REALTY</th>\n",
       "      <th>CNT_CHILDREN</th>\n",
       "      <th>AMT_INCOME_TOTAL</th>\n",
       "      <th>AMT_CREDIT</th>\n",
       "      <th>AMT_ANNUITY</th>\n",
       "      <th>AMT_GOODS_PRICE</th>\n",
       "      <th>NAME_TYPE_SUITE</th>\n",
       "      <th>NAME_INCOME_TYPE</th>\n",
       "      <th>NAME_EDUCATION_TYPE</th>\n",
       "      <th>NAME_FAMILY_STATUS</th>\n",
       "      <th>NAME_HOUSING_TYPE</th>\n",
       "      <th>REGION_POPULATION_RELATIVE</th>\n",
       "      <th>DAYS_BIRTH</th>\n",
       "      <th>DAYS_EMPLOYED</th>\n",
       "      <th>DAYS_REGISTRATION</th>\n",
       "      <th>DAYS_ID_PUBLISH</th>\n",
       "      <th>OWN_CAR_AGE</th>\n",
       "      <th>FLAG_MOBIL</th>\n",
       "      <th>FLAG_EMP_PHONE</th>\n",
       "      <th>FLAG_WORK_PHONE</th>\n",
       "      <th>FLAG_CONT_MOBILE</th>\n",
       "      <th>FLAG_PHONE</th>\n",
       "      <th>FLAG_EMAIL</th>\n",
       "      <th>OCCUPATION_TYPE</th>\n",
       "      <th>CNT_FAM_MEMBERS</th>\n",
       "      <th>REGION_RATING_CLIENT</th>\n",
       "      <th>REGION_RATING_CLIENT_W_CITY</th>\n",
       "      <th>WEEKDAY_APPR_PROCESS_START</th>\n",
       "      <th>HOUR_APPR_PROCESS_START</th>\n",
       "      <th>REG_REGION_NOT_LIVE_REGION</th>\n",
       "      <th>REG_REGION_NOT_WORK_REGION</th>\n",
       "      <th>LIVE_REGION_NOT_WORK_REGION</th>\n",
       "      <th>REG_CITY_NOT_LIVE_CITY</th>\n",
       "      <th>REG_CITY_NOT_WORK_CITY</th>\n",
       "      <th>LIVE_CITY_NOT_WORK_CITY</th>\n",
       "      <th>ORGANIZATION_TYPE</th>\n",
       "      <th>EXT_SOURCE_1</th>\n",
       "      <th>EXT_SOURCE_2</th>\n",
       "      <th>EXT_SOURCE_3</th>\n",
       "      <th>APARTMENTS_AVG</th>\n",
       "      <th>BASEMENTAREA_AVG</th>\n",
       "      <th>YEARS_BEGINEXPLUATATION_AVG</th>\n",
       "      <th>YEARS_BUILD_AVG</th>\n",
       "      <th>COMMONAREA_AVG</th>\n",
       "      <th>ELEVATORS_AVG</th>\n",
       "      <th>ENTRANCES_AVG</th>\n",
       "      <th>FLOORSMAX_AVG</th>\n",
       "      <th>FLOORSMIN_AVG</th>\n",
       "      <th>LANDAREA_AVG</th>\n",
       "      <th>LIVINGAPARTMENTS_AVG</th>\n",
       "      <th>LIVINGAREA_AVG</th>\n",
       "      <th>NONLIVINGAPARTMENTS_AVG</th>\n",
       "      <th>NONLIVINGAREA_AVG</th>\n",
       "      <th>APARTMENTS_MODE</th>\n",
       "      <th>BASEMENTAREA_MODE</th>\n",
       "      <th>YEARS_BEGINEXPLUATATION_MODE</th>\n",
       "      <th>YEARS_BUILD_MODE</th>\n",
       "      <th>COMMONAREA_MODE</th>\n",
       "      <th>ELEVATORS_MODE</th>\n",
       "      <th>ENTRANCES_MODE</th>\n",
       "      <th>FLOORSMAX_MODE</th>\n",
       "      <th>FLOORSMIN_MODE</th>\n",
       "      <th>LANDAREA_MODE</th>\n",
       "      <th>LIVINGAPARTMENTS_MODE</th>\n",
       "      <th>LIVINGAREA_MODE</th>\n",
       "      <th>NONLIVINGAPARTMENTS_MODE</th>\n",
       "      <th>NONLIVINGAREA_MODE</th>\n",
       "      <th>APARTMENTS_MEDI</th>\n",
       "      <th>BASEMENTAREA_MEDI</th>\n",
       "      <th>YEARS_BEGINEXPLUATATION_MEDI</th>\n",
       "      <th>YEARS_BUILD_MEDI</th>\n",
       "      <th>COMMONAREA_MEDI</th>\n",
       "      <th>ELEVATORS_MEDI</th>\n",
       "      <th>ENTRANCES_MEDI</th>\n",
       "      <th>FLOORSMAX_MEDI</th>\n",
       "      <th>FLOORSMIN_MEDI</th>\n",
       "      <th>LANDAREA_MEDI</th>\n",
       "      <th>LIVINGAPARTMENTS_MEDI</th>\n",
       "      <th>LIVINGAREA_MEDI</th>\n",
       "      <th>NONLIVINGAPARTMENTS_MEDI</th>\n",
       "      <th>NONLIVINGAREA_MEDI</th>\n",
       "      <th>FONDKAPREMONT_MODE</th>\n",
       "      <th>HOUSETYPE_MODE</th>\n",
       "      <th>TOTALAREA_MODE</th>\n",
       "      <th>WALLSMATERIAL_MODE</th>\n",
       "      <th>EMERGENCYSTATE_MODE</th>\n",
       "      <th>OBS_30_CNT_SOCIAL_CIRCLE</th>\n",
       "      <th>DEF_30_CNT_SOCIAL_CIRCLE</th>\n",
       "      <th>OBS_60_CNT_SOCIAL_CIRCLE</th>\n",
       "      <th>DEF_60_CNT_SOCIAL_CIRCLE</th>\n",
       "      <th>DAYS_LAST_PHONE_CHANGE</th>\n",
       "      <th>FLAG_DOCUMENT_2</th>\n",
       "      <th>FLAG_DOCUMENT_3</th>\n",
       "      <th>FLAG_DOCUMENT_4</th>\n",
       "      <th>FLAG_DOCUMENT_5</th>\n",
       "      <th>FLAG_DOCUMENT_6</th>\n",
       "      <th>FLAG_DOCUMENT_7</th>\n",
       "      <th>FLAG_DOCUMENT_8</th>\n",
       "      <th>FLAG_DOCUMENT_9</th>\n",
       "      <th>FLAG_DOCUMENT_10</th>\n",
       "      <th>FLAG_DOCUMENT_11</th>\n",
       "      <th>FLAG_DOCUMENT_12</th>\n",
       "      <th>FLAG_DOCUMENT_13</th>\n",
       "      <th>FLAG_DOCUMENT_14</th>\n",
       "      <th>FLAG_DOCUMENT_15</th>\n",
       "      <th>FLAG_DOCUMENT_16</th>\n",
       "      <th>FLAG_DOCUMENT_17</th>\n",
       "      <th>FLAG_DOCUMENT_18</th>\n",
       "      <th>FLAG_DOCUMENT_19</th>\n",
       "      <th>FLAG_DOCUMENT_20</th>\n",
       "      <th>FLAG_DOCUMENT_21</th>\n",
       "      <th>AMT_REQ_CREDIT_BUREAU_HOUR</th>\n",
       "      <th>AMT_REQ_CREDIT_BUREAU_DAY</th>\n",
       "      <th>AMT_REQ_CREDIT_BUREAU_WEEK</th>\n",
       "      <th>AMT_REQ_CREDIT_BUREAU_MON</th>\n",
       "      <th>AMT_REQ_CREDIT_BUREAU_QRT</th>\n",
       "      <th>AMT_REQ_CREDIT_BUREAU_YEAR</th>\n",
       "    </tr>\n",
       "  </thead>\n",
       "  <tbody>\n",
       "    <tr>\n",
       "      <th>15709</th>\n",
       "      <td>118330</td>\n",
       "      <td>0</td>\n",
       "      <td>Cash loans</td>\n",
       "      <td>M</td>\n",
       "      <td>Y</td>\n",
       "      <td>Y</td>\n",
       "      <td>0</td>\n",
       "      <td>126000.00</td>\n",
       "      <td>278613.00</td>\n",
       "      <td>25911.00</td>\n",
       "      <td>252000.00</td>\n",
       "      <td>Unaccompanied</td>\n",
       "      <td>Working</td>\n",
       "      <td>Incomplete higher</td>\n",
       "      <td>Married</td>\n",
       "      <td>House / apartment</td>\n",
       "      <td>0.01</td>\n",
       "      <td>-8574</td>\n",
       "      <td>-293</td>\n",
       "      <td>-4790.00</td>\n",
       "      <td>-1075</td>\n",
       "      <td>21.00</td>\n",
       "      <td>0</td>\n",
       "      <td>1</td>\n",
       "      <td>0</td>\n",
       "      <td>1</td>\n",
       "      <td>0</td>\n",
       "      <td>0</td>\n",
       "      <td>Undefined</td>\n",
       "      <td>2.00</td>\n",
       "      <td>2</td>\n",
       "      <td>2</td>\n",
       "      <td>FRIDAY</td>\n",
       "      <td>13</td>\n",
       "      <td>0</td>\n",
       "      <td>0</td>\n",
       "      <td>0</td>\n",
       "      <td>0</td>\n",
       "      <td>0</td>\n",
       "      <td>0</td>\n",
       "      <td>Trade: type 3</td>\n",
       "      <td>nan</td>\n",
       "      <td>nan</td>\n",
       "      <td>nan</td>\n",
       "      <td>0.12</td>\n",
       "      <td>0.06</td>\n",
       "      <td>0.99</td>\n",
       "      <td>nan</td>\n",
       "      <td>nan</td>\n",
       "      <td>0.12</td>\n",
       "      <td>0.10</td>\n",
       "      <td>0.38</td>\n",
       "      <td>nan</td>\n",
       "      <td>0.08</td>\n",
       "      <td>nan</td>\n",
       "      <td>0.13</td>\n",
       "      <td>nan</td>\n",
       "      <td>nan</td>\n",
       "      <td>0.13</td>\n",
       "      <td>0.06</td>\n",
       "      <td>0.99</td>\n",
       "      <td>nan</td>\n",
       "      <td>nan</td>\n",
       "      <td>0.12</td>\n",
       "      <td>0.10</td>\n",
       "      <td>0.38</td>\n",
       "      <td>nan</td>\n",
       "      <td>0.08</td>\n",
       "      <td>nan</td>\n",
       "      <td>0.13</td>\n",
       "      <td>nan</td>\n",
       "      <td>nan</td>\n",
       "      <td>0.12</td>\n",
       "      <td>0.06</td>\n",
       "      <td>0.99</td>\n",
       "      <td>nan</td>\n",
       "      <td>nan</td>\n",
       "      <td>0.12</td>\n",
       "      <td>0.10</td>\n",
       "      <td>0.38</td>\n",
       "      <td>nan</td>\n",
       "      <td>0.08</td>\n",
       "      <td>nan</td>\n",
       "      <td>0.13</td>\n",
       "      <td>nan</td>\n",
       "      <td>nan</td>\n",
       "      <td>NaN</td>\n",
       "      <td>block of flats</td>\n",
       "      <td>0.11</td>\n",
       "      <td>Panel</td>\n",
       "      <td>No</td>\n",
       "      <td>0.00</td>\n",
       "      <td>0.00</td>\n",
       "      <td>0.00</td>\n",
       "      <td>0.00</td>\n",
       "      <td>nan</td>\n",
       "      <td>0</td>\n",
       "      <td>0</td>\n",
       "      <td>0</td>\n",
       "      <td>0</td>\n",
       "      <td>0</td>\n",
       "      <td>0</td>\n",
       "      <td>1</td>\n",
       "      <td>0</td>\n",
       "      <td>0</td>\n",
       "      <td>0</td>\n",
       "      <td>0</td>\n",
       "      <td>0</td>\n",
       "      <td>0</td>\n",
       "      <td>0</td>\n",
       "      <td>0</td>\n",
       "      <td>0</td>\n",
       "      <td>1</td>\n",
       "      <td>0</td>\n",
       "      <td>0</td>\n",
       "      <td>0</td>\n",
       "      <td>nan</td>\n",
       "      <td>nan</td>\n",
       "      <td>nan</td>\n",
       "      <td>nan</td>\n",
       "      <td>nan</td>\n",
       "      <td>nan</td>\n",
       "    </tr>\n",
       "  </tbody>\n",
       "</table>\n",
       "</div>"
      ],
      "text/plain": [
       "       SK_ID_CURR  TARGET NAME_CONTRACT_TYPE CODE_GENDER FLAG_OWN_CAR  \\\n",
       "15709      118330       0         Cash loans           M            Y   \n",
       "\n",
       "      FLAG_OWN_REALTY  CNT_CHILDREN  AMT_INCOME_TOTAL  AMT_CREDIT  \\\n",
       "15709               Y             0         126000.00   278613.00   \n",
       "\n",
       "       AMT_ANNUITY  AMT_GOODS_PRICE NAME_TYPE_SUITE NAME_INCOME_TYPE  \\\n",
       "15709     25911.00        252000.00   Unaccompanied          Working   \n",
       "\n",
       "      NAME_EDUCATION_TYPE NAME_FAMILY_STATUS  NAME_HOUSING_TYPE  \\\n",
       "15709   Incomplete higher            Married  House / apartment   \n",
       "\n",
       "       REGION_POPULATION_RELATIVE  DAYS_BIRTH  DAYS_EMPLOYED  \\\n",
       "15709                        0.01       -8574           -293   \n",
       "\n",
       "       DAYS_REGISTRATION  DAYS_ID_PUBLISH  OWN_CAR_AGE  FLAG_MOBIL  \\\n",
       "15709           -4790.00            -1075        21.00           0   \n",
       "\n",
       "       FLAG_EMP_PHONE  FLAG_WORK_PHONE  FLAG_CONT_MOBILE  FLAG_PHONE  \\\n",
       "15709               1                0                 1           0   \n",
       "\n",
       "       FLAG_EMAIL OCCUPATION_TYPE  CNT_FAM_MEMBERS  REGION_RATING_CLIENT  \\\n",
       "15709           0       Undefined             2.00                     2   \n",
       "\n",
       "       REGION_RATING_CLIENT_W_CITY WEEKDAY_APPR_PROCESS_START  \\\n",
       "15709                            2                     FRIDAY   \n",
       "\n",
       "       HOUR_APPR_PROCESS_START  REG_REGION_NOT_LIVE_REGION  \\\n",
       "15709                       13                           0   \n",
       "\n",
       "       REG_REGION_NOT_WORK_REGION  LIVE_REGION_NOT_WORK_REGION  \\\n",
       "15709                           0                            0   \n",
       "\n",
       "       REG_CITY_NOT_LIVE_CITY  REG_CITY_NOT_WORK_CITY  \\\n",
       "15709                       0                       0   \n",
       "\n",
       "       LIVE_CITY_NOT_WORK_CITY ORGANIZATION_TYPE  EXT_SOURCE_1  EXT_SOURCE_2  \\\n",
       "15709                        0     Trade: type 3           nan           nan   \n",
       "\n",
       "       EXT_SOURCE_3  APARTMENTS_AVG  BASEMENTAREA_AVG  \\\n",
       "15709           nan            0.12              0.06   \n",
       "\n",
       "       YEARS_BEGINEXPLUATATION_AVG  YEARS_BUILD_AVG  COMMONAREA_AVG  \\\n",
       "15709                         0.99              nan             nan   \n",
       "\n",
       "       ELEVATORS_AVG  ENTRANCES_AVG  FLOORSMAX_AVG  FLOORSMIN_AVG  \\\n",
       "15709           0.12           0.10           0.38            nan   \n",
       "\n",
       "       LANDAREA_AVG  LIVINGAPARTMENTS_AVG  LIVINGAREA_AVG  \\\n",
       "15709          0.08                   nan            0.13   \n",
       "\n",
       "       NONLIVINGAPARTMENTS_AVG  NONLIVINGAREA_AVG  APARTMENTS_MODE  \\\n",
       "15709                      nan                nan             0.13   \n",
       "\n",
       "       BASEMENTAREA_MODE  YEARS_BEGINEXPLUATATION_MODE  YEARS_BUILD_MODE  \\\n",
       "15709               0.06                          0.99               nan   \n",
       "\n",
       "       COMMONAREA_MODE  ELEVATORS_MODE  ENTRANCES_MODE  FLOORSMAX_MODE  \\\n",
       "15709              nan            0.12            0.10            0.38   \n",
       "\n",
       "       FLOORSMIN_MODE  LANDAREA_MODE  LIVINGAPARTMENTS_MODE  LIVINGAREA_MODE  \\\n",
       "15709             nan           0.08                    nan             0.13   \n",
       "\n",
       "       NONLIVINGAPARTMENTS_MODE  NONLIVINGAREA_MODE  APARTMENTS_MEDI  \\\n",
       "15709                       nan                 nan             0.12   \n",
       "\n",
       "       BASEMENTAREA_MEDI  YEARS_BEGINEXPLUATATION_MEDI  YEARS_BUILD_MEDI  \\\n",
       "15709               0.06                          0.99               nan   \n",
       "\n",
       "       COMMONAREA_MEDI  ELEVATORS_MEDI  ENTRANCES_MEDI  FLOORSMAX_MEDI  \\\n",
       "15709              nan            0.12            0.10            0.38   \n",
       "\n",
       "       FLOORSMIN_MEDI  LANDAREA_MEDI  LIVINGAPARTMENTS_MEDI  LIVINGAREA_MEDI  \\\n",
       "15709             nan           0.08                    nan             0.13   \n",
       "\n",
       "       NONLIVINGAPARTMENTS_MEDI  NONLIVINGAREA_MEDI FONDKAPREMONT_MODE  \\\n",
       "15709                       nan                 nan                NaN   \n",
       "\n",
       "       HOUSETYPE_MODE  TOTALAREA_MODE WALLSMATERIAL_MODE EMERGENCYSTATE_MODE  \\\n",
       "15709  block of flats            0.11              Panel                  No   \n",
       "\n",
       "       OBS_30_CNT_SOCIAL_CIRCLE  DEF_30_CNT_SOCIAL_CIRCLE  \\\n",
       "15709                      0.00                      0.00   \n",
       "\n",
       "       OBS_60_CNT_SOCIAL_CIRCLE  DEF_60_CNT_SOCIAL_CIRCLE  \\\n",
       "15709                      0.00                      0.00   \n",
       "\n",
       "       DAYS_LAST_PHONE_CHANGE  FLAG_DOCUMENT_2  FLAG_DOCUMENT_3  \\\n",
       "15709                     nan                0                0   \n",
       "\n",
       "       FLAG_DOCUMENT_4  FLAG_DOCUMENT_5  FLAG_DOCUMENT_6  FLAG_DOCUMENT_7  \\\n",
       "15709                0                0                0                0   \n",
       "\n",
       "       FLAG_DOCUMENT_8  FLAG_DOCUMENT_9  FLAG_DOCUMENT_10  FLAG_DOCUMENT_11  \\\n",
       "15709                1                0                 0                 0   \n",
       "\n",
       "       FLAG_DOCUMENT_12  FLAG_DOCUMENT_13  FLAG_DOCUMENT_14  FLAG_DOCUMENT_15  \\\n",
       "15709                 0                 0                 0                 0   \n",
       "\n",
       "       FLAG_DOCUMENT_16  FLAG_DOCUMENT_17  FLAG_DOCUMENT_18  FLAG_DOCUMENT_19  \\\n",
       "15709                 0                 0                 1                 0   \n",
       "\n",
       "       FLAG_DOCUMENT_20  FLAG_DOCUMENT_21  AMT_REQ_CREDIT_BUREAU_HOUR  \\\n",
       "15709                 0                 0                         nan   \n",
       "\n",
       "       AMT_REQ_CREDIT_BUREAU_DAY  AMT_REQ_CREDIT_BUREAU_WEEK  \\\n",
       "15709                        nan                         nan   \n",
       "\n",
       "       AMT_REQ_CREDIT_BUREAU_MON  AMT_REQ_CREDIT_BUREAU_QRT  \\\n",
       "15709                        nan                        nan   \n",
       "\n",
       "       AMT_REQ_CREDIT_BUREAU_YEAR  \n",
       "15709                         nan  "
      ]
     },
     "execution_count": 55,
     "metadata": {},
     "output_type": "execute_result"
    }
   ],
   "source": [
    "data_application[data_application.DAYS_LAST_PHONE_CHANGE.isnull()]"
   ]
  },
  {
   "cell_type": "code",
   "execution_count": 56,
   "metadata": {},
   "outputs": [],
   "source": [
    "rows_dropped=rows_dropped+data_application.DAYS_LAST_PHONE_CHANGE.isnull().sum()"
   ]
  },
  {
   "cell_type": "markdown",
   "metadata": {},
   "source": [
    "Since this null is for records `TARGET` == 0 also since we already have a lot of data for such variable, its safe to drop this record"
   ]
  },
  {
   "cell_type": "code",
   "execution_count": 57,
   "metadata": {},
   "outputs": [],
   "source": [
    "data_application = data_application.loc[~data_application.DAYS_LAST_PHONE_CHANGE.isnull(),:]"
   ]
  },
  {
   "cell_type": "markdown",
   "metadata": {},
   "source": [
    "**HANDLING NULL FOR :** AMT_REQ_CREDIT_BUREAU_XXXX"
   ]
  },
  {
   "cell_type": "code",
   "execution_count": 58,
   "metadata": {},
   "outputs": [],
   "source": [
    "cols = list(data_application.filter(like='REQ_CREDIT_BUREAU').columns)"
   ]
  },
  {
   "cell_type": "code",
   "execution_count": 59,
   "metadata": {},
   "outputs": [
    {
     "data": {
      "text/html": [
       "<div>\n",
       "<style scoped>\n",
       "    .dataframe tbody tr th:only-of-type {\n",
       "        vertical-align: middle;\n",
       "    }\n",
       "\n",
       "    .dataframe tbody tr th {\n",
       "        vertical-align: top;\n",
       "    }\n",
       "\n",
       "    .dataframe thead th {\n",
       "        text-align: right;\n",
       "    }\n",
       "</style>\n",
       "<table border=\"1\" class=\"dataframe\">\n",
       "  <thead>\n",
       "    <tr style=\"text-align: right;\">\n",
       "      <th></th>\n",
       "      <th>AMT_REQ_CREDIT_BUREAU_HOUR</th>\n",
       "      <th>AMT_REQ_CREDIT_BUREAU_DAY</th>\n",
       "      <th>AMT_REQ_CREDIT_BUREAU_WEEK</th>\n",
       "      <th>AMT_REQ_CREDIT_BUREAU_MON</th>\n",
       "      <th>AMT_REQ_CREDIT_BUREAU_QRT</th>\n",
       "      <th>AMT_REQ_CREDIT_BUREAU_YEAR</th>\n",
       "    </tr>\n",
       "  </thead>\n",
       "  <tbody>\n",
       "    <tr>\n",
       "      <th>count</th>\n",
       "      <td>245448.00</td>\n",
       "      <td>245448.00</td>\n",
       "      <td>245448.00</td>\n",
       "      <td>245448.00</td>\n",
       "      <td>245448.00</td>\n",
       "      <td>245448.00</td>\n",
       "    </tr>\n",
       "    <tr>\n",
       "      <th>mean</th>\n",
       "      <td>0.01</td>\n",
       "      <td>0.01</td>\n",
       "      <td>0.03</td>\n",
       "      <td>0.27</td>\n",
       "      <td>0.27</td>\n",
       "      <td>1.89</td>\n",
       "    </tr>\n",
       "    <tr>\n",
       "      <th>std</th>\n",
       "      <td>0.08</td>\n",
       "      <td>0.11</td>\n",
       "      <td>0.20</td>\n",
       "      <td>0.93</td>\n",
       "      <td>0.81</td>\n",
       "      <td>1.86</td>\n",
       "    </tr>\n",
       "    <tr>\n",
       "      <th>min</th>\n",
       "      <td>0.00</td>\n",
       "      <td>0.00</td>\n",
       "      <td>0.00</td>\n",
       "      <td>0.00</td>\n",
       "      <td>0.00</td>\n",
       "      <td>0.00</td>\n",
       "    </tr>\n",
       "    <tr>\n",
       "      <th>25%</th>\n",
       "      <td>0.00</td>\n",
       "      <td>0.00</td>\n",
       "      <td>0.00</td>\n",
       "      <td>0.00</td>\n",
       "      <td>0.00</td>\n",
       "      <td>0.00</td>\n",
       "    </tr>\n",
       "    <tr>\n",
       "      <th>50%</th>\n",
       "      <td>0.00</td>\n",
       "      <td>0.00</td>\n",
       "      <td>0.00</td>\n",
       "      <td>0.00</td>\n",
       "      <td>0.00</td>\n",
       "      <td>1.00</td>\n",
       "    </tr>\n",
       "    <tr>\n",
       "      <th>75%</th>\n",
       "      <td>0.00</td>\n",
       "      <td>0.00</td>\n",
       "      <td>0.00</td>\n",
       "      <td>0.00</td>\n",
       "      <td>0.00</td>\n",
       "      <td>3.00</td>\n",
       "    </tr>\n",
       "    <tr>\n",
       "      <th>max</th>\n",
       "      <td>4.00</td>\n",
       "      <td>9.00</td>\n",
       "      <td>8.00</td>\n",
       "      <td>27.00</td>\n",
       "      <td>261.00</td>\n",
       "      <td>25.00</td>\n",
       "    </tr>\n",
       "  </tbody>\n",
       "</table>\n",
       "</div>"
      ],
      "text/plain": [
       "       AMT_REQ_CREDIT_BUREAU_HOUR  AMT_REQ_CREDIT_BUREAU_DAY  \\\n",
       "count                   245448.00                  245448.00   \n",
       "mean                         0.01                       0.01   \n",
       "std                          0.08                       0.11   \n",
       "min                          0.00                       0.00   \n",
       "25%                          0.00                       0.00   \n",
       "50%                          0.00                       0.00   \n",
       "75%                          0.00                       0.00   \n",
       "max                          4.00                       9.00   \n",
       "\n",
       "       AMT_REQ_CREDIT_BUREAU_WEEK  AMT_REQ_CREDIT_BUREAU_MON  \\\n",
       "count                   245448.00                  245448.00   \n",
       "mean                         0.03                       0.27   \n",
       "std                          0.20                       0.93   \n",
       "min                          0.00                       0.00   \n",
       "25%                          0.00                       0.00   \n",
       "50%                          0.00                       0.00   \n",
       "75%                          0.00                       0.00   \n",
       "max                          8.00                      27.00   \n",
       "\n",
       "       AMT_REQ_CREDIT_BUREAU_QRT  AMT_REQ_CREDIT_BUREAU_YEAR  \n",
       "count                  245448.00                   245448.00  \n",
       "mean                        0.27                        1.89  \n",
       "std                         0.81                        1.86  \n",
       "min                         0.00                        0.00  \n",
       "25%                         0.00                        0.00  \n",
       "50%                         0.00                        1.00  \n",
       "75%                         0.00                        3.00  \n",
       "max                       261.00                       25.00  "
      ]
     },
     "execution_count": 59,
     "metadata": {},
     "output_type": "execute_result"
    }
   ],
   "source": [
    "data_application.loc[data_application['TARGET']==0,cols].describe()"
   ]
  },
  {
   "cell_type": "code",
   "execution_count": 60,
   "metadata": {},
   "outputs": [
    {
     "data": {
      "text/html": [
       "<div>\n",
       "<style scoped>\n",
       "    .dataframe tbody tr th:only-of-type {\n",
       "        vertical-align: middle;\n",
       "    }\n",
       "\n",
       "    .dataframe tbody tr th {\n",
       "        vertical-align: top;\n",
       "    }\n",
       "\n",
       "    .dataframe thead th {\n",
       "        text-align: right;\n",
       "    }\n",
       "</style>\n",
       "<table border=\"1\" class=\"dataframe\">\n",
       "  <thead>\n",
       "    <tr style=\"text-align: right;\">\n",
       "      <th></th>\n",
       "      <th>AMT_REQ_CREDIT_BUREAU_HOUR</th>\n",
       "      <th>AMT_REQ_CREDIT_BUREAU_DAY</th>\n",
       "      <th>AMT_REQ_CREDIT_BUREAU_WEEK</th>\n",
       "      <th>AMT_REQ_CREDIT_BUREAU_MON</th>\n",
       "      <th>AMT_REQ_CREDIT_BUREAU_QRT</th>\n",
       "      <th>AMT_REQ_CREDIT_BUREAU_YEAR</th>\n",
       "    </tr>\n",
       "  </thead>\n",
       "  <tbody>\n",
       "    <tr>\n",
       "      <th>count</th>\n",
       "      <td>20533.00</td>\n",
       "      <td>20533.00</td>\n",
       "      <td>20533.00</td>\n",
       "      <td>20533.00</td>\n",
       "      <td>20533.00</td>\n",
       "      <td>20533.00</td>\n",
       "    </tr>\n",
       "    <tr>\n",
       "      <th>mean</th>\n",
       "      <td>0.01</td>\n",
       "      <td>0.01</td>\n",
       "      <td>0.03</td>\n",
       "      <td>0.23</td>\n",
       "      <td>0.26</td>\n",
       "      <td>2.03</td>\n",
       "    </tr>\n",
       "    <tr>\n",
       "      <th>std</th>\n",
       "      <td>0.08</td>\n",
       "      <td>0.11</td>\n",
       "      <td>0.20</td>\n",
       "      <td>0.75</td>\n",
       "      <td>0.64</td>\n",
       "      <td>1.93</td>\n",
       "    </tr>\n",
       "    <tr>\n",
       "      <th>min</th>\n",
       "      <td>0.00</td>\n",
       "      <td>0.00</td>\n",
       "      <td>0.00</td>\n",
       "      <td>0.00</td>\n",
       "      <td>0.00</td>\n",
       "      <td>0.00</td>\n",
       "    </tr>\n",
       "    <tr>\n",
       "      <th>25%</th>\n",
       "      <td>0.00</td>\n",
       "      <td>0.00</td>\n",
       "      <td>0.00</td>\n",
       "      <td>0.00</td>\n",
       "      <td>0.00</td>\n",
       "      <td>1.00</td>\n",
       "    </tr>\n",
       "    <tr>\n",
       "      <th>50%</th>\n",
       "      <td>0.00</td>\n",
       "      <td>0.00</td>\n",
       "      <td>0.00</td>\n",
       "      <td>0.00</td>\n",
       "      <td>0.00</td>\n",
       "      <td>2.00</td>\n",
       "    </tr>\n",
       "    <tr>\n",
       "      <th>75%</th>\n",
       "      <td>0.00</td>\n",
       "      <td>0.00</td>\n",
       "      <td>0.00</td>\n",
       "      <td>0.00</td>\n",
       "      <td>0.00</td>\n",
       "      <td>3.00</td>\n",
       "    </tr>\n",
       "    <tr>\n",
       "      <th>max</th>\n",
       "      <td>2.00</td>\n",
       "      <td>4.00</td>\n",
       "      <td>6.00</td>\n",
       "      <td>17.00</td>\n",
       "      <td>19.00</td>\n",
       "      <td>22.00</td>\n",
       "    </tr>\n",
       "  </tbody>\n",
       "</table>\n",
       "</div>"
      ],
      "text/plain": [
       "       AMT_REQ_CREDIT_BUREAU_HOUR  AMT_REQ_CREDIT_BUREAU_DAY  \\\n",
       "count                    20533.00                   20533.00   \n",
       "mean                         0.01                       0.01   \n",
       "std                          0.08                       0.11   \n",
       "min                          0.00                       0.00   \n",
       "25%                          0.00                       0.00   \n",
       "50%                          0.00                       0.00   \n",
       "75%                          0.00                       0.00   \n",
       "max                          2.00                       4.00   \n",
       "\n",
       "       AMT_REQ_CREDIT_BUREAU_WEEK  AMT_REQ_CREDIT_BUREAU_MON  \\\n",
       "count                    20533.00                   20533.00   \n",
       "mean                         0.03                       0.23   \n",
       "std                          0.20                       0.75   \n",
       "min                          0.00                       0.00   \n",
       "25%                          0.00                       0.00   \n",
       "50%                          0.00                       0.00   \n",
       "75%                          0.00                       0.00   \n",
       "max                          6.00                      17.00   \n",
       "\n",
       "       AMT_REQ_CREDIT_BUREAU_QRT  AMT_REQ_CREDIT_BUREAU_YEAR  \n",
       "count                   20533.00                    20533.00  \n",
       "mean                        0.26                        2.03  \n",
       "std                         0.64                        1.93  \n",
       "min                         0.00                        0.00  \n",
       "25%                         0.00                        1.00  \n",
       "50%                         0.00                        2.00  \n",
       "75%                         0.00                        3.00  \n",
       "max                        19.00                       22.00  "
      ]
     },
     "execution_count": 60,
     "metadata": {},
     "output_type": "execute_result"
    }
   ],
   "source": [
    "data_application.loc[data_application['TARGET']==1,cols].describe()"
   ]
  },
  {
   "cell_type": "markdown",
   "metadata": {},
   "source": [
    "Since the data is majorly distributed around 0 we'll impute the values to 0, that will be impute by Median"
   ]
  },
  {
   "cell_type": "code",
   "execution_count": 61,
   "metadata": {},
   "outputs": [],
   "source": [
    "for col in cols:\n",
    "    data_application[col].fillna(0,inplace=True)"
   ]
  },
  {
   "cell_type": "code",
   "execution_count": 62,
   "metadata": {},
   "outputs": [],
   "source": [
    "cols_to_impute.extend(col)\n",
    "col=[]"
   ]
  },
  {
   "cell_type": "markdown",
   "metadata": {},
   "source": [
    "**HANDLING Null values for :** EXT_SOURCE_X"
   ]
  },
  {
   "cell_type": "code",
   "execution_count": 63,
   "metadata": {},
   "outputs": [],
   "source": [
    "cols = data_application.filter(like='EXT_SOURCE').columns"
   ]
  },
  {
   "cell_type": "code",
   "execution_count": 64,
   "metadata": {},
   "outputs": [
    {
     "data": {
      "text/plain": [
       "0   0.91\n",
       "1   0.09\n",
       "Name: TARGET, dtype: float64"
      ]
     },
     "execution_count": 64,
     "metadata": {},
     "output_type": "execute_result"
    }
   ],
   "source": [
    "data_application[data_application['EXT_SOURCE_1'].isnull()]['TARGET'].value_counts(normalize=True)"
   ]
  },
  {
   "cell_type": "code",
   "execution_count": 65,
   "metadata": {},
   "outputs": [
    {
     "data": {
      "text/plain": [
       "EXT_SOURCE_1   -0.16\n",
       "EXT_SOURCE_2   -0.16\n",
       "EXT_SOURCE_3   -0.18\n",
       "TARGET          1.00\n",
       "Name: TARGET, dtype: float64"
      ]
     },
     "execution_count": 65,
     "metadata": {},
     "output_type": "execute_result"
    }
   ],
   "source": [
    "data_application.loc[:,['EXT_SOURCE_1','EXT_SOURCE_2','EXT_SOURCE_3','TARGET']].corr()['TARGET']"
   ]
  },
  {
   "cell_type": "markdown",
   "metadata": {},
   "source": [
    "From the above correlation we can see that the data `EXT_SOURCE_X` has a correlation towards `TARGET` we cannot drop the columns without further analysis so we'll impute the values based on central tendencies"
   ]
  },
  {
   "cell_type": "code",
   "execution_count": 66,
   "metadata": {},
   "outputs": [
    {
     "data": {
      "text/html": [
       "<div>\n",
       "<style scoped>\n",
       "    .dataframe tbody tr th:only-of-type {\n",
       "        vertical-align: middle;\n",
       "    }\n",
       "\n",
       "    .dataframe tbody tr th {\n",
       "        vertical-align: top;\n",
       "    }\n",
       "\n",
       "    .dataframe thead th {\n",
       "        text-align: right;\n",
       "    }\n",
       "</style>\n",
       "<table border=\"1\" class=\"dataframe\">\n",
       "  <thead>\n",
       "    <tr style=\"text-align: right;\">\n",
       "      <th></th>\n",
       "      <th>EXT_SOURCE_1</th>\n",
       "      <th>EXT_SOURCE_2</th>\n",
       "      <th>EXT_SOURCE_3</th>\n",
       "      <th>TARGET</th>\n",
       "    </tr>\n",
       "  </thead>\n",
       "  <tbody>\n",
       "    <tr>\n",
       "      <th>count</th>\n",
       "      <td>134125.00</td>\n",
       "      <td>306839.00</td>\n",
       "      <td>246535.00</td>\n",
       "      <td>307498.00</td>\n",
       "    </tr>\n",
       "    <tr>\n",
       "      <th>mean</th>\n",
       "      <td>0.50</td>\n",
       "      <td>0.51</td>\n",
       "      <td>0.51</td>\n",
       "      <td>0.08</td>\n",
       "    </tr>\n",
       "    <tr>\n",
       "      <th>std</th>\n",
       "      <td>0.21</td>\n",
       "      <td>0.19</td>\n",
       "      <td>0.19</td>\n",
       "      <td>0.27</td>\n",
       "    </tr>\n",
       "    <tr>\n",
       "      <th>min</th>\n",
       "      <td>0.01</td>\n",
       "      <td>0.00</td>\n",
       "      <td>0.00</td>\n",
       "      <td>0.00</td>\n",
       "    </tr>\n",
       "    <tr>\n",
       "      <th>25%</th>\n",
       "      <td>0.33</td>\n",
       "      <td>0.39</td>\n",
       "      <td>0.37</td>\n",
       "      <td>0.00</td>\n",
       "    </tr>\n",
       "    <tr>\n",
       "      <th>50%</th>\n",
       "      <td>0.51</td>\n",
       "      <td>0.57</td>\n",
       "      <td>0.54</td>\n",
       "      <td>0.00</td>\n",
       "    </tr>\n",
       "    <tr>\n",
       "      <th>75%</th>\n",
       "      <td>0.68</td>\n",
       "      <td>0.66</td>\n",
       "      <td>0.67</td>\n",
       "      <td>0.00</td>\n",
       "    </tr>\n",
       "    <tr>\n",
       "      <th>max</th>\n",
       "      <td>0.96</td>\n",
       "      <td>0.85</td>\n",
       "      <td>0.90</td>\n",
       "      <td>1.00</td>\n",
       "    </tr>\n",
       "  </tbody>\n",
       "</table>\n",
       "</div>"
      ],
      "text/plain": [
       "       EXT_SOURCE_1  EXT_SOURCE_2  EXT_SOURCE_3    TARGET\n",
       "count     134125.00     306839.00     246535.00 307498.00\n",
       "mean           0.50          0.51          0.51      0.08\n",
       "std            0.21          0.19          0.19      0.27\n",
       "min            0.01          0.00          0.00      0.00\n",
       "25%            0.33          0.39          0.37      0.00\n",
       "50%            0.51          0.57          0.54      0.00\n",
       "75%            0.68          0.66          0.67      0.00\n",
       "max            0.96          0.85          0.90      1.00"
      ]
     },
     "execution_count": 66,
     "metadata": {},
     "output_type": "execute_result"
    }
   ],
   "source": [
    "data_application.loc[:,['EXT_SOURCE_1','EXT_SOURCE_2','EXT_SOURCE_3','TARGET']].describe()"
   ]
  },
  {
   "cell_type": "code",
   "execution_count": 67,
   "metadata": {},
   "outputs": [
    {
     "data": {
      "text/html": [
       "<div>\n",
       "<style scoped>\n",
       "    .dataframe tbody tr th:only-of-type {\n",
       "        vertical-align: middle;\n",
       "    }\n",
       "\n",
       "    .dataframe tbody tr th {\n",
       "        vertical-align: top;\n",
       "    }\n",
       "\n",
       "    .dataframe thead th {\n",
       "        text-align: right;\n",
       "    }\n",
       "</style>\n",
       "<table border=\"1\" class=\"dataframe\">\n",
       "  <thead>\n",
       "    <tr style=\"text-align: right;\">\n",
       "      <th></th>\n",
       "      <th>EXT_SOURCE_1</th>\n",
       "      <th>EXT_SOURCE_2</th>\n",
       "      <th>EXT_SOURCE_3</th>\n",
       "      <th>TARGET</th>\n",
       "    </tr>\n",
       "  </thead>\n",
       "  <tbody>\n",
       "    <tr>\n",
       "      <th>count</th>\n",
       "      <td>124071.00</td>\n",
       "      <td>282066.00</td>\n",
       "      <td>227387.00</td>\n",
       "      <td>282673.00</td>\n",
       "    </tr>\n",
       "    <tr>\n",
       "      <th>mean</th>\n",
       "      <td>0.51</td>\n",
       "      <td>0.52</td>\n",
       "      <td>0.52</td>\n",
       "      <td>0.00</td>\n",
       "    </tr>\n",
       "    <tr>\n",
       "      <th>std</th>\n",
       "      <td>0.21</td>\n",
       "      <td>0.19</td>\n",
       "      <td>0.19</td>\n",
       "      <td>0.00</td>\n",
       "    </tr>\n",
       "    <tr>\n",
       "      <th>min</th>\n",
       "      <td>0.01</td>\n",
       "      <td>0.00</td>\n",
       "      <td>0.00</td>\n",
       "      <td>0.00</td>\n",
       "    </tr>\n",
       "    <tr>\n",
       "      <th>25%</th>\n",
       "      <td>0.35</td>\n",
       "      <td>0.41</td>\n",
       "      <td>0.39</td>\n",
       "      <td>0.00</td>\n",
       "    </tr>\n",
       "    <tr>\n",
       "      <th>50%</th>\n",
       "      <td>0.52</td>\n",
       "      <td>0.57</td>\n",
       "      <td>0.55</td>\n",
       "      <td>0.00</td>\n",
       "    </tr>\n",
       "    <tr>\n",
       "      <th>75%</th>\n",
       "      <td>0.68</td>\n",
       "      <td>0.67</td>\n",
       "      <td>0.67</td>\n",
       "      <td>0.00</td>\n",
       "    </tr>\n",
       "    <tr>\n",
       "      <th>max</th>\n",
       "      <td>0.96</td>\n",
       "      <td>0.85</td>\n",
       "      <td>0.89</td>\n",
       "      <td>0.00</td>\n",
       "    </tr>\n",
       "  </tbody>\n",
       "</table>\n",
       "</div>"
      ],
      "text/plain": [
       "       EXT_SOURCE_1  EXT_SOURCE_2  EXT_SOURCE_3    TARGET\n",
       "count     124071.00     282066.00     227387.00 282673.00\n",
       "mean           0.51          0.52          0.52      0.00\n",
       "std            0.21          0.19          0.19      0.00\n",
       "min            0.01          0.00          0.00      0.00\n",
       "25%            0.35          0.41          0.39      0.00\n",
       "50%            0.52          0.57          0.55      0.00\n",
       "75%            0.68          0.67          0.67      0.00\n",
       "max            0.96          0.85          0.89      0.00"
      ]
     },
     "execution_count": 67,
     "metadata": {},
     "output_type": "execute_result"
    }
   ],
   "source": [
    "data_application.loc[data_application['TARGET']==0,['EXT_SOURCE_1','EXT_SOURCE_2','EXT_SOURCE_3','TARGET']].describe()"
   ]
  },
  {
   "cell_type": "code",
   "execution_count": 68,
   "metadata": {
    "scrolled": true
   },
   "outputs": [
    {
     "data": {
      "text/html": [
       "<div>\n",
       "<style scoped>\n",
       "    .dataframe tbody tr th:only-of-type {\n",
       "        vertical-align: middle;\n",
       "    }\n",
       "\n",
       "    .dataframe tbody tr th {\n",
       "        vertical-align: top;\n",
       "    }\n",
       "\n",
       "    .dataframe thead th {\n",
       "        text-align: right;\n",
       "    }\n",
       "</style>\n",
       "<table border=\"1\" class=\"dataframe\">\n",
       "  <thead>\n",
       "    <tr style=\"text-align: right;\">\n",
       "      <th></th>\n",
       "      <th>EXT_SOURCE_1</th>\n",
       "      <th>EXT_SOURCE_2</th>\n",
       "      <th>EXT_SOURCE_3</th>\n",
       "      <th>TARGET</th>\n",
       "    </tr>\n",
       "  </thead>\n",
       "  <tbody>\n",
       "    <tr>\n",
       "      <th>count</th>\n",
       "      <td>10054.00</td>\n",
       "      <td>24773.00</td>\n",
       "      <td>19148.00</td>\n",
       "      <td>24825.00</td>\n",
       "    </tr>\n",
       "    <tr>\n",
       "      <th>mean</th>\n",
       "      <td>0.39</td>\n",
       "      <td>0.41</td>\n",
       "      <td>0.39</td>\n",
       "      <td>1.00</td>\n",
       "    </tr>\n",
       "    <tr>\n",
       "      <th>std</th>\n",
       "      <td>0.20</td>\n",
       "      <td>0.21</td>\n",
       "      <td>0.21</td>\n",
       "      <td>0.00</td>\n",
       "    </tr>\n",
       "    <tr>\n",
       "      <th>min</th>\n",
       "      <td>0.01</td>\n",
       "      <td>0.00</td>\n",
       "      <td>0.00</td>\n",
       "      <td>1.00</td>\n",
       "    </tr>\n",
       "    <tr>\n",
       "      <th>25%</th>\n",
       "      <td>0.22</td>\n",
       "      <td>0.24</td>\n",
       "      <td>0.22</td>\n",
       "      <td>1.00</td>\n",
       "    </tr>\n",
       "    <tr>\n",
       "      <th>50%</th>\n",
       "      <td>0.36</td>\n",
       "      <td>0.44</td>\n",
       "      <td>0.38</td>\n",
       "      <td>1.00</td>\n",
       "    </tr>\n",
       "    <tr>\n",
       "      <th>75%</th>\n",
       "      <td>0.54</td>\n",
       "      <td>0.59</td>\n",
       "      <td>0.55</td>\n",
       "      <td>1.00</td>\n",
       "    </tr>\n",
       "    <tr>\n",
       "      <th>max</th>\n",
       "      <td>0.93</td>\n",
       "      <td>0.81</td>\n",
       "      <td>0.90</td>\n",
       "      <td>1.00</td>\n",
       "    </tr>\n",
       "  </tbody>\n",
       "</table>\n",
       "</div>"
      ],
      "text/plain": [
       "       EXT_SOURCE_1  EXT_SOURCE_2  EXT_SOURCE_3   TARGET\n",
       "count      10054.00      24773.00      19148.00 24825.00\n",
       "mean           0.39          0.41          0.39     1.00\n",
       "std            0.20          0.21          0.21     0.00\n",
       "min            0.01          0.00          0.00     1.00\n",
       "25%            0.22          0.24          0.22     1.00\n",
       "50%            0.36          0.44          0.38     1.00\n",
       "75%            0.54          0.59          0.55     1.00\n",
       "max            0.93          0.81          0.90     1.00"
      ]
     },
     "execution_count": 68,
     "metadata": {},
     "output_type": "execute_result"
    }
   ],
   "source": [
    "data_application.loc[data_application['TARGET']==1,['EXT_SOURCE_1','EXT_SOURCE_2','EXT_SOURCE_3','TARGET']].describe()"
   ]
  },
  {
   "cell_type": "code",
   "execution_count": 69,
   "metadata": {},
   "outputs": [
    {
     "data": {
      "text/plain": [
       "<matplotlib.axes._subplots.AxesSubplot at 0x1cc27f7fa60>"
      ]
     },
     "execution_count": 69,
     "metadata": {},
     "output_type": "execute_result"
    },
    {
     "data": {
      "image/png": "[encoded data removed]",
      "text/plain": [
       "<Figure size 1296x432 with 3 Axes>"
      ]
     },
     "metadata": {
      "needs_background": "light"
     },
     "output_type": "display_data"
    }
   ],
   "source": [
    "subset = data_application.loc[:,['EXT_SOURCE_2','EXT_SOURCE_3','TARGET']]\n",
    "fig,ax = plt.subplots(ncols=3,sharey=True)\n",
    "fig.set_size_inches(18, 6, forward=True)\n",
    "sns.boxplot(data=subset[subset['TARGET']==1],ax=ax[0])\n",
    "sns.boxplot(data=subset[subset['TARGET']==0],ax=ax[1])\n",
    "sns.boxplot(data=subset,ax=ax[2])"
   ]
  },
  {
   "cell_type": "markdown",
   "metadata": {},
   "source": [
    "Since the Mean/Median are almost similar in this case we'll go with Median value for imputing null.\n",
    "\n",
    "However theres a point to note here, \n",
    "1. Median for `TARGET` = 0 is different thant `TARGET` = 1 so, we'll have to impute the missing values separately.\n",
    "\n",
    "*Reson for this : Since the data is imbalanced towards `TARGET` value 0, we'll have to impute the missing values seperately for both the cases to aviod introducing bias while imputing data*\n",
    "\n",
    "*Another point to note here is `EXT_SOURCE_1` has around 56% null values, so in this case anything we impute is going to skew the data and introduce tremendous amount of bias, so we'll drop that from our analysis*\n",
    "\n",
    "Following is the code to handle it automatically :-"
   ]
  },
  {
   "cell_type": "code",
   "execution_count": 70,
   "metadata": {},
   "outputs": [],
   "source": [
    "data_application.loc[(data_application['EXT_SOURCE_2'].isnull()) & ((data_application['TARGET']==1)), 'EXT_SOURCE_2'] = data_application.loc[data_application['TARGET']==1,'EXT_SOURCE_2'].describe()['50%']\n",
    "data_application.loc[(data_application['EXT_SOURCE_3'].isnull()) & ((data_application['TARGET']==1)), 'EXT_SOURCE_3'] = data_application.loc[data_application['TARGET']==1,'EXT_SOURCE_3'].describe()['50%']"
   ]
  },
  {
   "cell_type": "code",
   "execution_count": 71,
   "metadata": {},
   "outputs": [],
   "source": [
    "data_application.loc[(data_application['EXT_SOURCE_2'].isnull()) & ((data_application['TARGET']==0)), 'EXT_SOURCE_2'] = data_application.loc[data_application['TARGET']==0,'EXT_SOURCE_2'].describe()['50%']\n",
    "data_application.loc[(data_application['EXT_SOURCE_3'].isnull()) & ((data_application['TARGET']==0)), 'EXT_SOURCE_3'] = data_application.loc[data_application['TARGET']==0,'EXT_SOURCE_3'].describe()['50%']"
   ]
  },
  {
   "cell_type": "code",
   "execution_count": 72,
   "metadata": {},
   "outputs": [
    {
     "data": {
      "text/plain": [
       "<matplotlib.axes._subplots.AxesSubplot at 0x1cc275d0ac0>"
      ]
     },
     "execution_count": 72,
     "metadata": {},
     "output_type": "execute_result"
    },
    {
     "data": {
      "image/png": "[encoded data removed]",
      "text/plain": [
       "<Figure size 1296x432 with 3 Axes>"
      ]
     },
     "metadata": {
      "needs_background": "light"
     },
     "output_type": "display_data"
    }
   ],
   "source": [
    "subset = data_application.loc[:,['EXT_SOURCE_2','EXT_SOURCE_3','TARGET']]\n",
    "fig,ax = plt.subplots(ncols=3,sharey=True)\n",
    "fig.set_size_inches(18, 6, forward=True)\n",
    "sns.boxplot(data=subset[subset['TARGET']==1],ax=ax[0])\n",
    "sns.boxplot(data=subset[subset['TARGET']==0],ax=ax[1])\n",
    "sns.boxplot(data=subset,ax=ax[2])"
   ]
  },
  {
   "cell_type": "markdown",
   "metadata": {},
   "source": [
    "Point of observation : After imputation we can see that the IQR hasn't changed much however it has introduced some outliers which werent actual outlier on the raw data"
   ]
  },
  {
   "cell_type": "code",
   "execution_count": 73,
   "metadata": {},
   "outputs": [],
   "source": [
    "cols_to_drop.append('EXT_SOURCE_1')"
   ]
  },
  {
   "cell_type": "markdown",
   "metadata": {},
   "source": [
    "By now we have gotten rid of all the null values by imputing, and we ready with list of columns we want to drop in the next stage, below is the summary of the steps perfromed above :-"
   ]
  },
  {
   "cell_type": "code",
   "execution_count": 74,
   "metadata": {},
   "outputs": [
    {
     "name": "stdout",
     "output_type": "stream",
     "text": [
      "Total Columns to drop from imported dataset 68\n",
      "Total Columns imputed : 28\n",
      "Total rows dropped    : 13\n"
     ]
    }
   ],
   "source": [
    "print(f\"Total Columns to drop from imported dataset {len(cols_to_drop)}\")\n",
    "print(f\"Total Columns imputed : {len(cols_to_impute)}\")\n",
    "print(f\"Total rows dropped    : {rows_dropped}\")"
   ]
  },
  {
   "cell_type": "markdown",
   "metadata": {},
   "source": [
    "**Removing unnecessary columns** "
   ]
  },
  {
   "cell_type": "code",
   "execution_count": 75,
   "metadata": {},
   "outputs": [],
   "source": [
    "application = data_application.drop(cols_to_drop,axis=1)"
   ]
  },
  {
   "cell_type": "markdown",
   "metadata": {},
   "source": [
    "## SAMPLING THE DATA TO REMOVE THE IMBALANCE"
   ]
  },
  {
   "cell_type": "markdown",
   "metadata": {},
   "source": [
    "##### Sampling data to remove data imbalance, we'll try to bring down the number of rows from TARGET=0  by randomly removing data\n",
    "\n",
    "After resampling we'll check the key features with before and after values to see if by mistake have we introduced any unknown bias. Since we'll use random sampling technique, the chances of that happening should be low"
   ]
  },
  {
   "cell_type": "markdown",
   "metadata": {},
   "source": [
    "**Reason to do Sampling before outlier analysis and feature Engineering :**\n",
    "\n",
    "We always want our sample data to be a represenatation of actual population, hence going ahead with removing the imbalance by under sampling `TARGET` = 0 records instead of afterwards.\n",
    "\n",
    "Idea is that the sample will remain the same and contain similar properties from population"
   ]
  },
  {
   "cell_type": "code",
   "execution_count": 76,
   "metadata": {},
   "outputs": [],
   "source": [
    "count_0,count_1 = application['TARGET'].value_counts()"
   ]
  },
  {
   "cell_type": "code",
   "execution_count": 77,
   "metadata": {},
   "outputs": [],
   "source": [
    "application_target_0 = application.loc[application['TARGET']==0,:]\n",
    "application_target_1 = application.loc[application['TARGET']==1,:]"
   ]
  },
  {
   "cell_type": "code",
   "execution_count": 78,
   "metadata": {},
   "outputs": [],
   "source": [
    "under_sampled_app_target_0 = application_target_0.sample(count_1)"
   ]
  },
  {
   "cell_type": "markdown",
   "metadata": {},
   "source": [
    "Performing some basic sanity checks before merging :"
   ]
  },
  {
   "cell_type": "code",
   "execution_count": 79,
   "metadata": {},
   "outputs": [
    {
     "name": "stdout",
     "output_type": "stream",
     "text": [
      "Cash loans        0.90\n",
      "Revolving loans   0.10\n",
      "Name: NAME_CONTRACT_TYPE, dtype: float64\n",
      "Cash loans        0.90\n",
      "Revolving loans   0.10\n",
      "Name: NAME_CONTRACT_TYPE, dtype: float64\n"
     ]
    }
   ],
   "source": [
    "print(application_target_0['NAME_CONTRACT_TYPE'].value_counts(normalize=True))\n",
    "print(under_sampled_app_target_0['NAME_CONTRACT_TYPE'].value_counts(normalize=True))"
   ]
  },
  {
   "cell_type": "code",
   "execution_count": 80,
   "metadata": {},
   "outputs": [
    {
     "name": "stdout",
     "output_type": "stream",
     "text": [
      "F     0.67\n",
      "M     0.33\n",
      "XNA   0.00\n",
      "Name: CODE_GENDER, dtype: float64\n",
      "F     0.66\n",
      "M     0.34\n",
      "XNA   0.00\n",
      "Name: CODE_GENDER, dtype: float64\n"
     ]
    }
   ],
   "source": [
    "print(application_target_0['CODE_GENDER'].value_counts(normalize=True))\n",
    "print(under_sampled_app_target_0['CODE_GENDER'].value_counts(normalize=True))"
   ]
  },
  {
   "cell_type": "code",
   "execution_count": 81,
   "metadata": {
    "scrolled": true
   },
   "outputs": [
    {
     "data": {
      "image/png": "[encoded data removed]",
      "text/plain": [
       "<Figure size 360x216 with 2 Axes>"
      ]
     },
     "metadata": {
      "needs_background": "light"
     },
     "output_type": "display_data"
    }
   ],
   "source": [
    "fig,ax = plt.subplots(ncols=2,sharey=True)\n",
    "fig.set_size_inches(5, 3, forward=True)\n",
    "ax[0].set_title('Before Sampling')\n",
    "ax[1].set_title('After Sampling')\n",
    "sns.distplot(application_target_0['DAYS_BIRTH'],ax=ax[0],label='Before Sampling',hist_kws={'edgecolor':'black'})\n",
    "sns.distplot(under_sampled_app_target_0['DAYS_BIRTH'],ax=ax[1],label='After Sampling',hist_kws={'edgecolor':'black'})\n",
    "plt.show()"
   ]
  },
  {
   "cell_type": "code",
   "execution_count": 82,
   "metadata": {},
   "outputs": [
    {
     "data": {
      "text/plain": [
       "<matplotlib.axes._subplots.AxesSubplot at 0x1cc4bf44b20>"
      ]
     },
     "execution_count": 82,
     "metadata": {},
     "output_type": "execute_result"
    },
    {
     "data": {
      "image/png": "[encoded data removed]",
      "text/plain": [
       "<Figure size 576x288 with 2 Axes>"
      ]
     },
     "metadata": {
      "needs_background": "light"
     },
     "output_type": "display_data"
    }
   ],
   "source": [
    "fig,ax = plt.subplots(ncols=2,sharey=True)\n",
    "fig.set_size_inches(8, 4, forward=True)\n",
    "ax[0].set_title('Before Sampling')\n",
    "ax[1].set_title('After Sampling')\n",
    "sns.distplot(application_target_0['AMT_INCOME_TOTAL'],ax=ax[0],label='Before Sampling',hist_kws={'edgecolor':'black'})\n",
    "sns.distplot(under_sampled_app_target_0['AMT_INCOME_TOTAL'],ax=ax[1],label='After Sampling',hist_kws={'edgecolor':'black'})"
   ]
  },
  {
   "cell_type": "code",
   "execution_count": 83,
   "metadata": {},
   "outputs": [
    {
     "data": {
      "text/plain": [
       "<matplotlib.axes._subplots.AxesSubplot at 0x1cc4c0668e0>"
      ]
     },
     "execution_count": 83,
     "metadata": {},
     "output_type": "execute_result"
    },
    {
     "data": {
      "image/png": "[encoded data removed]",
      "text/plain": [
       "<Figure size 576x288 with 2 Axes>"
      ]
     },
     "metadata": {
      "needs_background": "light"
     },
     "output_type": "display_data"
    }
   ],
   "source": [
    "fig,ax = plt.subplots(ncols=2,sharey=True)\n",
    "fig.set_size_inches(8, 4, forward=True)\n",
    "ax[0].set_title('Before Sampling')\n",
    "ax[1].set_title('After Sampling')\n",
    "sns.distplot(application_target_0['AMT_CREDIT'],ax=ax[0],label='Before Sampling',hist_kws={'edgecolor':'black'})\n",
    "sns.distplot(under_sampled_app_target_0['AMT_CREDIT'],ax=ax[1],label='After Sampling',hist_kws={'edgecolor':'black'})"
   ]
  },
  {
   "cell_type": "code",
   "execution_count": 84,
   "metadata": {},
   "outputs": [
    {
     "data": {
      "text/plain": [
       "<matplotlib.axes._subplots.AxesSubplot at 0x1cc5f91c100>"
      ]
     },
     "execution_count": 84,
     "metadata": {},
     "output_type": "execute_result"
    },
    {
     "data": {
      "image/png": "[encoded data removed]",
      "text/plain": [
       "<Figure size 576x288 with 2 Axes>"
      ]
     },
     "metadata": {
      "needs_background": "light"
     },
     "output_type": "display_data"
    }
   ],
   "source": [
    "fig,ax = plt.subplots(ncols=2,sharey=True)\n",
    "fig.set_size_inches(8, 4, forward=True)\n",
    "ax[0].set_title('Before Sampling')\n",
    "ax[1].set_title('After Sampling')\n",
    "sns.distplot(application_target_0['AMT_ANNUITY'],ax=ax[0],label='Before Sampling',hist_kws={'edgecolor':'black'})\n",
    "sns.distplot(under_sampled_app_target_0['AMT_ANNUITY'],ax=ax[1],label='After Sampling',hist_kws={'edgecolor':'black'})"
   ]
  },
  {
   "cell_type": "code",
   "execution_count": 85,
   "metadata": {},
   "outputs": [
    {
     "name": "stdout",
     "output_type": "stream",
     "text": [
      "Before sampling :\n",
      "Unaccompanied     0.81\n",
      "Family            0.13\n",
      "Spouse, partner   0.04\n",
      "Children          0.01\n",
      "Other_B           0.01\n",
      "Other_A           0.00\n",
      "Group of people   0.00\n",
      "Name: NAME_TYPE_SUITE, dtype: float64\n",
      "After sampling :\n",
      "Unaccompanied     0.81\n",
      "Family            0.13\n",
      "Spouse, partner   0.04\n",
      "Children          0.01\n",
      "Other_B           0.00\n",
      "Other_A           0.00\n",
      "Group of people   0.00\n",
      "Name: NAME_TYPE_SUITE, dtype: float64\n"
     ]
    }
   ],
   "source": [
    "print(f\"Before sampling :\\n{application_target_0['NAME_TYPE_SUITE'].value_counts(normalize=True)}\")\n",
    "print(f\"After sampling :\\n{under_sampled_app_target_0['NAME_TYPE_SUITE'].value_counts(normalize=True)}\")"
   ]
  },
  {
   "cell_type": "markdown",
   "metadata": {},
   "source": [
    "*From above few examples its safe to conclude that the sampling has not introduced any Bias, and its randomly selected sample*\n",
    "\n",
    "*Fruther more in some cases we could see that through sampling we were actually able to see patterns more easily*"
   ]
  },
  {
   "cell_type": "code",
   "execution_count": 86,
   "metadata": {},
   "outputs": [],
   "source": [
    "application_sampled = pd.concat([under_sampled_app_target_0,application_target_1])"
   ]
  },
  {
   "cell_type": "markdown",
   "metadata": {},
   "source": [
    "From this point we will be using sampled data for continuing with the analysis `application_sampled`"
   ]
  },
  {
   "cell_type": "code",
   "execution_count": 87,
   "metadata": {},
   "outputs": [
    {
     "data": {
      "text/plain": [
       "1   0.50\n",
       "0   0.50\n",
       "Name: TARGET, dtype: float64"
      ]
     },
     "execution_count": 87,
     "metadata": {},
     "output_type": "execute_result"
    }
   ],
   "source": [
    "application_sampled.TARGET.value_counts(normalize=True)"
   ]
  },
  {
   "cell_type": "markdown",
   "metadata": {},
   "source": [
    "Checking for all the columns and match their type"
   ]
  },
  {
   "cell_type": "code",
   "execution_count": 88,
   "metadata": {},
   "outputs": [
    {
     "name": "stdout",
     "output_type": "stream",
     "text": [
      "<class 'pandas.core.frame.DataFrame'>\n",
      "Int64Index: 49650 entries, 212963 to 307509\n",
      "Data columns (total 54 columns):\n",
      " #   Column                       Non-Null Count  Dtype  \n",
      "---  ------                       --------------  -----  \n",
      " 0   SK_ID_CURR                   49650 non-null  int64  \n",
      " 1   TARGET                       49650 non-null  int64  \n",
      " 2   NAME_CONTRACT_TYPE           49650 non-null  object \n",
      " 3   CODE_GENDER                  49650 non-null  object \n",
      " 4   FLAG_OWN_CAR                 49650 non-null  object \n",
      " 5   FLAG_OWN_REALTY              49650 non-null  object \n",
      " 6   CNT_CHILDREN                 49650 non-null  int64  \n",
      " 7   AMT_INCOME_TOTAL             49650 non-null  float64\n",
      " 8   AMT_CREDIT                   49650 non-null  float64\n",
      " 9   AMT_ANNUITY                  49650 non-null  float64\n",
      " 10  AMT_GOODS_PRICE              49650 non-null  float64\n",
      " 11  NAME_TYPE_SUITE              49650 non-null  object \n",
      " 12  NAME_INCOME_TYPE             49650 non-null  object \n",
      " 13  NAME_EDUCATION_TYPE          49650 non-null  object \n",
      " 14  NAME_FAMILY_STATUS           49650 non-null  object \n",
      " 15  NAME_HOUSING_TYPE            49650 non-null  object \n",
      " 16  REGION_POPULATION_RELATIVE   49650 non-null  float64\n",
      " 17  DAYS_BIRTH                   49650 non-null  int64  \n",
      " 18  DAYS_EMPLOYED                49650 non-null  int64  \n",
      " 19  DAYS_REGISTRATION            49650 non-null  float64\n",
      " 20  DAYS_ID_PUBLISH              49650 non-null  int64  \n",
      " 21  OWN_CAR_AGE                  49650 non-null  float64\n",
      " 22  FLAG_MOBIL                   49650 non-null  int64  \n",
      " 23  FLAG_EMP_PHONE               49650 non-null  int64  \n",
      " 24  FLAG_WORK_PHONE              49650 non-null  int64  \n",
      " 25  FLAG_CONT_MOBILE             49650 non-null  int64  \n",
      " 26  FLAG_PHONE                   49650 non-null  int64  \n",
      " 27  FLAG_EMAIL                   49650 non-null  int64  \n",
      " 28  OCCUPATION_TYPE              49650 non-null  object \n",
      " 29  CNT_FAM_MEMBERS              49650 non-null  float64\n",
      " 30  REGION_RATING_CLIENT         49650 non-null  int64  \n",
      " 31  REGION_RATING_CLIENT_W_CITY  49650 non-null  int64  \n",
      " 32  WEEKDAY_APPR_PROCESS_START   49650 non-null  object \n",
      " 33  HOUR_APPR_PROCESS_START      49650 non-null  int64  \n",
      " 34  REG_REGION_NOT_LIVE_REGION   49650 non-null  int64  \n",
      " 35  REG_REGION_NOT_WORK_REGION   49650 non-null  int64  \n",
      " 36  LIVE_REGION_NOT_WORK_REGION  49650 non-null  int64  \n",
      " 37  REG_CITY_NOT_LIVE_CITY       49650 non-null  int64  \n",
      " 38  REG_CITY_NOT_WORK_CITY       49650 non-null  int64  \n",
      " 39  LIVE_CITY_NOT_WORK_CITY      49650 non-null  int64  \n",
      " 40  ORGANIZATION_TYPE            49650 non-null  object \n",
      " 41  EXT_SOURCE_2                 49650 non-null  float64\n",
      " 42  EXT_SOURCE_3                 49650 non-null  float64\n",
      " 43  OBS_30_CNT_SOCIAL_CIRCLE     49650 non-null  float64\n",
      " 44  DEF_30_CNT_SOCIAL_CIRCLE     49650 non-null  float64\n",
      " 45  OBS_60_CNT_SOCIAL_CIRCLE     49650 non-null  float64\n",
      " 46  DEF_60_CNT_SOCIAL_CIRCLE     49650 non-null  float64\n",
      " 47  DAYS_LAST_PHONE_CHANGE       49650 non-null  float64\n",
      " 48  AMT_REQ_CREDIT_BUREAU_HOUR   49650 non-null  float64\n",
      " 49  AMT_REQ_CREDIT_BUREAU_DAY    49650 non-null  float64\n",
      " 50  AMT_REQ_CREDIT_BUREAU_WEEK   49650 non-null  float64\n",
      " 51  AMT_REQ_CREDIT_BUREAU_MON    49650 non-null  float64\n",
      " 52  AMT_REQ_CREDIT_BUREAU_QRT    49650 non-null  float64\n",
      " 53  AMT_REQ_CREDIT_BUREAU_YEAR   49650 non-null  float64\n",
      "dtypes: float64(21), int64(21), object(12)\n",
      "memory usage: 20.8+ MB\n"
     ]
    }
   ],
   "source": [
    "application_sampled.info(verbose=True)"
   ]
  },
  {
   "cell_type": "markdown",
   "metadata": {},
   "source": [
    "# DATA CLEANING AND FEATURE ENGINEERING\n",
    "\n",
    "1. Outlier Analysis\n",
    "2. Removing the data imbalance using sampling techniques provided by pandas, and choose the most fit\n",
    "3. Converting columns to their proper data type. \n",
    "4. Rounding off the data.\n",
    "5. Converting Numerical to categorical when required (This will be done along with univariate analysis)"
   ]
  },
  {
   "cell_type": "markdown",
   "metadata": {},
   "source": [
    "### Removing outliers :"
   ]
  },
  {
   "cell_type": "code",
   "execution_count": 89,
   "metadata": {},
   "outputs": [
    {
     "data": {
      "text/html": [
       "<div>\n",
       "<style scoped>\n",
       "    .dataframe tbody tr th:only-of-type {\n",
       "        vertical-align: middle;\n",
       "    }\n",
       "\n",
       "    .dataframe tbody tr th {\n",
       "        vertical-align: top;\n",
       "    }\n",
       "\n",
       "    .dataframe thead th {\n",
       "        text-align: right;\n",
       "    }\n",
       "</style>\n",
       "<table border=\"1\" class=\"dataframe\">\n",
       "  <thead>\n",
       "    <tr style=\"text-align: right;\">\n",
       "      <th></th>\n",
       "      <th>SK_ID_CURR</th>\n",
       "      <th>TARGET</th>\n",
       "      <th>CNT_CHILDREN</th>\n",
       "      <th>AMT_INCOME_TOTAL</th>\n",
       "      <th>AMT_CREDIT</th>\n",
       "      <th>AMT_ANNUITY</th>\n",
       "      <th>AMT_GOODS_PRICE</th>\n",
       "      <th>REGION_POPULATION_RELATIVE</th>\n",
       "      <th>DAYS_BIRTH</th>\n",
       "      <th>DAYS_EMPLOYED</th>\n",
       "      <th>DAYS_REGISTRATION</th>\n",
       "      <th>DAYS_ID_PUBLISH</th>\n",
       "      <th>OWN_CAR_AGE</th>\n",
       "      <th>FLAG_MOBIL</th>\n",
       "      <th>FLAG_EMP_PHONE</th>\n",
       "      <th>FLAG_WORK_PHONE</th>\n",
       "      <th>FLAG_CONT_MOBILE</th>\n",
       "      <th>FLAG_PHONE</th>\n",
       "      <th>FLAG_EMAIL</th>\n",
       "      <th>CNT_FAM_MEMBERS</th>\n",
       "      <th>REGION_RATING_CLIENT</th>\n",
       "      <th>REGION_RATING_CLIENT_W_CITY</th>\n",
       "      <th>HOUR_APPR_PROCESS_START</th>\n",
       "      <th>REG_REGION_NOT_LIVE_REGION</th>\n",
       "      <th>REG_REGION_NOT_WORK_REGION</th>\n",
       "      <th>LIVE_REGION_NOT_WORK_REGION</th>\n",
       "      <th>REG_CITY_NOT_LIVE_CITY</th>\n",
       "      <th>REG_CITY_NOT_WORK_CITY</th>\n",
       "      <th>LIVE_CITY_NOT_WORK_CITY</th>\n",
       "      <th>EXT_SOURCE_2</th>\n",
       "      <th>EXT_SOURCE_3</th>\n",
       "      <th>OBS_30_CNT_SOCIAL_CIRCLE</th>\n",
       "      <th>DEF_30_CNT_SOCIAL_CIRCLE</th>\n",
       "      <th>OBS_60_CNT_SOCIAL_CIRCLE</th>\n",
       "      <th>DEF_60_CNT_SOCIAL_CIRCLE</th>\n",
       "      <th>DAYS_LAST_PHONE_CHANGE</th>\n",
       "      <th>AMT_REQ_CREDIT_BUREAU_HOUR</th>\n",
       "      <th>AMT_REQ_CREDIT_BUREAU_DAY</th>\n",
       "      <th>AMT_REQ_CREDIT_BUREAU_WEEK</th>\n",
       "      <th>AMT_REQ_CREDIT_BUREAU_MON</th>\n",
       "      <th>AMT_REQ_CREDIT_BUREAU_QRT</th>\n",
       "      <th>AMT_REQ_CREDIT_BUREAU_YEAR</th>\n",
       "    </tr>\n",
       "  </thead>\n",
       "  <tbody>\n",
       "    <tr>\n",
       "      <th>count</th>\n",
       "      <td>49650.00</td>\n",
       "      <td>49650.00</td>\n",
       "      <td>49650.00</td>\n",
       "      <td>49650.00</td>\n",
       "      <td>49650.00</td>\n",
       "      <td>49650.00</td>\n",
       "      <td>49650.00</td>\n",
       "      <td>49650.00</td>\n",
       "      <td>49650.00</td>\n",
       "      <td>49650.00</td>\n",
       "      <td>49650.00</td>\n",
       "      <td>49650.00</td>\n",
       "      <td>49650.00</td>\n",
       "      <td>49650.00</td>\n",
       "      <td>49650.00</td>\n",
       "      <td>49650.00</td>\n",
       "      <td>49650.00</td>\n",
       "      <td>49650.00</td>\n",
       "      <td>49650.00</td>\n",
       "      <td>49650.00</td>\n",
       "      <td>49650.00</td>\n",
       "      <td>49650.00</td>\n",
       "      <td>49650.00</td>\n",
       "      <td>49650.00</td>\n",
       "      <td>49650.00</td>\n",
       "      <td>49650.00</td>\n",
       "      <td>49650.00</td>\n",
       "      <td>49650.00</td>\n",
       "      <td>49650.00</td>\n",
       "      <td>49650.00</td>\n",
       "      <td>49650.00</td>\n",
       "      <td>49650.00</td>\n",
       "      <td>49650.00</td>\n",
       "      <td>49650.00</td>\n",
       "      <td>49650.00</td>\n",
       "      <td>49650.00</td>\n",
       "      <td>49650.00</td>\n",
       "      <td>49650.00</td>\n",
       "      <td>49650.00</td>\n",
       "      <td>49650.00</td>\n",
       "      <td>49650.00</td>\n",
       "      <td>49650.00</td>\n",
       "    </tr>\n",
       "    <tr>\n",
       "      <th>mean</th>\n",
       "      <td>278689.06</td>\n",
       "      <td>0.50</td>\n",
       "      <td>0.44</td>\n",
       "      <td>167257.03</td>\n",
       "      <td>579174.90</td>\n",
       "      <td>26801.96</td>\n",
       "      <td>514455.32</td>\n",
       "      <td>0.02</td>\n",
       "      <td>-15530.23</td>\n",
       "      <td>53985.39</td>\n",
       "      <td>-4765.72</td>\n",
       "      <td>-2878.53</td>\n",
       "      <td>4.15</td>\n",
       "      <td>1.00</td>\n",
       "      <td>0.85</td>\n",
       "      <td>0.22</td>\n",
       "      <td>1.00</td>\n",
       "      <td>0.26</td>\n",
       "      <td>0.06</td>\n",
       "      <td>2.16</td>\n",
       "      <td>2.10</td>\n",
       "      <td>2.08</td>\n",
       "      <td>11.95</td>\n",
       "      <td>0.02</td>\n",
       "      <td>0.05</td>\n",
       "      <td>0.04</td>\n",
       "      <td>0.10</td>\n",
       "      <td>0.26</td>\n",
       "      <td>0.20</td>\n",
       "      <td>0.47</td>\n",
       "      <td>0.46</td>\n",
       "      <td>1.45</td>\n",
       "      <td>0.16</td>\n",
       "      <td>1.43</td>\n",
       "      <td>0.12</td>\n",
       "      <td>-890.59</td>\n",
       "      <td>0.01</td>\n",
       "      <td>0.01</td>\n",
       "      <td>0.03</td>\n",
       "      <td>0.21</td>\n",
       "      <td>0.23</td>\n",
       "      <td>1.65</td>\n",
       "    </tr>\n",
       "    <tr>\n",
       "      <th>std</th>\n",
       "      <td>102531.31</td>\n",
       "      <td>0.50</td>\n",
       "      <td>0.73</td>\n",
       "      <td>538768.93</td>\n",
       "      <td>376951.72</td>\n",
       "      <td>13531.49</td>\n",
       "      <td>343323.70</td>\n",
       "      <td>0.01</td>\n",
       "      <td>4334.85</td>\n",
       "      <td>132156.51</td>\n",
       "      <td>3438.59</td>\n",
       "      <td>1513.82</td>\n",
       "      <td>9.24</td>\n",
       "      <td>0.00</td>\n",
       "      <td>0.36</td>\n",
       "      <td>0.41</td>\n",
       "      <td>0.04</td>\n",
       "      <td>0.44</td>\n",
       "      <td>0.23</td>\n",
       "      <td>0.93</td>\n",
       "      <td>0.51</td>\n",
       "      <td>0.50</td>\n",
       "      <td>3.27</td>\n",
       "      <td>0.13</td>\n",
       "      <td>0.23</td>\n",
       "      <td>0.20</td>\n",
       "      <td>0.30</td>\n",
       "      <td>0.44</td>\n",
       "      <td>0.40</td>\n",
       "      <td>0.21</td>\n",
       "      <td>0.19</td>\n",
       "      <td>2.34</td>\n",
       "      <td>0.48</td>\n",
       "      <td>2.32</td>\n",
       "      <td>0.39</td>\n",
       "      <td>795.58</td>\n",
       "      <td>0.08</td>\n",
       "      <td>0.10</td>\n",
       "      <td>0.19</td>\n",
       "      <td>0.78</td>\n",
       "      <td>0.59</td>\n",
       "      <td>1.88</td>\n",
       "    </tr>\n",
       "    <tr>\n",
       "      <th>min</th>\n",
       "      <td>100002.00</td>\n",
       "      <td>0.00</td>\n",
       "      <td>0.00</td>\n",
       "      <td>25650.00</td>\n",
       "      <td>45000.00</td>\n",
       "      <td>1993.50</td>\n",
       "      <td>45000.00</td>\n",
       "      <td>0.00</td>\n",
       "      <td>-25168.00</td>\n",
       "      <td>-17170.00</td>\n",
       "      <td>-22928.00</td>\n",
       "      <td>-6274.00</td>\n",
       "      <td>0.00</td>\n",
       "      <td>1.00</td>\n",
       "      <td>0.00</td>\n",
       "      <td>0.00</td>\n",
       "      <td>0.00</td>\n",
       "      <td>0.00</td>\n",
       "      <td>0.00</td>\n",
       "      <td>1.00</td>\n",
       "      <td>1.00</td>\n",
       "      <td>1.00</td>\n",
       "      <td>0.00</td>\n",
       "      <td>0.00</td>\n",
       "      <td>0.00</td>\n",
       "      <td>0.00</td>\n",
       "      <td>0.00</td>\n",
       "      <td>0.00</td>\n",
       "      <td>0.00</td>\n",
       "      <td>0.00</td>\n",
       "      <td>0.00</td>\n",
       "      <td>0.00</td>\n",
       "      <td>0.00</td>\n",
       "      <td>0.00</td>\n",
       "      <td>0.00</td>\n",
       "      <td>-4121.00</td>\n",
       "      <td>0.00</td>\n",
       "      <td>0.00</td>\n",
       "      <td>0.00</td>\n",
       "      <td>0.00</td>\n",
       "      <td>0.00</td>\n",
       "      <td>0.00</td>\n",
       "    </tr>\n",
       "    <tr>\n",
       "      <th>25%</th>\n",
       "      <td>190482.00</td>\n",
       "      <td>0.00</td>\n",
       "      <td>0.00</td>\n",
       "      <td>112500.00</td>\n",
       "      <td>276277.50</td>\n",
       "      <td>16875.00</td>\n",
       "      <td>238500.00</td>\n",
       "      <td>0.01</td>\n",
       "      <td>-19065.75</td>\n",
       "      <td>-2465.00</td>\n",
       "      <td>-7128.75</td>\n",
       "      <td>-4219.00</td>\n",
       "      <td>0.00</td>\n",
       "      <td>1.00</td>\n",
       "      <td>1.00</td>\n",
       "      <td>0.00</td>\n",
       "      <td>1.00</td>\n",
       "      <td>0.00</td>\n",
       "      <td>0.00</td>\n",
       "      <td>2.00</td>\n",
       "      <td>2.00</td>\n",
       "      <td>2.00</td>\n",
       "      <td>10.00</td>\n",
       "      <td>0.00</td>\n",
       "      <td>0.00</td>\n",
       "      <td>0.00</td>\n",
       "      <td>0.00</td>\n",
       "      <td>0.00</td>\n",
       "      <td>0.00</td>\n",
       "      <td>0.31</td>\n",
       "      <td>0.34</td>\n",
       "      <td>0.00</td>\n",
       "      <td>0.00</td>\n",
       "      <td>0.00</td>\n",
       "      <td>0.00</td>\n",
       "      <td>-1478.00</td>\n",
       "      <td>0.00</td>\n",
       "      <td>0.00</td>\n",
       "      <td>0.00</td>\n",
       "      <td>0.00</td>\n",
       "      <td>0.00</td>\n",
       "      <td>0.00</td>\n",
       "    </tr>\n",
       "    <tr>\n",
       "      <th>50%</th>\n",
       "      <td>278537.50</td>\n",
       "      <td>0.50</td>\n",
       "      <td>0.00</td>\n",
       "      <td>144000.00</td>\n",
       "      <td>508495.50</td>\n",
       "      <td>25101.00</td>\n",
       "      <td>450000.00</td>\n",
       "      <td>0.02</td>\n",
       "      <td>-15083.00</td>\n",
       "      <td>-1120.00</td>\n",
       "      <td>-4302.00</td>\n",
       "      <td>-3052.00</td>\n",
       "      <td>0.00</td>\n",
       "      <td>1.00</td>\n",
       "      <td>1.00</td>\n",
       "      <td>0.00</td>\n",
       "      <td>1.00</td>\n",
       "      <td>0.00</td>\n",
       "      <td>0.00</td>\n",
       "      <td>2.00</td>\n",
       "      <td>2.00</td>\n",
       "      <td>2.00</td>\n",
       "      <td>12.00</td>\n",
       "      <td>0.00</td>\n",
       "      <td>0.00</td>\n",
       "      <td>0.00</td>\n",
       "      <td>0.00</td>\n",
       "      <td>0.00</td>\n",
       "      <td>0.00</td>\n",
       "      <td>0.52</td>\n",
       "      <td>0.46</td>\n",
       "      <td>0.00</td>\n",
       "      <td>0.00</td>\n",
       "      <td>0.00</td>\n",
       "      <td>0.00</td>\n",
       "      <td>-677.00</td>\n",
       "      <td>0.00</td>\n",
       "      <td>0.00</td>\n",
       "      <td>0.00</td>\n",
       "      <td>0.00</td>\n",
       "      <td>0.00</td>\n",
       "      <td>1.00</td>\n",
       "    </tr>\n",
       "    <tr>\n",
       "      <th>75%</th>\n",
       "      <td>367523.50</td>\n",
       "      <td>1.00</td>\n",
       "      <td>1.00</td>\n",
       "      <td>202500.00</td>\n",
       "      <td>781920.00</td>\n",
       "      <td>33907.50</td>\n",
       "      <td>675000.00</td>\n",
       "      <td>0.03</td>\n",
       "      <td>-11868.00</td>\n",
       "      <td>-336.00</td>\n",
       "      <td>-1857.00</td>\n",
       "      <td>-1573.00</td>\n",
       "      <td>5.00</td>\n",
       "      <td>1.00</td>\n",
       "      <td>1.00</td>\n",
       "      <td>0.00</td>\n",
       "      <td>1.00</td>\n",
       "      <td>1.00</td>\n",
       "      <td>0.00</td>\n",
       "      <td>3.00</td>\n",
       "      <td>2.00</td>\n",
       "      <td>2.00</td>\n",
       "      <td>14.00</td>\n",
       "      <td>0.00</td>\n",
       "      <td>0.00</td>\n",
       "      <td>0.00</td>\n",
       "      <td>0.00</td>\n",
       "      <td>1.00</td>\n",
       "      <td>0.00</td>\n",
       "      <td>0.64</td>\n",
       "      <td>0.59</td>\n",
       "      <td>2.00</td>\n",
       "      <td>0.00</td>\n",
       "      <td>2.00</td>\n",
       "      <td>0.00</td>\n",
       "      <td>-238.00</td>\n",
       "      <td>0.00</td>\n",
       "      <td>0.00</td>\n",
       "      <td>0.00</td>\n",
       "      <td>0.00</td>\n",
       "      <td>0.00</td>\n",
       "      <td>3.00</td>\n",
       "    </tr>\n",
       "    <tr>\n",
       "      <th>max</th>\n",
       "      <td>456254.00</td>\n",
       "      <td>1.00</td>\n",
       "      <td>11.00</td>\n",
       "      <td>117000000.00</td>\n",
       "      <td>4027680.00</td>\n",
       "      <td>225000.00</td>\n",
       "      <td>3600000.00</td>\n",
       "      <td>0.07</td>\n",
       "      <td>-7678.00</td>\n",
       "      <td>365243.00</td>\n",
       "      <td>0.00</td>\n",
       "      <td>0.00</td>\n",
       "      <td>91.00</td>\n",
       "      <td>1.00</td>\n",
       "      <td>1.00</td>\n",
       "      <td>1.00</td>\n",
       "      <td>1.00</td>\n",
       "      <td>1.00</td>\n",
       "      <td>1.00</td>\n",
       "      <td>13.00</td>\n",
       "      <td>3.00</td>\n",
       "      <td>3.00</td>\n",
       "      <td>23.00</td>\n",
       "      <td>1.00</td>\n",
       "      <td>1.00</td>\n",
       "      <td>1.00</td>\n",
       "      <td>1.00</td>\n",
       "      <td>1.00</td>\n",
       "      <td>1.00</td>\n",
       "      <td>0.85</td>\n",
       "      <td>0.90</td>\n",
       "      <td>30.00</td>\n",
       "      <td>6.00</td>\n",
       "      <td>29.00</td>\n",
       "      <td>6.00</td>\n",
       "      <td>0.00</td>\n",
       "      <td>2.00</td>\n",
       "      <td>4.00</td>\n",
       "      <td>6.00</td>\n",
       "      <td>18.00</td>\n",
       "      <td>19.00</td>\n",
       "      <td>22.00</td>\n",
       "    </tr>\n",
       "  </tbody>\n",
       "</table>\n",
       "</div>"
      ],
      "text/plain": [
       "       SK_ID_CURR   TARGET  CNT_CHILDREN  AMT_INCOME_TOTAL  AMT_CREDIT  \\\n",
       "count    49650.00 49650.00      49650.00          49650.00    49650.00   \n",
       "mean    278689.06     0.50          0.44         167257.03   579174.90   \n",
       "std     102531.31     0.50          0.73         538768.93   376951.72   \n",
       "min     100002.00     0.00          0.00          25650.00    45000.00   \n",
       "25%     190482.00     0.00          0.00         112500.00   276277.50   \n",
       "50%     278537.50     0.50          0.00         144000.00   508495.50   \n",
       "75%     367523.50     1.00          1.00         202500.00   781920.00   \n",
       "max     456254.00     1.00         11.00      117000000.00  4027680.00   \n",
       "\n",
       "       AMT_ANNUITY  AMT_GOODS_PRICE  REGION_POPULATION_RELATIVE  DAYS_BIRTH  \\\n",
       "count     49650.00         49650.00                    49650.00    49650.00   \n",
       "mean      26801.96        514455.32                        0.02   -15530.23   \n",
       "std       13531.49        343323.70                        0.01     4334.85   \n",
       "min        1993.50         45000.00                        0.00   -25168.00   \n",
       "25%       16875.00        238500.00                        0.01   -19065.75   \n",
       "50%       25101.00        450000.00                        0.02   -15083.00   \n",
       "75%       33907.50        675000.00                        0.03   -11868.00   \n",
       "max      225000.00       3600000.00                        0.07    -7678.00   \n",
       "\n",
       "       DAYS_EMPLOYED  DAYS_REGISTRATION  DAYS_ID_PUBLISH  OWN_CAR_AGE  \\\n",
       "count       49650.00           49650.00         49650.00     49650.00   \n",
       "mean        53985.39           -4765.72         -2878.53         4.15   \n",
       "std        132156.51            3438.59          1513.82         9.24   \n",
       "min        -17170.00          -22928.00         -6274.00         0.00   \n",
       "25%         -2465.00           -7128.75         -4219.00         0.00   \n",
       "50%         -1120.00           -4302.00         -3052.00         0.00   \n",
       "75%          -336.00           -1857.00         -1573.00         5.00   \n",
       "max        365243.00               0.00             0.00        91.00   \n",
       "\n",
       "       FLAG_MOBIL  FLAG_EMP_PHONE  FLAG_WORK_PHONE  FLAG_CONT_MOBILE  \\\n",
       "count    49650.00        49650.00         49650.00          49650.00   \n",
       "mean         1.00            0.85             0.22              1.00   \n",
       "std          0.00            0.36             0.41              0.04   \n",
       "min          1.00            0.00             0.00              0.00   \n",
       "25%          1.00            1.00             0.00              1.00   \n",
       "50%          1.00            1.00             0.00              1.00   \n",
       "75%          1.00            1.00             0.00              1.00   \n",
       "max          1.00            1.00             1.00              1.00   \n",
       "\n",
       "       FLAG_PHONE  FLAG_EMAIL  CNT_FAM_MEMBERS  REGION_RATING_CLIENT  \\\n",
       "count    49650.00    49650.00         49650.00              49650.00   \n",
       "mean         0.26        0.06             2.16                  2.10   \n",
       "std          0.44        0.23             0.93                  0.51   \n",
       "min          0.00        0.00             1.00                  1.00   \n",
       "25%          0.00        0.00             2.00                  2.00   \n",
       "50%          0.00        0.00             2.00                  2.00   \n",
       "75%          1.00        0.00             3.00                  2.00   \n",
       "max          1.00        1.00            13.00                  3.00   \n",
       "\n",
       "       REGION_RATING_CLIENT_W_CITY  HOUR_APPR_PROCESS_START  \\\n",
       "count                     49650.00                 49650.00   \n",
       "mean                          2.08                    11.95   \n",
       "std                           0.50                     3.27   \n",
       "min                           1.00                     0.00   \n",
       "25%                           2.00                    10.00   \n",
       "50%                           2.00                    12.00   \n",
       "75%                           2.00                    14.00   \n",
       "max                           3.00                    23.00   \n",
       "\n",
       "       REG_REGION_NOT_LIVE_REGION  REG_REGION_NOT_WORK_REGION  \\\n",
       "count                    49650.00                    49650.00   \n",
       "mean                         0.02                        0.05   \n",
       "std                          0.13                        0.23   \n",
       "min                          0.00                        0.00   \n",
       "25%                          0.00                        0.00   \n",
       "50%                          0.00                        0.00   \n",
       "75%                          0.00                        0.00   \n",
       "max                          1.00                        1.00   \n",
       "\n",
       "       LIVE_REGION_NOT_WORK_REGION  REG_CITY_NOT_LIVE_CITY  \\\n",
       "count                     49650.00                49650.00   \n",
       "mean                          0.04                    0.10   \n",
       "std                           0.20                    0.30   \n",
       "min                           0.00                    0.00   \n",
       "25%                           0.00                    0.00   \n",
       "50%                           0.00                    0.00   \n",
       "75%                           0.00                    0.00   \n",
       "max                           1.00                    1.00   \n",
       "\n",
       "       REG_CITY_NOT_WORK_CITY  LIVE_CITY_NOT_WORK_CITY  EXT_SOURCE_2  \\\n",
       "count                49650.00                 49650.00      49650.00   \n",
       "mean                     0.26                     0.20          0.47   \n",
       "std                      0.44                     0.40          0.21   \n",
       "min                      0.00                     0.00          0.00   \n",
       "25%                      0.00                     0.00          0.31   \n",
       "50%                      0.00                     0.00          0.52   \n",
       "75%                      1.00                     0.00          0.64   \n",
       "max                      1.00                     1.00          0.85   \n",
       "\n",
       "       EXT_SOURCE_3  OBS_30_CNT_SOCIAL_CIRCLE  DEF_30_CNT_SOCIAL_CIRCLE  \\\n",
       "count      49650.00                  49650.00                  49650.00   \n",
       "mean           0.46                      1.45                      0.16   \n",
       "std            0.19                      2.34                      0.48   \n",
       "min            0.00                      0.00                      0.00   \n",
       "25%            0.34                      0.00                      0.00   \n",
       "50%            0.46                      0.00                      0.00   \n",
       "75%            0.59                      2.00                      0.00   \n",
       "max            0.90                     30.00                      6.00   \n",
       "\n",
       "       OBS_60_CNT_SOCIAL_CIRCLE  DEF_60_CNT_SOCIAL_CIRCLE  \\\n",
       "count                  49650.00                  49650.00   \n",
       "mean                       1.43                      0.12   \n",
       "std                        2.32                      0.39   \n",
       "min                        0.00                      0.00   \n",
       "25%                        0.00                      0.00   \n",
       "50%                        0.00                      0.00   \n",
       "75%                        2.00                      0.00   \n",
       "max                       29.00                      6.00   \n",
       "\n",
       "       DAYS_LAST_PHONE_CHANGE  AMT_REQ_CREDIT_BUREAU_HOUR  \\\n",
       "count                49650.00                    49650.00   \n",
       "mean                  -890.59                        0.01   \n",
       "std                    795.58                        0.08   \n",
       "min                  -4121.00                        0.00   \n",
       "25%                  -1478.00                        0.00   \n",
       "50%                   -677.00                        0.00   \n",
       "75%                   -238.00                        0.00   \n",
       "max                      0.00                        2.00   \n",
       "\n",
       "       AMT_REQ_CREDIT_BUREAU_DAY  AMT_REQ_CREDIT_BUREAU_WEEK  \\\n",
       "count                   49650.00                    49650.00   \n",
       "mean                        0.01                        0.03   \n",
       "std                         0.10                        0.19   \n",
       "min                         0.00                        0.00   \n",
       "25%                         0.00                        0.00   \n",
       "50%                         0.00                        0.00   \n",
       "75%                         0.00                        0.00   \n",
       "max                         4.00                        6.00   \n",
       "\n",
       "       AMT_REQ_CREDIT_BUREAU_MON  AMT_REQ_CREDIT_BUREAU_QRT  \\\n",
       "count                   49650.00                   49650.00   \n",
       "mean                        0.21                       0.23   \n",
       "std                         0.78                       0.59   \n",
       "min                         0.00                       0.00   \n",
       "25%                         0.00                       0.00   \n",
       "50%                         0.00                       0.00   \n",
       "75%                         0.00                       0.00   \n",
       "max                        18.00                      19.00   \n",
       "\n",
       "       AMT_REQ_CREDIT_BUREAU_YEAR  \n",
       "count                    49650.00  \n",
       "mean                         1.65  \n",
       "std                          1.88  \n",
       "min                          0.00  \n",
       "25%                          0.00  \n",
       "50%                          1.00  \n",
       "75%                          3.00  \n",
       "max                         22.00  "
      ]
     },
     "execution_count": 89,
     "metadata": {},
     "output_type": "execute_result"
    }
   ],
   "source": [
    "# application_sampled['INCOME_GROUP'] = \n",
    "application_sampled.describe()"
   ]
  },
  {
   "cell_type": "markdown",
   "metadata": {},
   "source": [
    "###### Few important columns on first look show they have outliers which needs treatment :\n",
    "1. `AMT_INCOME_TOTAL` \n",
    "2. `AMT_CREDIT`\n",
    "3. `AMT_ANNUITY`\n",
    "4. `AMT_GOODS_PRICE`\n",
    "5. `DAYS_EMPLOYED`"
   ]
  },
  {
   "cell_type": "code",
   "execution_count": 90,
   "metadata": {},
   "outputs": [
    {
     "data": {
      "image/png": "[encoded data removed]",
      "text/plain": [
       "<Figure size 432x288 with 1 Axes>"
      ]
     },
     "metadata": {
      "needs_background": "light"
     },
     "output_type": "display_data"
    }
   ],
   "source": [
    "sns.boxplot(application_sampled['AMT_INCOME_TOTAL'])\n",
    "plt.show()"
   ]
  },
  {
   "cell_type": "markdown",
   "metadata": {},
   "source": [
    "Data has couple of big outlier, we need to handle it"
   ]
  },
  {
   "cell_type": "code",
   "execution_count": 91,
   "metadata": {},
   "outputs": [
    {
     "name": "stdout",
     "output_type": "stream",
     "text": [
      "900000.0\n"
     ]
    }
   ],
   "source": [
    "outlier = application_sampled['AMT_INCOME_TOTAL'].quantile(0.999)\n",
    "print(outlier)"
   ]
  },
  {
   "cell_type": "code",
   "execution_count": 92,
   "metadata": {},
   "outputs": [],
   "source": [
    "application_sampled = application_sampled.loc[application_sampled['AMT_INCOME_TOTAL'] < outlier]"
   ]
  },
  {
   "cell_type": "code",
   "execution_count": 93,
   "metadata": {},
   "outputs": [
    {
     "data": {
      "image/png": "[encoded data removed]",
      "text/plain": [
       "<Figure size 432x288 with 1 Axes>"
      ]
     },
     "metadata": {
      "needs_background": "light"
     },
     "output_type": "display_data"
    }
   ],
   "source": [
    "sns.boxplot(application_sampled['AMT_INCOME_TOTAL'])\n",
    "plt.show()"
   ]
  },
  {
   "cell_type": "markdown",
   "metadata": {},
   "source": [
    "There are still few more outliers, and seem to be linear, we'll treat them by binning the data into different income brackets, during feature engineering phase"
   ]
  },
  {
   "cell_type": "code",
   "execution_count": 94,
   "metadata": {},
   "outputs": [
    {
     "data": {
      "image/png": "[encoded data removed]",
      "text/plain": [
       "<Figure size 432x288 with 1 Axes>"
      ]
     },
     "metadata": {
      "needs_background": "light"
     },
     "output_type": "display_data"
    }
   ],
   "source": [
    "bin_labels = ['Low', 'LowerMiddle', 'Middle', 'UpperMiddle', 'High']\n",
    "sns.countplot(pd.qcut(application_sampled['AMT_INCOME_TOTAL'],q=[0, .2, .4, .6, .8, 1],labels=bin_labels))\n",
    "plt.show()"
   ]
  },
  {
   "cell_type": "markdown",
   "metadata": {},
   "source": [
    "Checking for amount credit"
   ]
  },
  {
   "cell_type": "code",
   "execution_count": 95,
   "metadata": {},
   "outputs": [
    {
     "data": {
      "text/plain": [
       "<matplotlib.axes._subplots.AxesSubplot at 0x1cc5f902b50>"
      ]
     },
     "execution_count": 95,
     "metadata": {},
     "output_type": "execute_result"
    },
    {
     "data": {
      "image/png": "[encoded data removed]",
      "text/plain": [
       "<Figure size 432x288 with 1 Axes>"
      ]
     },
     "metadata": {
      "needs_background": "light"
     },
     "output_type": "display_data"
    }
   ],
   "source": [
    "sns.boxplot(application_sampled['AMT_CREDIT'])"
   ]
  },
  {
   "cell_type": "markdown",
   "metadata": {},
   "source": [
    "There seems to be breaks in that data and some values very exterme of IQR, we'll need to remove these values"
   ]
  },
  {
   "cell_type": "code",
   "execution_count": 96,
   "metadata": {},
   "outputs": [
    {
     "data": {
      "text/plain": [
       "0.10081661457808247"
      ]
     },
     "execution_count": 96,
     "metadata": {},
     "output_type": "execute_result"
    }
   ],
   "source": [
    "outlier = application_sampled['AMT_CREDIT'].quantile(0.999)\n",
    "application_sampled.loc[application_sampled['AMT_CREDIT']>outlier].shape[0]*100/application_sampled.shape[0]"
   ]
  },
  {
   "cell_type": "code",
   "execution_count": 97,
   "metadata": {},
   "outputs": [
    {
     "data": {
      "image/png": "[encoded data removed]",
      "text/plain": [
       "<Figure size 432x288 with 1 Axes>"
      ]
     },
     "metadata": {
      "needs_background": "light"
     },
     "output_type": "display_data"
    }
   ],
   "source": [
    "sns.boxplot(application_sampled.loc[application_sampled['AMT_CREDIT']<outlier]['AMT_CREDIT'])\n",
    "plt.show()"
   ]
  },
  {
   "cell_type": "code",
   "execution_count": 98,
   "metadata": {},
   "outputs": [
    {
     "data": {
      "image/png": "[encoded data removed]",
      "text/plain": [
       "<Figure size 432x288 with 1 Axes>"
      ]
     },
     "metadata": {
      "needs_background": "light"
     },
     "output_type": "display_data"
    }
   ],
   "source": [
    "sns.scatterplot(data=application_sampled.loc[(application_sampled['AMT_CREDIT']>outlier)],x='AMT_CREDIT',y='AMT_INCOME_TOTAL',hue='TARGET')\n",
    "plt.show()"
   ]
  },
  {
   "cell_type": "markdown",
   "metadata": {},
   "source": [
    "Since its just 0.04% records also the credits are not showing any visual relation with INCOME, we can safely drop these columns"
   ]
  },
  {
   "cell_type": "code",
   "execution_count": 99,
   "metadata": {},
   "outputs": [],
   "source": [
    "application_sampled = application_sampled.loc[application['AMT_CREDIT']<outlier]"
   ]
  },
  {
   "cell_type": "markdown",
   "metadata": {},
   "source": [
    "Since `AMT_CREDIT` AND `AMT_ANNUITY` columns have a high correlation we'd follow same exercise"
   ]
  },
  {
   "cell_type": "code",
   "execution_count": 100,
   "metadata": {},
   "outputs": [
    {
     "data": {
      "text/plain": [
       "<matplotlib.axes._subplots.AxesSubplot at 0x1cc29a3d760>"
      ]
     },
     "execution_count": 100,
     "metadata": {},
     "output_type": "execute_result"
    },
    {
     "data": {
      "image/png": "[encoded data removed]",
      "text/plain": [
       "<Figure size 432x288 with 1 Axes>"
      ]
     },
     "metadata": {
      "needs_background": "light"
     },
     "output_type": "display_data"
    }
   ],
   "source": [
    "sns.boxplot(application_sampled['AMT_ANNUITY'])"
   ]
  },
  {
   "cell_type": "code",
   "execution_count": 101,
   "metadata": {},
   "outputs": [
    {
     "name": "stdout",
     "output_type": "stream",
     "text": [
      "0.05045917852457362\n"
     ]
    }
   ],
   "source": [
    "outlier = application_sampled['AMT_ANNUITY'].quantile(0.9995)\n",
    "print(application_sampled.loc[application_sampled['AMT_ANNUITY']>outlier].shape[0]*100/application_sampled.shape[0])\n",
    "application_sampled = application_sampled.loc[application_sampled['AMT_ANNUITY']<outlier]"
   ]
  },
  {
   "cell_type": "code",
   "execution_count": 102,
   "metadata": {},
   "outputs": [
    {
     "data": {
      "text/plain": [
       "<matplotlib.axes._subplots.AxesSubplot at 0x1cc5fad8c40>"
      ]
     },
     "execution_count": 102,
     "metadata": {},
     "output_type": "execute_result"
    },
    {
     "data": {
      "image/png": "[encoded data removed]",
      "text/plain": [
       "<Figure size 432x288 with 1 Axes>"
      ]
     },
     "metadata": {
      "needs_background": "light"
     },
     "output_type": "display_data"
    }
   ],
   "source": [
    "sns.boxplot(application_sampled.loc[application_sampled['AMT_ANNUITY']<outlier]['AMT_ANNUITY'])"
   ]
  },
  {
   "cell_type": "code",
   "execution_count": 103,
   "metadata": {},
   "outputs": [
    {
     "data": {
      "text/plain": [
       "<matplotlib.axes._subplots.AxesSubplot at 0x1cc5faf0a30>"
      ]
     },
     "execution_count": 103,
     "metadata": {},
     "output_type": "execute_result"
    },
    {
     "data": {
      "image/png": "[encoded data removed]",
      "text/plain": [
       "<Figure size 432x288 with 1 Axes>"
      ]
     },
     "metadata": {
      "needs_background": "light"
     },
     "output_type": "display_data"
    }
   ],
   "source": [
    "sns.boxplot(application_sampled['AMT_GOODS_PRICE'])"
   ]
  },
  {
   "cell_type": "markdown",
   "metadata": {},
   "source": [
    "We wouldn't need to perform outlier treatment to this data, as there are outliers but those are linear, we might need to convert this to categorical variable if required"
   ]
  },
  {
   "cell_type": "code",
   "execution_count": 104,
   "metadata": {},
   "outputs": [
    {
     "data": {
      "text/plain": [
       "<matplotlib.axes._subplots.AxesSubplot at 0x1cc5fb82520>"
      ]
     },
     "execution_count": 104,
     "metadata": {},
     "output_type": "execute_result"
    },
    {
     "data": {
      "image/png": "[encoded data removed]",
      "text/plain": [
       "<Figure size 432x288 with 1 Axes>"
      ]
     },
     "metadata": {
      "needs_background": "light"
     },
     "output_type": "display_data"
    }
   ],
   "source": [
    "sns.boxplot(application_sampled['DAYS_EMPLOYED'])"
   ]
  },
  {
   "cell_type": "markdown",
   "metadata": {},
   "source": [
    "The outlier needs to be indentified and removed, \n",
    "\n",
    "Reason : since this is a rel field and all the data is supposed to be less than 0 a value as high as this could have implication"
   ]
  },
  {
   "cell_type": "code",
   "execution_count": 105,
   "metadata": {},
   "outputs": [
    {
     "data": {
      "text/plain": [
       "<matplotlib.axes._subplots.AxesSubplot at 0x1cc6193bb50>"
      ]
     },
     "execution_count": 105,
     "metadata": {},
     "output_type": "execute_result"
    },
    {
     "data": {
      "image/png": "[encoded data removed]",
      "text/plain": [
       "<Figure size 432x288 with 1 Axes>"
      ]
     },
     "metadata": {
      "needs_background": "light"
     },
     "output_type": "display_data"
    }
   ],
   "source": [
    "sns.distplot(application_sampled['DAYS_EMPLOYED'])"
   ]
  },
  {
   "cell_type": "code",
   "execution_count": 106,
   "metadata": {},
   "outputs": [
    {
     "data": {
      "text/plain": [
       "<matplotlib.axes._subplots.AxesSubplot at 0x1cc61a1c4c0>"
      ]
     },
     "execution_count": 106,
     "metadata": {},
     "output_type": "execute_result"
    },
    {
     "data": {
      "image/png": "[encoded data removed]",
      "text/plain": [
       "<Figure size 432x288 with 1 Axes>"
      ]
     },
     "metadata": {
      "needs_background": "light"
     },
     "output_type": "display_data"
    }
   ],
   "source": [
    "sns.distplot(application_sampled.loc[application['DAYS_EMPLOYED'] < 0]['DAYS_EMPLOYED'])"
   ]
  },
  {
   "cell_type": "code",
   "execution_count": 107,
   "metadata": {},
   "outputs": [
    {
     "data": {
      "text/plain": [
       "365243   15.29\n",
       "Name: DAYS_EMPLOYED, dtype: float64"
      ]
     },
     "execution_count": 107,
     "metadata": {},
     "output_type": "execute_result"
    }
   ],
   "source": [
    "application_sampled.loc[application_sampled['DAYS_EMPLOYED'] > 0]['DAYS_EMPLOYED'].value_counts()*100/application_sampled.shape[0]"
   ]
  },
  {
   "cell_type": "code",
   "execution_count": 108,
   "metadata": {},
   "outputs": [
    {
     "data": {
      "text/plain": [
       "<matplotlib.axes._subplots.AxesSubplot at 0x1cc61af9d00>"
      ]
     },
     "execution_count": 108,
     "metadata": {},
     "output_type": "execute_result"
    },
    {
     "data": {
      "image/png": "[encoded data removed]",
      "text/plain": [
       "<Figure size 432x288 with 1 Axes>"
      ]
     },
     "metadata": {
      "needs_background": "light"
     },
     "output_type": "display_data"
    }
   ],
   "source": [
    "sns.distplot(application_sampled.loc[application_sampled['DAYS_EMPLOYED'] > 0]['AMT_INCOME_TOTAL'])"
   ]
  },
  {
   "cell_type": "code",
   "execution_count": 109,
   "metadata": {},
   "outputs": [
    {
     "data": {
      "text/plain": [
       "365243    7570\n",
       "0            1\n",
       "Name: DAYS_EMPLOYED, dtype: int64"
      ]
     },
     "execution_count": 109,
     "metadata": {},
     "output_type": "execute_result"
    }
   ],
   "source": [
    "application_sampled[application_sampled['DAYS_EMPLOYED'] >= -1]['DAYS_EMPLOYED'].value_counts()"
   ]
  },
  {
   "cell_type": "code",
   "execution_count": 110,
   "metadata": {},
   "outputs": [
    {
     "data": {
      "text/plain": [
       "<matplotlib.axes._subplots.AxesSubplot at 0x1cc61af92b0>"
      ]
     },
     "execution_count": 110,
     "metadata": {},
     "output_type": "execute_result"
    },
    {
     "data": {
      "image/png": "[encoded data removed]",
      "text/plain": [
       "<Figure size 432x288 with 1 Axes>"
      ]
     },
     "metadata": {
      "needs_background": "light"
     },
     "output_type": "display_data"
    }
   ],
   "source": [
    "sns.countplot(application_sampled.loc[application_sampled['DAYS_EMPLOYED'] > 0]['NAME_INCOME_TYPE'])"
   ]
  },
  {
   "cell_type": "markdown",
   "metadata": {},
   "source": [
    "Looking at the above data, its safe to assume that the `DAYS_EMPLOYED` > 0 indicates that the client is retired/unemployed\n",
    "\n",
    "We'll need to handle the data seperately, and then merge it back to the main dataframe\n",
    "1. Convert the data into year format.\n",
    "2. Make all the Pensioners, Days_Employed = 0\n",
    "Since these are steps unders feature engineering we'll perform it then"
   ]
  },
  {
   "cell_type": "markdown",
   "metadata": {},
   "source": [
    "### Feature Engineering and Univariate Analysis"
   ]
  },
  {
   "cell_type": "markdown",
   "metadata": {},
   "source": [
    "**Analysing some important columns and performing feature engineering on them if required**"
   ]
  },
  {
   "cell_type": "markdown",
   "metadata": {},
   "source": [
    "**Converting some rel days columns to yearly and few from numerical to Categorical**"
   ]
  },
  {
   "cell_type": "markdown",
   "metadata": {},
   "source": [
    "Observed data columns that have relative date, converting them to appropriate format\n",
    "\n",
    "`DAYS_BIRTH` `DAYS_EMPLOYED` `DAYS_REGISTRATION` `DAYS_ID_PUBLISH`"
   ]
  },
  {
   "cell_type": "markdown",
   "metadata": {},
   "source": [
    "Converting `DAYS_BIRTH` to a new column `AGE` and a categorical columns `AGE_GROUP`\n"
   ]
  },
  {
   "cell_type": "code",
   "execution_count": 111,
   "metadata": {},
   "outputs": [],
   "source": [
    "application_sampled['DAYS_BIRTH'] = application['DAYS_BIRTH'].apply(lambda x : round(abs(x/365.25)))\n",
    "application_sampled.rename(columns={'DAYS_BIRTH' : 'AGE'},inplace=True)"
   ]
  },
  {
   "cell_type": "code",
   "execution_count": 112,
   "metadata": {},
   "outputs": [
    {
     "data": {
      "text/plain": [
       "<matplotlib.axes._subplots.AxesSubplot at 0x1cc61b59ac0>"
      ]
     },
     "execution_count": 112,
     "metadata": {},
     "output_type": "execute_result"
    },
    {
     "data": {
      "image/png": "[encoded data removed]",
      "text/plain": [
       "<Figure size 432x288 with 1 Axes>"
      ]
     },
     "metadata": {
      "needs_background": "light"
     },
     "output_type": "display_data"
    }
   ],
   "source": [
    "sns.distplot(application_sampled['AGE'],bins=3,hist_kws={'edgecolor':'black'})"
   ]
  },
  {
   "cell_type": "code",
   "execution_count": 113,
   "metadata": {},
   "outputs": [],
   "source": [
    "application_sampled['AGE_GROUP'] = pd.cut(application_sampled['AGE'],bins=[20,37,54,100],labels=['Young','Adult','Senior'])"
   ]
  },
  {
   "cell_type": "code",
   "execution_count": 114,
   "metadata": {},
   "outputs": [
    {
     "data": {
      "text/plain": [
       "<matplotlib.axes._subplots.AxesSubplot at 0x1cc61b74280>"
      ]
     },
     "execution_count": 114,
     "metadata": {},
     "output_type": "execute_result"
    },
    {
     "data": {
      "image/png": "[encoded data removed]",
      "text/plain": [
       "<Figure size 432x288 with 1 Axes>"
      ]
     },
     "metadata": {
      "needs_background": "light"
     },
     "output_type": "display_data"
    }
   ],
   "source": [
    "income_bracket=['Low', 'LowerMiddle', 'Middle', 'UpperMiddle', 'High']\n",
    "sns.countplot(pd.qcut(application_sampled['AMT_INCOME_TOTAL'],q=[0, .2, .4, .6, .8, 1],labels=income_bracket))"
   ]
  },
  {
   "cell_type": "code",
   "execution_count": 115,
   "metadata": {},
   "outputs": [],
   "source": [
    "application_sampled['INCOME_BRACKET'] = pd.qcut(application_sampled['AMT_INCOME_TOTAL'],q=[0, .2, .4, .6, .8, 1],labels=income_bracket)"
   ]
  },
  {
   "cell_type": "markdown",
   "metadata": {},
   "source": [
    "Changing `DAYS_EMPLOYED` as `YEARS_EMPLOYED` as it will bring little more homogeneity"
   ]
  },
  {
   "cell_type": "code",
   "execution_count": 116,
   "metadata": {},
   "outputs": [],
   "source": [
    "application_sampled['YEARS_EMPLOYED'] = 0\n",
    "application_sampled.loc[(application_sampled['DAYS_EMPLOYED'] < 0) & (application_sampled['DAYS_EMPLOYED'] >= -365),'YEARS_EMPLOYED'] = 0.5\n",
    "application_sampled.loc[application_sampled['DAYS_EMPLOYED'] < -365,'YEARS_EMPLOYED'] = round(abs(application_sampled.loc[application_sampled['DAYS_EMPLOYED'] < -365,'DAYS_EMPLOYED']/365),0)"
   ]
  },
  {
   "cell_type": "markdown",
   "metadata": {},
   "source": [
    "Creating a new column from `YEARS_EMPLOYED` that'll be categorical `YEARS_EMPLOYED_CAT`"
   ]
  },
  {
   "cell_type": "code",
   "execution_count": 117,
   "metadata": {},
   "outputs": [],
   "source": [
    "application_sampled['YEARS_EMPLOYED_CAT']=pd.cut(application_sampled['YEARS_EMPLOYED'],bins=[0,0.5,5,10,20,30,47],labels=['NotEmployed','0-5','5-10','10-20','20-30','30+'])"
   ]
  },
  {
   "cell_type": "code",
   "execution_count": 118,
   "metadata": {},
   "outputs": [
    {
     "data": {
      "text/plain": [
       "<matplotlib.axes._subplots.AxesSubplot at 0x1cc60484190>"
      ]
     },
     "execution_count": 118,
     "metadata": {},
     "output_type": "execute_result"
    },
    {
     "data": {
      "image/png": "[encoded data removed]",
      "text/plain": [
       "<Figure size 576x288 with 2 Axes>"
      ]
     },
     "metadata": {
      "needs_background": "light"
     },
     "output_type": "display_data"
    }
   ],
   "source": [
    "fig,ax = plt.subplots(ncols=2,sharey=False)\n",
    "fig.set_size_inches(8, 4, forward=True)\n",
    "ax[0].set_title('ID_PUBLISH_REL_DAYS')\n",
    "ax[1].set_title('REGISTRATION_DATE ')\n",
    "sns.distplot(application_sampled['DAYS_ID_PUBLISH'],ax=ax[0])\n",
    "sns.distplot(application_sampled['DAYS_REGISTRATION'],ax=ax[1])"
   ]
  },
  {
   "cell_type": "markdown",
   "metadata": {},
   "source": [
    "We create new categorical columns from these to reinforce the inference drawn from these"
   ]
  },
  {
   "cell_type": "code",
   "execution_count": 119,
   "metadata": {},
   "outputs": [],
   "source": [
    "days_label = ['Old','Medium','Recent','New']\n",
    "application_sampled['ID_AGE'] = pd.qcut(application_sampled['DAYS_ID_PUBLISH'],q=[0,.35,.7,.9,1],labels=days_label)\n",
    "application_sampled['REGISTRATION_AGE'] = pd.qcut(application_sampled['DAYS_REGISTRATION'],q=[0,.35,.7,.9,1],labels=days_label)"
   ]
  },
  {
   "cell_type": "markdown",
   "metadata": {},
   "source": [
    "## Data Cleaning and preparation for previous_application_data"
   ]
  },
  {
   "cell_type": "markdown",
   "metadata": {},
   "source": [
    "1. Drop columns with null values with null > 30%\n",
    "2. Check if there are outliers and outlier limits"
   ]
  },
  {
   "cell_type": "code",
   "execution_count": 120,
   "metadata": {},
   "outputs": [],
   "source": [
    "data_previous = pd.read_csv('previous_application.csv')"
   ]
  },
  {
   "cell_type": "code",
   "execution_count": 121,
   "metadata": {},
   "outputs": [
    {
     "data": {
      "text/plain": [
       "(1670214, 37)"
      ]
     },
     "execution_count": 121,
     "metadata": {},
     "output_type": "execute_result"
    }
   ],
   "source": [
    "data_previous.shape"
   ]
  },
  {
   "cell_type": "markdown",
   "metadata": {},
   "source": [
    "We'll remove all the columns which more than ~50% null"
   ]
  },
  {
   "cell_type": "code",
   "execution_count": 123,
   "metadata": {},
   "outputs": [],
   "source": [
    "s = data_previous.isnull().sum()*100/data_previous.shape[0]\n",
    "cols_to_drop = list(s[s>49].index)"
   ]
  },
  {
   "cell_type": "code",
   "execution_count": 124,
   "metadata": {},
   "outputs": [
    {
     "data": {
      "text/plain": [
       "['AMT_DOWN_PAYMENT',\n",
       " 'RATE_DOWN_PAYMENT',\n",
       " 'RATE_INTEREST_PRIMARY',\n",
       " 'RATE_INTEREST_PRIVILEGED',\n",
       " 'NAME_TYPE_SUITE']"
      ]
     },
     "execution_count": 124,
     "metadata": {},
     "output_type": "execute_result"
    }
   ],
   "source": [
    "cols_to_drop"
   ]
  },
  {
   "cell_type": "code",
   "execution_count": 126,
   "metadata": {},
   "outputs": [],
   "source": [
    "data_previous.drop(columns=cols_to_drop,axis=1,inplace=True)"
   ]
  },
  {
   "cell_type": "code",
   "execution_count": 127,
   "metadata": {},
   "outputs": [
    {
     "data": {
      "text/plain": [
       "0.00   0.40\n",
       "1.00   0.20\n",
       "Name: NFLAG_INSURED_ON_APPROVAL, dtype: float64"
      ]
     },
     "execution_count": 127,
     "metadata": {},
     "output_type": "execute_result"
    }
   ],
   "source": [
    "data_previous['NFLAG_INSURED_ON_APPROVAL'].value_counts()/data_previous.shape[0]"
   ]
  },
  {
   "cell_type": "code",
   "execution_count": 128,
   "metadata": {},
   "outputs": [
    {
     "data": {
      "text/plain": [
       "<matplotlib.axes._subplots.AxesSubplot at 0x1cc28d92ca0>"
      ]
     },
     "execution_count": 128,
     "metadata": {},
     "output_type": "execute_result"
    },
    {
     "data": {
      "image/png": "[encoded data removed]",
      "text/plain": [
       "<Figure size 2160x720 with 3 Axes>"
      ]
     },
     "metadata": {
      "needs_background": "light"
     },
     "output_type": "display_data"
    }
   ],
   "source": [
    "fig,ax = plt.subplots(ncols=3,sharey=True)\n",
    "fig.set_size_inches(30, 10, forward=True)\n",
    "\n",
    "sns.boxplot(data_previous['AMT_ANNUITY'],ax=ax[0])\n",
    "sns.boxplot(data_previous['AMT_APPLICATION'],ax=ax[1])\n",
    "sns.boxplot(data_previous['AMT_CREDIT'],ax=ax[2])\n"
   ]
  },
  {
   "cell_type": "markdown",
   "metadata": {},
   "source": [
    "Removing the outliers from above three columns"
   ]
  },
  {
   "cell_type": "code",
   "execution_count": 129,
   "metadata": {},
   "outputs": [],
   "source": [
    "data_previous = data_previous.loc[data_previous['AMT_CREDIT']<data_previous['AMT_CREDIT'].quantile(.99)]\n",
    "data_previous = data_previous.loc[data_previous['AMT_APPLICATION']<data_previous['AMT_APPLICATION'].quantile(.99)]\n",
    "data_previous = data_previous.loc[data_previous['AMT_ANNUITY']<data_previous['AMT_ANNUITY'].quantile(.99)]"
   ]
  },
  {
   "cell_type": "code",
   "execution_count": 130,
   "metadata": {},
   "outputs": [
    {
     "data": {
      "text/plain": [
       "<matplotlib.axes._subplots.AxesSubplot at 0x1cc4bfb9460>"
      ]
     },
     "execution_count": 130,
     "metadata": {},
     "output_type": "execute_result"
    },
    {
     "data": {
      "image/png": "[encoded data removed]",
      "text/plain": [
       "<Figure size 2160x720 with 3 Axes>"
      ]
     },
     "metadata": {
      "needs_background": "light"
     },
     "output_type": "display_data"
    }
   ],
   "source": [
    "fig,ax = plt.subplots(ncols=3,sharey=True)\n",
    "fig.set_size_inches(30, 10, forward=True)\n",
    "\n",
    "sns.boxplot(data_previous['AMT_ANNUITY'],ax=ax[0])\n",
    "sns.boxplot(data_previous['AMT_APPLICATION'],ax=ax[1])\n",
    "sns.boxplot(data_previous['AMT_CREDIT'],ax=ax[2])"
   ]
  },
  {
   "cell_type": "code",
   "execution_count": null,
   "metadata": {},
   "outputs": [],
   "source": []
  },
  {
   "cell_type": "code",
   "execution_count": null,
   "metadata": {},
   "outputs": [],
   "source": []
  },
  {
   "cell_type": "code",
   "execution_count": null,
   "metadata": {},
   "outputs": [],
   "source": []
  },
  {
   "cell_type": "code",
   "execution_count": null,
   "metadata": {},
   "outputs": [],
   "source": []
  },
  {
   "cell_type": "code",
   "execution_count": null,
   "metadata": {},
   "outputs": [],
   "source": []
  },
  {
   "cell_type": "code",
   "execution_count": null,
   "metadata": {},
   "outputs": [],
   "source": []
  },
  {
   "cell_type": "code",
   "execution_count": null,
   "metadata": {},
   "outputs": [],
   "source": []
  },
  {
   "cell_type": "code",
   "execution_count": null,
   "metadata": {},
   "outputs": [],
   "source": []
  },
  {
   "cell_type": "code",
   "execution_count": 131,
   "metadata": {},
   "outputs": [],
   "source": [
    "complete_dataset = pd.merge(application_sampled,data_previous,on='SK_ID_CURR')"
   ]
  },
  {
   "cell_type": "code",
   "execution_count": 132,
   "metadata": {},
   "outputs": [
    {
     "data": {
      "text/html": [
       "<div>\n",
       "<style scoped>\n",
       "    .dataframe tbody tr th:only-of-type {\n",
       "        vertical-align: middle;\n",
       "    }\n",
       "\n",
       "    .dataframe tbody tr th {\n",
       "        vertical-align: top;\n",
       "    }\n",
       "\n",
       "    .dataframe thead th {\n",
       "        text-align: right;\n",
       "    }\n",
       "</style>\n",
       "<table border=\"1\" class=\"dataframe\">\n",
       "  <thead>\n",
       "    <tr style=\"text-align: right;\">\n",
       "      <th></th>\n",
       "      <th>SK_ID_CURR</th>\n",
       "      <th>TARGET</th>\n",
       "      <th>NAME_CONTRACT_TYPE_x</th>\n",
       "      <th>CODE_GENDER</th>\n",
       "      <th>FLAG_OWN_CAR</th>\n",
       "      <th>FLAG_OWN_REALTY</th>\n",
       "      <th>CNT_CHILDREN</th>\n",
       "      <th>AMT_INCOME_TOTAL</th>\n",
       "      <th>AMT_CREDIT_x</th>\n",
       "      <th>AMT_ANNUITY_x</th>\n",
       "      <th>AMT_GOODS_PRICE_x</th>\n",
       "      <th>NAME_TYPE_SUITE</th>\n",
       "      <th>NAME_INCOME_TYPE</th>\n",
       "      <th>NAME_EDUCATION_TYPE</th>\n",
       "      <th>NAME_FAMILY_STATUS</th>\n",
       "      <th>NAME_HOUSING_TYPE</th>\n",
       "      <th>REGION_POPULATION_RELATIVE</th>\n",
       "      <th>AGE</th>\n",
       "      <th>DAYS_EMPLOYED</th>\n",
       "      <th>DAYS_REGISTRATION</th>\n",
       "      <th>DAYS_ID_PUBLISH</th>\n",
       "      <th>OWN_CAR_AGE</th>\n",
       "      <th>FLAG_MOBIL</th>\n",
       "      <th>FLAG_EMP_PHONE</th>\n",
       "      <th>FLAG_WORK_PHONE</th>\n",
       "      <th>FLAG_CONT_MOBILE</th>\n",
       "      <th>FLAG_PHONE</th>\n",
       "      <th>FLAG_EMAIL</th>\n",
       "      <th>OCCUPATION_TYPE</th>\n",
       "      <th>CNT_FAM_MEMBERS</th>\n",
       "      <th>REGION_RATING_CLIENT</th>\n",
       "      <th>REGION_RATING_CLIENT_W_CITY</th>\n",
       "      <th>WEEKDAY_APPR_PROCESS_START_x</th>\n",
       "      <th>HOUR_APPR_PROCESS_START_x</th>\n",
       "      <th>REG_REGION_NOT_LIVE_REGION</th>\n",
       "      <th>REG_REGION_NOT_WORK_REGION</th>\n",
       "      <th>LIVE_REGION_NOT_WORK_REGION</th>\n",
       "      <th>REG_CITY_NOT_LIVE_CITY</th>\n",
       "      <th>REG_CITY_NOT_WORK_CITY</th>\n",
       "      <th>LIVE_CITY_NOT_WORK_CITY</th>\n",
       "      <th>ORGANIZATION_TYPE</th>\n",
       "      <th>EXT_SOURCE_2</th>\n",
       "      <th>EXT_SOURCE_3</th>\n",
       "      <th>OBS_30_CNT_SOCIAL_CIRCLE</th>\n",
       "      <th>DEF_30_CNT_SOCIAL_CIRCLE</th>\n",
       "      <th>OBS_60_CNT_SOCIAL_CIRCLE</th>\n",
       "      <th>DEF_60_CNT_SOCIAL_CIRCLE</th>\n",
       "      <th>DAYS_LAST_PHONE_CHANGE</th>\n",
       "      <th>AMT_REQ_CREDIT_BUREAU_HOUR</th>\n",
       "      <th>AMT_REQ_CREDIT_BUREAU_DAY</th>\n",
       "      <th>AMT_REQ_CREDIT_BUREAU_WEEK</th>\n",
       "      <th>AMT_REQ_CREDIT_BUREAU_MON</th>\n",
       "      <th>AMT_REQ_CREDIT_BUREAU_QRT</th>\n",
       "      <th>AMT_REQ_CREDIT_BUREAU_YEAR</th>\n",
       "      <th>AGE_GROUP</th>\n",
       "      <th>INCOME_BRACKET</th>\n",
       "      <th>YEARS_EMPLOYED</th>\n",
       "      <th>YEARS_EMPLOYED_CAT</th>\n",
       "      <th>ID_AGE</th>\n",
       "      <th>REGISTRATION_AGE</th>\n",
       "      <th>SK_ID_PREV</th>\n",
       "      <th>NAME_CONTRACT_TYPE_y</th>\n",
       "      <th>AMT_ANNUITY_y</th>\n",
       "      <th>AMT_APPLICATION</th>\n",
       "      <th>AMT_CREDIT_y</th>\n",
       "      <th>AMT_GOODS_PRICE_y</th>\n",
       "      <th>WEEKDAY_APPR_PROCESS_START_y</th>\n",
       "      <th>HOUR_APPR_PROCESS_START_y</th>\n",
       "      <th>FLAG_LAST_APPL_PER_CONTRACT</th>\n",
       "      <th>NFLAG_LAST_APPL_IN_DAY</th>\n",
       "      <th>NAME_CASH_LOAN_PURPOSE</th>\n",
       "      <th>NAME_CONTRACT_STATUS</th>\n",
       "      <th>DAYS_DECISION</th>\n",
       "      <th>NAME_PAYMENT_TYPE</th>\n",
       "      <th>CODE_REJECT_REASON</th>\n",
       "      <th>NAME_CLIENT_TYPE</th>\n",
       "      <th>NAME_GOODS_CATEGORY</th>\n",
       "      <th>NAME_PORTFOLIO</th>\n",
       "      <th>NAME_PRODUCT_TYPE</th>\n",
       "      <th>CHANNEL_TYPE</th>\n",
       "      <th>SELLERPLACE_AREA</th>\n",
       "      <th>NAME_SELLER_INDUSTRY</th>\n",
       "      <th>CNT_PAYMENT</th>\n",
       "      <th>NAME_YIELD_GROUP</th>\n",
       "      <th>PRODUCT_COMBINATION</th>\n",
       "      <th>DAYS_FIRST_DRAWING</th>\n",
       "      <th>DAYS_FIRST_DUE</th>\n",
       "      <th>DAYS_LAST_DUE_1ST_VERSION</th>\n",
       "      <th>DAYS_LAST_DUE</th>\n",
       "      <th>DAYS_TERMINATION</th>\n",
       "      <th>NFLAG_INSURED_ON_APPROVAL</th>\n",
       "    </tr>\n",
       "  </thead>\n",
       "  <tbody>\n",
       "    <tr>\n",
       "      <th>0</th>\n",
       "      <td>346782</td>\n",
       "      <td>0</td>\n",
       "      <td>Cash loans</td>\n",
       "      <td>F</td>\n",
       "      <td>Y</td>\n",
       "      <td>N</td>\n",
       "      <td>0</td>\n",
       "      <td>121500.00</td>\n",
       "      <td>83538.00</td>\n",
       "      <td>6826.50</td>\n",
       "      <td>67500.00</td>\n",
       "      <td>Unaccompanied</td>\n",
       "      <td>Working</td>\n",
       "      <td>Secondary / secondary special</td>\n",
       "      <td>Single / not married</td>\n",
       "      <td>House / apartment</td>\n",
       "      <td>0.03</td>\n",
       "      <td>28</td>\n",
       "      <td>-1695</td>\n",
       "      <td>-3792.00</td>\n",
       "      <td>-1626</td>\n",
       "      <td>8.00</td>\n",
       "      <td>1</td>\n",
       "      <td>1</td>\n",
       "      <td>0</td>\n",
       "      <td>1</td>\n",
       "      <td>0</td>\n",
       "      <td>1</td>\n",
       "      <td>Undefined</td>\n",
       "      <td>1.00</td>\n",
       "      <td>2</td>\n",
       "      <td>2</td>\n",
       "      <td>MONDAY</td>\n",
       "      <td>8</td>\n",
       "      <td>0</td>\n",
       "      <td>0</td>\n",
       "      <td>0</td>\n",
       "      <td>0</td>\n",
       "      <td>0</td>\n",
       "      <td>0</td>\n",
       "      <td>Business Entity Type 2</td>\n",
       "      <td>0.52</td>\n",
       "      <td>0.50</td>\n",
       "      <td>0.00</td>\n",
       "      <td>0.00</td>\n",
       "      <td>0.00</td>\n",
       "      <td>0.00</td>\n",
       "      <td>-465.00</td>\n",
       "      <td>0.00</td>\n",
       "      <td>0.00</td>\n",
       "      <td>0.00</td>\n",
       "      <td>1.00</td>\n",
       "      <td>0.00</td>\n",
       "      <td>5.00</td>\n",
       "      <td>Young</td>\n",
       "      <td>LowerMiddle</td>\n",
       "      <td>5.00</td>\n",
       "      <td>0-5</td>\n",
       "      <td>Recent</td>\n",
       "      <td>Medium</td>\n",
       "      <td>1466438</td>\n",
       "      <td>Consumer loans</td>\n",
       "      <td>6552.54</td>\n",
       "      <td>81156.96</td>\n",
       "      <td>64921.50</td>\n",
       "      <td>81156.96</td>\n",
       "      <td>WEDNESDAY</td>\n",
       "      <td>13</td>\n",
       "      <td>Y</td>\n",
       "      <td>1</td>\n",
       "      <td>XAP</td>\n",
       "      <td>Approved</td>\n",
       "      <td>-376</td>\n",
       "      <td>Cash through the bank</td>\n",
       "      <td>XAP</td>\n",
       "      <td>Repeater</td>\n",
       "      <td>Mobile</td>\n",
       "      <td>POS</td>\n",
       "      <td>XNA</td>\n",
       "      <td>Country-wide</td>\n",
       "      <td>45</td>\n",
       "      <td>Connectivity</td>\n",
       "      <td>12.00</td>\n",
       "      <td>middle</td>\n",
       "      <td>POS mobile with interest</td>\n",
       "      <td>365243.00</td>\n",
       "      <td>-340.00</td>\n",
       "      <td>-10.00</td>\n",
       "      <td>-10.00</td>\n",
       "      <td>-8.00</td>\n",
       "      <td>0.00</td>\n",
       "    </tr>\n",
       "    <tr>\n",
       "      <th>1</th>\n",
       "      <td>346782</td>\n",
       "      <td>0</td>\n",
       "      <td>Cash loans</td>\n",
       "      <td>F</td>\n",
       "      <td>Y</td>\n",
       "      <td>N</td>\n",
       "      <td>0</td>\n",
       "      <td>121500.00</td>\n",
       "      <td>83538.00</td>\n",
       "      <td>6826.50</td>\n",
       "      <td>67500.00</td>\n",
       "      <td>Unaccompanied</td>\n",
       "      <td>Working</td>\n",
       "      <td>Secondary / secondary special</td>\n",
       "      <td>Single / not married</td>\n",
       "      <td>House / apartment</td>\n",
       "      <td>0.03</td>\n",
       "      <td>28</td>\n",
       "      <td>-1695</td>\n",
       "      <td>-3792.00</td>\n",
       "      <td>-1626</td>\n",
       "      <td>8.00</td>\n",
       "      <td>1</td>\n",
       "      <td>1</td>\n",
       "      <td>0</td>\n",
       "      <td>1</td>\n",
       "      <td>0</td>\n",
       "      <td>1</td>\n",
       "      <td>Undefined</td>\n",
       "      <td>1.00</td>\n",
       "      <td>2</td>\n",
       "      <td>2</td>\n",
       "      <td>MONDAY</td>\n",
       "      <td>8</td>\n",
       "      <td>0</td>\n",
       "      <td>0</td>\n",
       "      <td>0</td>\n",
       "      <td>0</td>\n",
       "      <td>0</td>\n",
       "      <td>0</td>\n",
       "      <td>Business Entity Type 2</td>\n",
       "      <td>0.52</td>\n",
       "      <td>0.50</td>\n",
       "      <td>0.00</td>\n",
       "      <td>0.00</td>\n",
       "      <td>0.00</td>\n",
       "      <td>0.00</td>\n",
       "      <td>-465.00</td>\n",
       "      <td>0.00</td>\n",
       "      <td>0.00</td>\n",
       "      <td>0.00</td>\n",
       "      <td>1.00</td>\n",
       "      <td>0.00</td>\n",
       "      <td>5.00</td>\n",
       "      <td>Young</td>\n",
       "      <td>LowerMiddle</td>\n",
       "      <td>5.00</td>\n",
       "      <td>0-5</td>\n",
       "      <td>Recent</td>\n",
       "      <td>Medium</td>\n",
       "      <td>2237358</td>\n",
       "      <td>Cash loans</td>\n",
       "      <td>14139.36</td>\n",
       "      <td>67500.00</td>\n",
       "      <td>69727.50</td>\n",
       "      <td>67500.00</td>\n",
       "      <td>THURSDAY</td>\n",
       "      <td>11</td>\n",
       "      <td>Y</td>\n",
       "      <td>1</td>\n",
       "      <td>Other</td>\n",
       "      <td>Refused</td>\n",
       "      <td>-683</td>\n",
       "      <td>XNA</td>\n",
       "      <td>LIMIT</td>\n",
       "      <td>Repeater</td>\n",
       "      <td>XNA</td>\n",
       "      <td>Cash</td>\n",
       "      <td>walk-in</td>\n",
       "      <td>Contact center</td>\n",
       "      <td>-1</td>\n",
       "      <td>XNA</td>\n",
       "      <td>6.00</td>\n",
       "      <td>high</td>\n",
       "      <td>Cash Street: high</td>\n",
       "      <td>nan</td>\n",
       "      <td>nan</td>\n",
       "      <td>nan</td>\n",
       "      <td>nan</td>\n",
       "      <td>nan</td>\n",
       "      <td>nan</td>\n",
       "    </tr>\n",
       "    <tr>\n",
       "      <th>2</th>\n",
       "      <td>346782</td>\n",
       "      <td>0</td>\n",
       "      <td>Cash loans</td>\n",
       "      <td>F</td>\n",
       "      <td>Y</td>\n",
       "      <td>N</td>\n",
       "      <td>0</td>\n",
       "      <td>121500.00</td>\n",
       "      <td>83538.00</td>\n",
       "      <td>6826.50</td>\n",
       "      <td>67500.00</td>\n",
       "      <td>Unaccompanied</td>\n",
       "      <td>Working</td>\n",
       "      <td>Secondary / secondary special</td>\n",
       "      <td>Single / not married</td>\n",
       "      <td>House / apartment</td>\n",
       "      <td>0.03</td>\n",
       "      <td>28</td>\n",
       "      <td>-1695</td>\n",
       "      <td>-3792.00</td>\n",
       "      <td>-1626</td>\n",
       "      <td>8.00</td>\n",
       "      <td>1</td>\n",
       "      <td>1</td>\n",
       "      <td>0</td>\n",
       "      <td>1</td>\n",
       "      <td>0</td>\n",
       "      <td>1</td>\n",
       "      <td>Undefined</td>\n",
       "      <td>1.00</td>\n",
       "      <td>2</td>\n",
       "      <td>2</td>\n",
       "      <td>MONDAY</td>\n",
       "      <td>8</td>\n",
       "      <td>0</td>\n",
       "      <td>0</td>\n",
       "      <td>0</td>\n",
       "      <td>0</td>\n",
       "      <td>0</td>\n",
       "      <td>0</td>\n",
       "      <td>Business Entity Type 2</td>\n",
       "      <td>0.52</td>\n",
       "      <td>0.50</td>\n",
       "      <td>0.00</td>\n",
       "      <td>0.00</td>\n",
       "      <td>0.00</td>\n",
       "      <td>0.00</td>\n",
       "      <td>-465.00</td>\n",
       "      <td>0.00</td>\n",
       "      <td>0.00</td>\n",
       "      <td>0.00</td>\n",
       "      <td>1.00</td>\n",
       "      <td>0.00</td>\n",
       "      <td>5.00</td>\n",
       "      <td>Young</td>\n",
       "      <td>LowerMiddle</td>\n",
       "      <td>5.00</td>\n",
       "      <td>0-5</td>\n",
       "      <td>Recent</td>\n",
       "      <td>Medium</td>\n",
       "      <td>1660446</td>\n",
       "      <td>Cash loans</td>\n",
       "      <td>10279.44</td>\n",
       "      <td>45000.00</td>\n",
       "      <td>50692.50</td>\n",
       "      <td>45000.00</td>\n",
       "      <td>TUESDAY</td>\n",
       "      <td>9</td>\n",
       "      <td>Y</td>\n",
       "      <td>1</td>\n",
       "      <td>Everyday expenses</td>\n",
       "      <td>Approved</td>\n",
       "      <td>-573</td>\n",
       "      <td>Cash through the bank</td>\n",
       "      <td>XAP</td>\n",
       "      <td>Repeater</td>\n",
       "      <td>XNA</td>\n",
       "      <td>Cash</td>\n",
       "      <td>walk-in</td>\n",
       "      <td>Credit and cash offices</td>\n",
       "      <td>-1</td>\n",
       "      <td>XNA</td>\n",
       "      <td>6.00</td>\n",
       "      <td>high</td>\n",
       "      <td>Cash Street: high</td>\n",
       "      <td>365243.00</td>\n",
       "      <td>-543.00</td>\n",
       "      <td>-393.00</td>\n",
       "      <td>-393.00</td>\n",
       "      <td>-386.00</td>\n",
       "      <td>1.00</td>\n",
       "    </tr>\n",
       "    <tr>\n",
       "      <th>3</th>\n",
       "      <td>346782</td>\n",
       "      <td>0</td>\n",
       "      <td>Cash loans</td>\n",
       "      <td>F</td>\n",
       "      <td>Y</td>\n",
       "      <td>N</td>\n",
       "      <td>0</td>\n",
       "      <td>121500.00</td>\n",
       "      <td>83538.00</td>\n",
       "      <td>6826.50</td>\n",
       "      <td>67500.00</td>\n",
       "      <td>Unaccompanied</td>\n",
       "      <td>Working</td>\n",
       "      <td>Secondary / secondary special</td>\n",
       "      <td>Single / not married</td>\n",
       "      <td>House / apartment</td>\n",
       "      <td>0.03</td>\n",
       "      <td>28</td>\n",
       "      <td>-1695</td>\n",
       "      <td>-3792.00</td>\n",
       "      <td>-1626</td>\n",
       "      <td>8.00</td>\n",
       "      <td>1</td>\n",
       "      <td>1</td>\n",
       "      <td>0</td>\n",
       "      <td>1</td>\n",
       "      <td>0</td>\n",
       "      <td>1</td>\n",
       "      <td>Undefined</td>\n",
       "      <td>1.00</td>\n",
       "      <td>2</td>\n",
       "      <td>2</td>\n",
       "      <td>MONDAY</td>\n",
       "      <td>8</td>\n",
       "      <td>0</td>\n",
       "      <td>0</td>\n",
       "      <td>0</td>\n",
       "      <td>0</td>\n",
       "      <td>0</td>\n",
       "      <td>0</td>\n",
       "      <td>Business Entity Type 2</td>\n",
       "      <td>0.52</td>\n",
       "      <td>0.50</td>\n",
       "      <td>0.00</td>\n",
       "      <td>0.00</td>\n",
       "      <td>0.00</td>\n",
       "      <td>0.00</td>\n",
       "      <td>-465.00</td>\n",
       "      <td>0.00</td>\n",
       "      <td>0.00</td>\n",
       "      <td>0.00</td>\n",
       "      <td>1.00</td>\n",
       "      <td>0.00</td>\n",
       "      <td>5.00</td>\n",
       "      <td>Young</td>\n",
       "      <td>LowerMiddle</td>\n",
       "      <td>5.00</td>\n",
       "      <td>0-5</td>\n",
       "      <td>Recent</td>\n",
       "      <td>Medium</td>\n",
       "      <td>1761469</td>\n",
       "      <td>Cash loans</td>\n",
       "      <td>15419.61</td>\n",
       "      <td>67500.00</td>\n",
       "      <td>76041.00</td>\n",
       "      <td>67500.00</td>\n",
       "      <td>WEDNESDAY</td>\n",
       "      <td>14</td>\n",
       "      <td>Y</td>\n",
       "      <td>1</td>\n",
       "      <td>Furniture</td>\n",
       "      <td>Approved</td>\n",
       "      <td>-754</td>\n",
       "      <td>Cash through the bank</td>\n",
       "      <td>XAP</td>\n",
       "      <td>New</td>\n",
       "      <td>XNA</td>\n",
       "      <td>Cash</td>\n",
       "      <td>walk-in</td>\n",
       "      <td>Credit and cash offices</td>\n",
       "      <td>-1</td>\n",
       "      <td>XNA</td>\n",
       "      <td>6.00</td>\n",
       "      <td>high</td>\n",
       "      <td>Cash Street: high</td>\n",
       "      <td>365243.00</td>\n",
       "      <td>-724.00</td>\n",
       "      <td>-574.00</td>\n",
       "      <td>-574.00</td>\n",
       "      <td>-568.00</td>\n",
       "      <td>1.00</td>\n",
       "    </tr>\n",
       "    <tr>\n",
       "      <th>4</th>\n",
       "      <td>346782</td>\n",
       "      <td>0</td>\n",
       "      <td>Cash loans</td>\n",
       "      <td>F</td>\n",
       "      <td>Y</td>\n",
       "      <td>N</td>\n",
       "      <td>0</td>\n",
       "      <td>121500.00</td>\n",
       "      <td>83538.00</td>\n",
       "      <td>6826.50</td>\n",
       "      <td>67500.00</td>\n",
       "      <td>Unaccompanied</td>\n",
       "      <td>Working</td>\n",
       "      <td>Secondary / secondary special</td>\n",
       "      <td>Single / not married</td>\n",
       "      <td>House / apartment</td>\n",
       "      <td>0.03</td>\n",
       "      <td>28</td>\n",
       "      <td>-1695</td>\n",
       "      <td>-3792.00</td>\n",
       "      <td>-1626</td>\n",
       "      <td>8.00</td>\n",
       "      <td>1</td>\n",
       "      <td>1</td>\n",
       "      <td>0</td>\n",
       "      <td>1</td>\n",
       "      <td>0</td>\n",
       "      <td>1</td>\n",
       "      <td>Undefined</td>\n",
       "      <td>1.00</td>\n",
       "      <td>2</td>\n",
       "      <td>2</td>\n",
       "      <td>MONDAY</td>\n",
       "      <td>8</td>\n",
       "      <td>0</td>\n",
       "      <td>0</td>\n",
       "      <td>0</td>\n",
       "      <td>0</td>\n",
       "      <td>0</td>\n",
       "      <td>0</td>\n",
       "      <td>Business Entity Type 2</td>\n",
       "      <td>0.52</td>\n",
       "      <td>0.50</td>\n",
       "      <td>0.00</td>\n",
       "      <td>0.00</td>\n",
       "      <td>0.00</td>\n",
       "      <td>0.00</td>\n",
       "      <td>-465.00</td>\n",
       "      <td>0.00</td>\n",
       "      <td>0.00</td>\n",
       "      <td>0.00</td>\n",
       "      <td>1.00</td>\n",
       "      <td>0.00</td>\n",
       "      <td>5.00</td>\n",
       "      <td>Young</td>\n",
       "      <td>LowerMiddle</td>\n",
       "      <td>5.00</td>\n",
       "      <td>0-5</td>\n",
       "      <td>Recent</td>\n",
       "      <td>Medium</td>\n",
       "      <td>1678199</td>\n",
       "      <td>Revolving loans</td>\n",
       "      <td>2250.00</td>\n",
       "      <td>45000.00</td>\n",
       "      <td>45000.00</td>\n",
       "      <td>45000.00</td>\n",
       "      <td>MONDAY</td>\n",
       "      <td>10</td>\n",
       "      <td>Y</td>\n",
       "      <td>1</td>\n",
       "      <td>XAP</td>\n",
       "      <td>Approved</td>\n",
       "      <td>-266</td>\n",
       "      <td>XNA</td>\n",
       "      <td>XAP</td>\n",
       "      <td>Repeater</td>\n",
       "      <td>XNA</td>\n",
       "      <td>Cards</td>\n",
       "      <td>walk-in</td>\n",
       "      <td>Credit and cash offices</td>\n",
       "      <td>-1</td>\n",
       "      <td>XNA</td>\n",
       "      <td>0.00</td>\n",
       "      <td>XNA</td>\n",
       "      <td>Card Street</td>\n",
       "      <td>-264.00</td>\n",
       "      <td>-222.00</td>\n",
       "      <td>365243.00</td>\n",
       "      <td>365243.00</td>\n",
       "      <td>365243.00</td>\n",
       "      <td>0.00</td>\n",
       "    </tr>\n",
       "    <tr>\n",
       "      <th>...</th>\n",
       "      <td>...</td>\n",
       "      <td>...</td>\n",
       "      <td>...</td>\n",
       "      <td>...</td>\n",
       "      <td>...</td>\n",
       "      <td>...</td>\n",
       "      <td>...</td>\n",
       "      <td>...</td>\n",
       "      <td>...</td>\n",
       "      <td>...</td>\n",
       "      <td>...</td>\n",
       "      <td>...</td>\n",
       "      <td>...</td>\n",
       "      <td>...</td>\n",
       "      <td>...</td>\n",
       "      <td>...</td>\n",
       "      <td>...</td>\n",
       "      <td>...</td>\n",
       "      <td>...</td>\n",
       "      <td>...</td>\n",
       "      <td>...</td>\n",
       "      <td>...</td>\n",
       "      <td>...</td>\n",
       "      <td>...</td>\n",
       "      <td>...</td>\n",
       "      <td>...</td>\n",
       "      <td>...</td>\n",
       "      <td>...</td>\n",
       "      <td>...</td>\n",
       "      <td>...</td>\n",
       "      <td>...</td>\n",
       "      <td>...</td>\n",
       "      <td>...</td>\n",
       "      <td>...</td>\n",
       "      <td>...</td>\n",
       "      <td>...</td>\n",
       "      <td>...</td>\n",
       "      <td>...</td>\n",
       "      <td>...</td>\n",
       "      <td>...</td>\n",
       "      <td>...</td>\n",
       "      <td>...</td>\n",
       "      <td>...</td>\n",
       "      <td>...</td>\n",
       "      <td>...</td>\n",
       "      <td>...</td>\n",
       "      <td>...</td>\n",
       "      <td>...</td>\n",
       "      <td>...</td>\n",
       "      <td>...</td>\n",
       "      <td>...</td>\n",
       "      <td>...</td>\n",
       "      <td>...</td>\n",
       "      <td>...</td>\n",
       "      <td>...</td>\n",
       "      <td>...</td>\n",
       "      <td>...</td>\n",
       "      <td>...</td>\n",
       "      <td>...</td>\n",
       "      <td>...</td>\n",
       "      <td>...</td>\n",
       "      <td>...</td>\n",
       "      <td>...</td>\n",
       "      <td>...</td>\n",
       "      <td>...</td>\n",
       "      <td>...</td>\n",
       "      <td>...</td>\n",
       "      <td>...</td>\n",
       "      <td>...</td>\n",
       "      <td>...</td>\n",
       "      <td>...</td>\n",
       "      <td>...</td>\n",
       "      <td>...</td>\n",
       "      <td>...</td>\n",
       "      <td>...</td>\n",
       "      <td>...</td>\n",
       "      <td>...</td>\n",
       "      <td>...</td>\n",
       "      <td>...</td>\n",
       "      <td>...</td>\n",
       "      <td>...</td>\n",
       "      <td>...</td>\n",
       "      <td>...</td>\n",
       "      <td>...</td>\n",
       "      <td>...</td>\n",
       "      <td>...</td>\n",
       "      <td>...</td>\n",
       "      <td>...</td>\n",
       "      <td>...</td>\n",
       "      <td>...</td>\n",
       "      <td>...</td>\n",
       "    </tr>\n",
       "    <tr>\n",
       "      <th>174755</th>\n",
       "      <td>456225</td>\n",
       "      <td>1</td>\n",
       "      <td>Cash loans</td>\n",
       "      <td>M</td>\n",
       "      <td>N</td>\n",
       "      <td>Y</td>\n",
       "      <td>0</td>\n",
       "      <td>225000.00</td>\n",
       "      <td>297000.00</td>\n",
       "      <td>19975.50</td>\n",
       "      <td>297000.00</td>\n",
       "      <td>Family</td>\n",
       "      <td>Working</td>\n",
       "      <td>Secondary / secondary special</td>\n",
       "      <td>Married</td>\n",
       "      <td>House / apartment</td>\n",
       "      <td>0.01</td>\n",
       "      <td>57</td>\n",
       "      <td>-3147</td>\n",
       "      <td>-8921.00</td>\n",
       "      <td>-3832</td>\n",
       "      <td>0.00</td>\n",
       "      <td>1</td>\n",
       "      <td>1</td>\n",
       "      <td>0</td>\n",
       "      <td>1</td>\n",
       "      <td>1</td>\n",
       "      <td>0</td>\n",
       "      <td>Managers</td>\n",
       "      <td>2.00</td>\n",
       "      <td>2</td>\n",
       "      <td>2</td>\n",
       "      <td>FRIDAY</td>\n",
       "      <td>15</td>\n",
       "      <td>0</td>\n",
       "      <td>0</td>\n",
       "      <td>0</td>\n",
       "      <td>0</td>\n",
       "      <td>0</td>\n",
       "      <td>0</td>\n",
       "      <td>Business Entity Type 3</td>\n",
       "      <td>0.71</td>\n",
       "      <td>0.51</td>\n",
       "      <td>0.00</td>\n",
       "      <td>0.00</td>\n",
       "      <td>0.00</td>\n",
       "      <td>0.00</td>\n",
       "      <td>-2941.00</td>\n",
       "      <td>0.00</td>\n",
       "      <td>0.00</td>\n",
       "      <td>0.00</td>\n",
       "      <td>0.00</td>\n",
       "      <td>0.00</td>\n",
       "      <td>3.00</td>\n",
       "      <td>Senior</td>\n",
       "      <td>UpperMiddle</td>\n",
       "      <td>9.00</td>\n",
       "      <td>5-10</td>\n",
       "      <td>Medium</td>\n",
       "      <td>Old</td>\n",
       "      <td>2508396</td>\n",
       "      <td>Cash loans</td>\n",
       "      <td>17900.91</td>\n",
       "      <td>225000.00</td>\n",
       "      <td>254700.00</td>\n",
       "      <td>225000.00</td>\n",
       "      <td>MONDAY</td>\n",
       "      <td>17</td>\n",
       "      <td>Y</td>\n",
       "      <td>1</td>\n",
       "      <td>XNA</td>\n",
       "      <td>Approved</td>\n",
       "      <td>-942</td>\n",
       "      <td>Cash through the bank</td>\n",
       "      <td>XAP</td>\n",
       "      <td>Repeater</td>\n",
       "      <td>XNA</td>\n",
       "      <td>Cash</td>\n",
       "      <td>x-sell</td>\n",
       "      <td>Credit and cash offices</td>\n",
       "      <td>-1</td>\n",
       "      <td>XNA</td>\n",
       "      <td>24.00</td>\n",
       "      <td>high</td>\n",
       "      <td>Cash X-Sell: high</td>\n",
       "      <td>365243.00</td>\n",
       "      <td>-912.00</td>\n",
       "      <td>-222.00</td>\n",
       "      <td>-342.00</td>\n",
       "      <td>-334.00</td>\n",
       "      <td>1.00</td>\n",
       "    </tr>\n",
       "    <tr>\n",
       "      <th>174756</th>\n",
       "      <td>456233</td>\n",
       "      <td>1</td>\n",
       "      <td>Cash loans</td>\n",
       "      <td>F</td>\n",
       "      <td>N</td>\n",
       "      <td>Y</td>\n",
       "      <td>0</td>\n",
       "      <td>225000.00</td>\n",
       "      <td>521280.00</td>\n",
       "      <td>23089.50</td>\n",
       "      <td>450000.00</td>\n",
       "      <td>Unaccompanied</td>\n",
       "      <td>Commercial associate</td>\n",
       "      <td>Secondary / secondary special</td>\n",
       "      <td>Civil marriage</td>\n",
       "      <td>House / apartment</td>\n",
       "      <td>0.01</td>\n",
       "      <td>45</td>\n",
       "      <td>-286</td>\n",
       "      <td>-8291.00</td>\n",
       "      <td>-9</td>\n",
       "      <td>0.00</td>\n",
       "      <td>1</td>\n",
       "      <td>1</td>\n",
       "      <td>0</td>\n",
       "      <td>1</td>\n",
       "      <td>0</td>\n",
       "      <td>0</td>\n",
       "      <td>Sales staff</td>\n",
       "      <td>2.00</td>\n",
       "      <td>2</td>\n",
       "      <td>2</td>\n",
       "      <td>FRIDAY</td>\n",
       "      <td>5</td>\n",
       "      <td>0</td>\n",
       "      <td>0</td>\n",
       "      <td>0</td>\n",
       "      <td>0</td>\n",
       "      <td>0</td>\n",
       "      <td>0</td>\n",
       "      <td>Business Entity Type 3</td>\n",
       "      <td>0.62</td>\n",
       "      <td>0.40</td>\n",
       "      <td>1.00</td>\n",
       "      <td>1.00</td>\n",
       "      <td>1.00</td>\n",
       "      <td>0.00</td>\n",
       "      <td>-307.00</td>\n",
       "      <td>0.00</td>\n",
       "      <td>0.00</td>\n",
       "      <td>0.00</td>\n",
       "      <td>0.00</td>\n",
       "      <td>1.00</td>\n",
       "      <td>2.00</td>\n",
       "      <td>Adult</td>\n",
       "      <td>UpperMiddle</td>\n",
       "      <td>0.50</td>\n",
       "      <td>NotEmployed</td>\n",
       "      <td>New</td>\n",
       "      <td>Old</td>\n",
       "      <td>1660116</td>\n",
       "      <td>Consumer loans</td>\n",
       "      <td>9115.56</td>\n",
       "      <td>81810.00</td>\n",
       "      <td>90450.00</td>\n",
       "      <td>81810.00</td>\n",
       "      <td>SATURDAY</td>\n",
       "      <td>10</td>\n",
       "      <td>Y</td>\n",
       "      <td>1</td>\n",
       "      <td>XAP</td>\n",
       "      <td>Approved</td>\n",
       "      <td>-307</td>\n",
       "      <td>XNA</td>\n",
       "      <td>XAP</td>\n",
       "      <td>New</td>\n",
       "      <td>Consumer Electronics</td>\n",
       "      <td>POS</td>\n",
       "      <td>XNA</td>\n",
       "      <td>Regional / Local</td>\n",
       "      <td>150</td>\n",
       "      <td>Consumer electronics</td>\n",
       "      <td>12.00</td>\n",
       "      <td>middle</td>\n",
       "      <td>POS household with interest</td>\n",
       "      <td>365243.00</td>\n",
       "      <td>-277.00</td>\n",
       "      <td>53.00</td>\n",
       "      <td>365243.00</td>\n",
       "      <td>365243.00</td>\n",
       "      <td>1.00</td>\n",
       "    </tr>\n",
       "    <tr>\n",
       "      <th>174757</th>\n",
       "      <td>456233</td>\n",
       "      <td>1</td>\n",
       "      <td>Cash loans</td>\n",
       "      <td>F</td>\n",
       "      <td>N</td>\n",
       "      <td>Y</td>\n",
       "      <td>0</td>\n",
       "      <td>225000.00</td>\n",
       "      <td>521280.00</td>\n",
       "      <td>23089.50</td>\n",
       "      <td>450000.00</td>\n",
       "      <td>Unaccompanied</td>\n",
       "      <td>Commercial associate</td>\n",
       "      <td>Secondary / secondary special</td>\n",
       "      <td>Civil marriage</td>\n",
       "      <td>House / apartment</td>\n",
       "      <td>0.01</td>\n",
       "      <td>45</td>\n",
       "      <td>-286</td>\n",
       "      <td>-8291.00</td>\n",
       "      <td>-9</td>\n",
       "      <td>0.00</td>\n",
       "      <td>1</td>\n",
       "      <td>1</td>\n",
       "      <td>0</td>\n",
       "      <td>1</td>\n",
       "      <td>0</td>\n",
       "      <td>0</td>\n",
       "      <td>Sales staff</td>\n",
       "      <td>2.00</td>\n",
       "      <td>2</td>\n",
       "      <td>2</td>\n",
       "      <td>FRIDAY</td>\n",
       "      <td>5</td>\n",
       "      <td>0</td>\n",
       "      <td>0</td>\n",
       "      <td>0</td>\n",
       "      <td>0</td>\n",
       "      <td>0</td>\n",
       "      <td>0</td>\n",
       "      <td>Business Entity Type 3</td>\n",
       "      <td>0.62</td>\n",
       "      <td>0.40</td>\n",
       "      <td>1.00</td>\n",
       "      <td>1.00</td>\n",
       "      <td>1.00</td>\n",
       "      <td>0.00</td>\n",
       "      <td>-307.00</td>\n",
       "      <td>0.00</td>\n",
       "      <td>0.00</td>\n",
       "      <td>0.00</td>\n",
       "      <td>0.00</td>\n",
       "      <td>1.00</td>\n",
       "      <td>2.00</td>\n",
       "      <td>Adult</td>\n",
       "      <td>UpperMiddle</td>\n",
       "      <td>0.50</td>\n",
       "      <td>NotEmployed</td>\n",
       "      <td>New</td>\n",
       "      <td>Old</td>\n",
       "      <td>2458558</td>\n",
       "      <td>Revolving loans</td>\n",
       "      <td>2250.00</td>\n",
       "      <td>45000.00</td>\n",
       "      <td>45000.00</td>\n",
       "      <td>45000.00</td>\n",
       "      <td>SATURDAY</td>\n",
       "      <td>10</td>\n",
       "      <td>Y</td>\n",
       "      <td>1</td>\n",
       "      <td>XAP</td>\n",
       "      <td>Approved</td>\n",
       "      <td>-307</td>\n",
       "      <td>XNA</td>\n",
       "      <td>XAP</td>\n",
       "      <td>New</td>\n",
       "      <td>XNA</td>\n",
       "      <td>Cards</td>\n",
       "      <td>walk-in</td>\n",
       "      <td>Regional / Local</td>\n",
       "      <td>150</td>\n",
       "      <td>Consumer electronics</td>\n",
       "      <td>0.00</td>\n",
       "      <td>XNA</td>\n",
       "      <td>Card Street</td>\n",
       "      <td>-241.00</td>\n",
       "      <td>-204.00</td>\n",
       "      <td>365243.00</td>\n",
       "      <td>365243.00</td>\n",
       "      <td>365243.00</td>\n",
       "      <td>0.00</td>\n",
       "    </tr>\n",
       "    <tr>\n",
       "      <th>174758</th>\n",
       "      <td>456254</td>\n",
       "      <td>1</td>\n",
       "      <td>Cash loans</td>\n",
       "      <td>F</td>\n",
       "      <td>N</td>\n",
       "      <td>Y</td>\n",
       "      <td>0</td>\n",
       "      <td>171000.00</td>\n",
       "      <td>370107.00</td>\n",
       "      <td>20205.00</td>\n",
       "      <td>319500.00</td>\n",
       "      <td>Unaccompanied</td>\n",
       "      <td>Commercial associate</td>\n",
       "      <td>Secondary / secondary special</td>\n",
       "      <td>Married</td>\n",
       "      <td>House / apartment</td>\n",
       "      <td>0.01</td>\n",
       "      <td>33</td>\n",
       "      <td>-4786</td>\n",
       "      <td>-2562.00</td>\n",
       "      <td>-931</td>\n",
       "      <td>0.00</td>\n",
       "      <td>1</td>\n",
       "      <td>1</td>\n",
       "      <td>0</td>\n",
       "      <td>1</td>\n",
       "      <td>0</td>\n",
       "      <td>0</td>\n",
       "      <td>Laborers</td>\n",
       "      <td>2.00</td>\n",
       "      <td>2</td>\n",
       "      <td>2</td>\n",
       "      <td>WEDNESDAY</td>\n",
       "      <td>9</td>\n",
       "      <td>0</td>\n",
       "      <td>0</td>\n",
       "      <td>0</td>\n",
       "      <td>1</td>\n",
       "      <td>1</td>\n",
       "      <td>0</td>\n",
       "      <td>Business Entity Type 1</td>\n",
       "      <td>0.51</td>\n",
       "      <td>0.66</td>\n",
       "      <td>0.00</td>\n",
       "      <td>0.00</td>\n",
       "      <td>0.00</td>\n",
       "      <td>0.00</td>\n",
       "      <td>-322.00</td>\n",
       "      <td>0.00</td>\n",
       "      <td>0.00</td>\n",
       "      <td>0.00</td>\n",
       "      <td>0.00</td>\n",
       "      <td>0.00</td>\n",
       "      <td>0.00</td>\n",
       "      <td>Young</td>\n",
       "      <td>UpperMiddle</td>\n",
       "      <td>13.00</td>\n",
       "      <td>10-20</td>\n",
       "      <td>Recent</td>\n",
       "      <td>Medium</td>\n",
       "      <td>2016407</td>\n",
       "      <td>Consumer loans</td>\n",
       "      <td>19065.83</td>\n",
       "      <td>223789.50</td>\n",
       "      <td>247423.50</td>\n",
       "      <td>223789.50</td>\n",
       "      <td>SATURDAY</td>\n",
       "      <td>18</td>\n",
       "      <td>Y</td>\n",
       "      <td>1</td>\n",
       "      <td>XAP</td>\n",
       "      <td>Approved</td>\n",
       "      <td>-277</td>\n",
       "      <td>Cash through the bank</td>\n",
       "      <td>XAP</td>\n",
       "      <td>Repeater</td>\n",
       "      <td>Computers</td>\n",
       "      <td>POS</td>\n",
       "      <td>XNA</td>\n",
       "      <td>Country-wide</td>\n",
       "      <td>3093</td>\n",
       "      <td>Consumer electronics</td>\n",
       "      <td>16.00</td>\n",
       "      <td>low_normal</td>\n",
       "      <td>POS household with interest</td>\n",
       "      <td>365243.00</td>\n",
       "      <td>-247.00</td>\n",
       "      <td>203.00</td>\n",
       "      <td>365243.00</td>\n",
       "      <td>365243.00</td>\n",
       "      <td>1.00</td>\n",
       "    </tr>\n",
       "    <tr>\n",
       "      <th>174759</th>\n",
       "      <td>456254</td>\n",
       "      <td>1</td>\n",
       "      <td>Cash loans</td>\n",
       "      <td>F</td>\n",
       "      <td>N</td>\n",
       "      <td>Y</td>\n",
       "      <td>0</td>\n",
       "      <td>171000.00</td>\n",
       "      <td>370107.00</td>\n",
       "      <td>20205.00</td>\n",
       "      <td>319500.00</td>\n",
       "      <td>Unaccompanied</td>\n",
       "      <td>Commercial associate</td>\n",
       "      <td>Secondary / secondary special</td>\n",
       "      <td>Married</td>\n",
       "      <td>House / apartment</td>\n",
       "      <td>0.01</td>\n",
       "      <td>33</td>\n",
       "      <td>-4786</td>\n",
       "      <td>-2562.00</td>\n",
       "      <td>-931</td>\n",
       "      <td>0.00</td>\n",
       "      <td>1</td>\n",
       "      <td>1</td>\n",
       "      <td>0</td>\n",
       "      <td>1</td>\n",
       "      <td>0</td>\n",
       "      <td>0</td>\n",
       "      <td>Laborers</td>\n",
       "      <td>2.00</td>\n",
       "      <td>2</td>\n",
       "      <td>2</td>\n",
       "      <td>WEDNESDAY</td>\n",
       "      <td>9</td>\n",
       "      <td>0</td>\n",
       "      <td>0</td>\n",
       "      <td>0</td>\n",
       "      <td>1</td>\n",
       "      <td>1</td>\n",
       "      <td>0</td>\n",
       "      <td>Business Entity Type 1</td>\n",
       "      <td>0.51</td>\n",
       "      <td>0.66</td>\n",
       "      <td>0.00</td>\n",
       "      <td>0.00</td>\n",
       "      <td>0.00</td>\n",
       "      <td>0.00</td>\n",
       "      <td>-322.00</td>\n",
       "      <td>0.00</td>\n",
       "      <td>0.00</td>\n",
       "      <td>0.00</td>\n",
       "      <td>0.00</td>\n",
       "      <td>0.00</td>\n",
       "      <td>0.00</td>\n",
       "      <td>Young</td>\n",
       "      <td>UpperMiddle</td>\n",
       "      <td>13.00</td>\n",
       "      <td>10-20</td>\n",
       "      <td>Recent</td>\n",
       "      <td>Medium</td>\n",
       "      <td>1792910</td>\n",
       "      <td>Consumer loans</td>\n",
       "      <td>2296.44</td>\n",
       "      <td>18846.00</td>\n",
       "      <td>21456.00</td>\n",
       "      <td>18846.00</td>\n",
       "      <td>WEDNESDAY</td>\n",
       "      <td>12</td>\n",
       "      <td>Y</td>\n",
       "      <td>1</td>\n",
       "      <td>XAP</td>\n",
       "      <td>Approved</td>\n",
       "      <td>-322</td>\n",
       "      <td>Cash through the bank</td>\n",
       "      <td>XAP</td>\n",
       "      <td>New</td>\n",
       "      <td>Mobile</td>\n",
       "      <td>POS</td>\n",
       "      <td>XNA</td>\n",
       "      <td>Country-wide</td>\n",
       "      <td>63</td>\n",
       "      <td>Connectivity</td>\n",
       "      <td>14.00</td>\n",
       "      <td>high</td>\n",
       "      <td>POS mobile with interest</td>\n",
       "      <td>365243.00</td>\n",
       "      <td>-291.00</td>\n",
       "      <td>99.00</td>\n",
       "      <td>365243.00</td>\n",
       "      <td>365243.00</td>\n",
       "      <td>0.00</td>\n",
       "    </tr>\n",
       "  </tbody>\n",
       "</table>\n",
       "<p>174760 rows × 91 columns</p>\n",
       "</div>"
      ],
      "text/plain": [
       "        SK_ID_CURR  TARGET NAME_CONTRACT_TYPE_x CODE_GENDER FLAG_OWN_CAR  \\\n",
       "0           346782       0           Cash loans           F            Y   \n",
       "1           346782       0           Cash loans           F            Y   \n",
       "2           346782       0           Cash loans           F            Y   \n",
       "3           346782       0           Cash loans           F            Y   \n",
       "4           346782       0           Cash loans           F            Y   \n",
       "...            ...     ...                  ...         ...          ...   \n",
       "174755      456225       1           Cash loans           M            N   \n",
       "174756      456233       1           Cash loans           F            N   \n",
       "174757      456233       1           Cash loans           F            N   \n",
       "174758      456254       1           Cash loans           F            N   \n",
       "174759      456254       1           Cash loans           F            N   \n",
       "\n",
       "       FLAG_OWN_REALTY  CNT_CHILDREN  AMT_INCOME_TOTAL  AMT_CREDIT_x  \\\n",
       "0                    N             0         121500.00      83538.00   \n",
       "1                    N             0         121500.00      83538.00   \n",
       "2                    N             0         121500.00      83538.00   \n",
       "3                    N             0         121500.00      83538.00   \n",
       "4                    N             0         121500.00      83538.00   \n",
       "...                ...           ...               ...           ...   \n",
       "174755               Y             0         225000.00     297000.00   \n",
       "174756               Y             0         225000.00     521280.00   \n",
       "174757               Y             0         225000.00     521280.00   \n",
       "174758               Y             0         171000.00     370107.00   \n",
       "174759               Y             0         171000.00     370107.00   \n",
       "\n",
       "        AMT_ANNUITY_x  AMT_GOODS_PRICE_x NAME_TYPE_SUITE  \\\n",
       "0             6826.50           67500.00   Unaccompanied   \n",
       "1             6826.50           67500.00   Unaccompanied   \n",
       "2             6826.50           67500.00   Unaccompanied   \n",
       "3             6826.50           67500.00   Unaccompanied   \n",
       "4             6826.50           67500.00   Unaccompanied   \n",
       "...               ...                ...             ...   \n",
       "174755       19975.50          297000.00          Family   \n",
       "174756       23089.50          450000.00   Unaccompanied   \n",
       "174757       23089.50          450000.00   Unaccompanied   \n",
       "174758       20205.00          319500.00   Unaccompanied   \n",
       "174759       20205.00          319500.00   Unaccompanied   \n",
       "\n",
       "            NAME_INCOME_TYPE            NAME_EDUCATION_TYPE  \\\n",
       "0                    Working  Secondary / secondary special   \n",
       "1                    Working  Secondary / secondary special   \n",
       "2                    Working  Secondary / secondary special   \n",
       "3                    Working  Secondary / secondary special   \n",
       "4                    Working  Secondary / secondary special   \n",
       "...                      ...                            ...   \n",
       "174755               Working  Secondary / secondary special   \n",
       "174756  Commercial associate  Secondary / secondary special   \n",
       "174757  Commercial associate  Secondary / secondary special   \n",
       "174758  Commercial associate  Secondary / secondary special   \n",
       "174759  Commercial associate  Secondary / secondary special   \n",
       "\n",
       "          NAME_FAMILY_STATUS  NAME_HOUSING_TYPE  REGION_POPULATION_RELATIVE  \\\n",
       "0       Single / not married  House / apartment                        0.03   \n",
       "1       Single / not married  House / apartment                        0.03   \n",
       "2       Single / not married  House / apartment                        0.03   \n",
       "3       Single / not married  House / apartment                        0.03   \n",
       "4       Single / not married  House / apartment                        0.03   \n",
       "...                      ...                ...                         ...   \n",
       "174755               Married  House / apartment                        0.01   \n",
       "174756        Civil marriage  House / apartment                        0.01   \n",
       "174757        Civil marriage  House / apartment                        0.01   \n",
       "174758               Married  House / apartment                        0.01   \n",
       "174759               Married  House / apartment                        0.01   \n",
       "\n",
       "        AGE  DAYS_EMPLOYED  DAYS_REGISTRATION  DAYS_ID_PUBLISH  OWN_CAR_AGE  \\\n",
       "0        28          -1695           -3792.00            -1626         8.00   \n",
       "1        28          -1695           -3792.00            -1626         8.00   \n",
       "2        28          -1695           -3792.00            -1626         8.00   \n",
       "3        28          -1695           -3792.00            -1626         8.00   \n",
       "4        28          -1695           -3792.00            -1626         8.00   \n",
       "...     ...            ...                ...              ...          ...   \n",
       "174755   57          -3147           -8921.00            -3832         0.00   \n",
       "174756   45           -286           -8291.00               -9         0.00   \n",
       "174757   45           -286           -8291.00               -9         0.00   \n",
       "174758   33          -4786           -2562.00             -931         0.00   \n",
       "174759   33          -4786           -2562.00             -931         0.00   \n",
       "\n",
       "        FLAG_MOBIL  FLAG_EMP_PHONE  FLAG_WORK_PHONE  FLAG_CONT_MOBILE  \\\n",
       "0                1               1                0                 1   \n",
       "1                1               1                0                 1   \n",
       "2                1               1                0                 1   \n",
       "3                1               1                0                 1   \n",
       "4                1               1                0                 1   \n",
       "...            ...             ...              ...               ...   \n",
       "174755           1               1                0                 1   \n",
       "174756           1               1                0                 1   \n",
       "174757           1               1                0                 1   \n",
       "174758           1               1                0                 1   \n",
       "174759           1               1                0                 1   \n",
       "\n",
       "        FLAG_PHONE  FLAG_EMAIL OCCUPATION_TYPE  CNT_FAM_MEMBERS  \\\n",
       "0                0           1       Undefined             1.00   \n",
       "1                0           1       Undefined             1.00   \n",
       "2                0           1       Undefined             1.00   \n",
       "3                0           1       Undefined             1.00   \n",
       "4                0           1       Undefined             1.00   \n",
       "...            ...         ...             ...              ...   \n",
       "174755           1           0        Managers             2.00   \n",
       "174756           0           0     Sales staff             2.00   \n",
       "174757           0           0     Sales staff             2.00   \n",
       "174758           0           0        Laborers             2.00   \n",
       "174759           0           0        Laborers             2.00   \n",
       "\n",
       "        REGION_RATING_CLIENT  REGION_RATING_CLIENT_W_CITY  \\\n",
       "0                          2                            2   \n",
       "1                          2                            2   \n",
       "2                          2                            2   \n",
       "3                          2                            2   \n",
       "4                          2                            2   \n",
       "...                      ...                          ...   \n",
       "174755                     2                            2   \n",
       "174756                     2                            2   \n",
       "174757                     2                            2   \n",
       "174758                     2                            2   \n",
       "174759                     2                            2   \n",
       "\n",
       "       WEEKDAY_APPR_PROCESS_START_x  HOUR_APPR_PROCESS_START_x  \\\n",
       "0                            MONDAY                          8   \n",
       "1                            MONDAY                          8   \n",
       "2                            MONDAY                          8   \n",
       "3                            MONDAY                          8   \n",
       "4                            MONDAY                          8   \n",
       "...                             ...                        ...   \n",
       "174755                       FRIDAY                         15   \n",
       "174756                       FRIDAY                          5   \n",
       "174757                       FRIDAY                          5   \n",
       "174758                    WEDNESDAY                          9   \n",
       "174759                    WEDNESDAY                          9   \n",
       "\n",
       "        REG_REGION_NOT_LIVE_REGION  REG_REGION_NOT_WORK_REGION  \\\n",
       "0                                0                           0   \n",
       "1                                0                           0   \n",
       "2                                0                           0   \n",
       "3                                0                           0   \n",
       "4                                0                           0   \n",
       "...                            ...                         ...   \n",
       "174755                           0                           0   \n",
       "174756                           0                           0   \n",
       "174757                           0                           0   \n",
       "174758                           0                           0   \n",
       "174759                           0                           0   \n",
       "\n",
       "        LIVE_REGION_NOT_WORK_REGION  REG_CITY_NOT_LIVE_CITY  \\\n",
       "0                                 0                       0   \n",
       "1                                 0                       0   \n",
       "2                                 0                       0   \n",
       "3                                 0                       0   \n",
       "4                                 0                       0   \n",
       "...                             ...                     ...   \n",
       "174755                            0                       0   \n",
       "174756                            0                       0   \n",
       "174757                            0                       0   \n",
       "174758                            0                       1   \n",
       "174759                            0                       1   \n",
       "\n",
       "        REG_CITY_NOT_WORK_CITY  LIVE_CITY_NOT_WORK_CITY  \\\n",
       "0                            0                        0   \n",
       "1                            0                        0   \n",
       "2                            0                        0   \n",
       "3                            0                        0   \n",
       "4                            0                        0   \n",
       "...                        ...                      ...   \n",
       "174755                       0                        0   \n",
       "174756                       0                        0   \n",
       "174757                       0                        0   \n",
       "174758                       1                        0   \n",
       "174759                       1                        0   \n",
       "\n",
       "             ORGANIZATION_TYPE  EXT_SOURCE_2  EXT_SOURCE_3  \\\n",
       "0       Business Entity Type 2          0.52          0.50   \n",
       "1       Business Entity Type 2          0.52          0.50   \n",
       "2       Business Entity Type 2          0.52          0.50   \n",
       "3       Business Entity Type 2          0.52          0.50   \n",
       "4       Business Entity Type 2          0.52          0.50   \n",
       "...                        ...           ...           ...   \n",
       "174755  Business Entity Type 3          0.71          0.51   \n",
       "174756  Business Entity Type 3          0.62          0.40   \n",
       "174757  Business Entity Type 3          0.62          0.40   \n",
       "174758  Business Entity Type 1          0.51          0.66   \n",
       "174759  Business Entity Type 1          0.51          0.66   \n",
       "\n",
       "        OBS_30_CNT_SOCIAL_CIRCLE  DEF_30_CNT_SOCIAL_CIRCLE  \\\n",
       "0                           0.00                      0.00   \n",
       "1                           0.00                      0.00   \n",
       "2                           0.00                      0.00   \n",
       "3                           0.00                      0.00   \n",
       "4                           0.00                      0.00   \n",
       "...                          ...                       ...   \n",
       "174755                      0.00                      0.00   \n",
       "174756                      1.00                      1.00   \n",
       "174757                      1.00                      1.00   \n",
       "174758                      0.00                      0.00   \n",
       "174759                      0.00                      0.00   \n",
       "\n",
       "        OBS_60_CNT_SOCIAL_CIRCLE  DEF_60_CNT_SOCIAL_CIRCLE  \\\n",
       "0                           0.00                      0.00   \n",
       "1                           0.00                      0.00   \n",
       "2                           0.00                      0.00   \n",
       "3                           0.00                      0.00   \n",
       "4                           0.00                      0.00   \n",
       "...                          ...                       ...   \n",
       "174755                      0.00                      0.00   \n",
       "174756                      1.00                      0.00   \n",
       "174757                      1.00                      0.00   \n",
       "174758                      0.00                      0.00   \n",
       "174759                      0.00                      0.00   \n",
       "\n",
       "        DAYS_LAST_PHONE_CHANGE  AMT_REQ_CREDIT_BUREAU_HOUR  \\\n",
       "0                      -465.00                        0.00   \n",
       "1                      -465.00                        0.00   \n",
       "2                      -465.00                        0.00   \n",
       "3                      -465.00                        0.00   \n",
       "4                      -465.00                        0.00   \n",
       "...                        ...                         ...   \n",
       "174755                -2941.00                        0.00   \n",
       "174756                 -307.00                        0.00   \n",
       "174757                 -307.00                        0.00   \n",
       "174758                 -322.00                        0.00   \n",
       "174759                 -322.00                        0.00   \n",
       "\n",
       "        AMT_REQ_CREDIT_BUREAU_DAY  AMT_REQ_CREDIT_BUREAU_WEEK  \\\n",
       "0                            0.00                        0.00   \n",
       "1                            0.00                        0.00   \n",
       "2                            0.00                        0.00   \n",
       "3                            0.00                        0.00   \n",
       "4                            0.00                        0.00   \n",
       "...                           ...                         ...   \n",
       "174755                       0.00                        0.00   \n",
       "174756                       0.00                        0.00   \n",
       "174757                       0.00                        0.00   \n",
       "174758                       0.00                        0.00   \n",
       "174759                       0.00                        0.00   \n",
       "\n",
       "        AMT_REQ_CREDIT_BUREAU_MON  AMT_REQ_CREDIT_BUREAU_QRT  \\\n",
       "0                            1.00                       0.00   \n",
       "1                            1.00                       0.00   \n",
       "2                            1.00                       0.00   \n",
       "3                            1.00                       0.00   \n",
       "4                            1.00                       0.00   \n",
       "...                           ...                        ...   \n",
       "174755                       0.00                       0.00   \n",
       "174756                       0.00                       1.00   \n",
       "174757                       0.00                       1.00   \n",
       "174758                       0.00                       0.00   \n",
       "174759                       0.00                       0.00   \n",
       "\n",
       "        AMT_REQ_CREDIT_BUREAU_YEAR AGE_GROUP INCOME_BRACKET  YEARS_EMPLOYED  \\\n",
       "0                             5.00     Young    LowerMiddle            5.00   \n",
       "1                             5.00     Young    LowerMiddle            5.00   \n",
       "2                             5.00     Young    LowerMiddle            5.00   \n",
       "3                             5.00     Young    LowerMiddle            5.00   \n",
       "4                             5.00     Young    LowerMiddle            5.00   \n",
       "...                            ...       ...            ...             ...   \n",
       "174755                        3.00    Senior    UpperMiddle            9.00   \n",
       "174756                        2.00     Adult    UpperMiddle            0.50   \n",
       "174757                        2.00     Adult    UpperMiddle            0.50   \n",
       "174758                        0.00     Young    UpperMiddle           13.00   \n",
       "174759                        0.00     Young    UpperMiddle           13.00   \n",
       "\n",
       "       YEARS_EMPLOYED_CAT  ID_AGE REGISTRATION_AGE  SK_ID_PREV  \\\n",
       "0                     0-5  Recent           Medium     1466438   \n",
       "1                     0-5  Recent           Medium     2237358   \n",
       "2                     0-5  Recent           Medium     1660446   \n",
       "3                     0-5  Recent           Medium     1761469   \n",
       "4                     0-5  Recent           Medium     1678199   \n",
       "...                   ...     ...              ...         ...   \n",
       "174755               5-10  Medium              Old     2508396   \n",
       "174756        NotEmployed     New              Old     1660116   \n",
       "174757        NotEmployed     New              Old     2458558   \n",
       "174758              10-20  Recent           Medium     2016407   \n",
       "174759              10-20  Recent           Medium     1792910   \n",
       "\n",
       "       NAME_CONTRACT_TYPE_y  AMT_ANNUITY_y  AMT_APPLICATION  AMT_CREDIT_y  \\\n",
       "0            Consumer loans        6552.54         81156.96      64921.50   \n",
       "1                Cash loans       14139.36         67500.00      69727.50   \n",
       "2                Cash loans       10279.44         45000.00      50692.50   \n",
       "3                Cash loans       15419.61         67500.00      76041.00   \n",
       "4           Revolving loans        2250.00         45000.00      45000.00   \n",
       "...                     ...            ...              ...           ...   \n",
       "174755           Cash loans       17900.91        225000.00     254700.00   \n",
       "174756       Consumer loans        9115.56         81810.00      90450.00   \n",
       "174757      Revolving loans        2250.00         45000.00      45000.00   \n",
       "174758       Consumer loans       19065.83        223789.50     247423.50   \n",
       "174759       Consumer loans        2296.44         18846.00      21456.00   \n",
       "\n",
       "        AMT_GOODS_PRICE_y WEEKDAY_APPR_PROCESS_START_y  \\\n",
       "0                81156.96                    WEDNESDAY   \n",
       "1                67500.00                     THURSDAY   \n",
       "2                45000.00                      TUESDAY   \n",
       "3                67500.00                    WEDNESDAY   \n",
       "4                45000.00                       MONDAY   \n",
       "...                   ...                          ...   \n",
       "174755          225000.00                       MONDAY   \n",
       "174756           81810.00                     SATURDAY   \n",
       "174757           45000.00                     SATURDAY   \n",
       "174758          223789.50                     SATURDAY   \n",
       "174759           18846.00                    WEDNESDAY   \n",
       "\n",
       "        HOUR_APPR_PROCESS_START_y FLAG_LAST_APPL_PER_CONTRACT  \\\n",
       "0                              13                           Y   \n",
       "1                              11                           Y   \n",
       "2                               9                           Y   \n",
       "3                              14                           Y   \n",
       "4                              10                           Y   \n",
       "...                           ...                         ...   \n",
       "174755                         17                           Y   \n",
       "174756                         10                           Y   \n",
       "174757                         10                           Y   \n",
       "174758                         18                           Y   \n",
       "174759                         12                           Y   \n",
       "\n",
       "        NFLAG_LAST_APPL_IN_DAY NAME_CASH_LOAN_PURPOSE NAME_CONTRACT_STATUS  \\\n",
       "0                            1                    XAP             Approved   \n",
       "1                            1                  Other              Refused   \n",
       "2                            1      Everyday expenses             Approved   \n",
       "3                            1              Furniture             Approved   \n",
       "4                            1                    XAP             Approved   \n",
       "...                        ...                    ...                  ...   \n",
       "174755                       1                    XNA             Approved   \n",
       "174756                       1                    XAP             Approved   \n",
       "174757                       1                    XAP             Approved   \n",
       "174758                       1                    XAP             Approved   \n",
       "174759                       1                    XAP             Approved   \n",
       "\n",
       "        DAYS_DECISION      NAME_PAYMENT_TYPE CODE_REJECT_REASON  \\\n",
       "0                -376  Cash through the bank                XAP   \n",
       "1                -683                    XNA              LIMIT   \n",
       "2                -573  Cash through the bank                XAP   \n",
       "3                -754  Cash through the bank                XAP   \n",
       "4                -266                    XNA                XAP   \n",
       "...               ...                    ...                ...   \n",
       "174755           -942  Cash through the bank                XAP   \n",
       "174756           -307                    XNA                XAP   \n",
       "174757           -307                    XNA                XAP   \n",
       "174758           -277  Cash through the bank                XAP   \n",
       "174759           -322  Cash through the bank                XAP   \n",
       "\n",
       "       NAME_CLIENT_TYPE   NAME_GOODS_CATEGORY NAME_PORTFOLIO  \\\n",
       "0              Repeater                Mobile            POS   \n",
       "1              Repeater                   XNA           Cash   \n",
       "2              Repeater                   XNA           Cash   \n",
       "3                   New                   XNA           Cash   \n",
       "4              Repeater                   XNA          Cards   \n",
       "...                 ...                   ...            ...   \n",
       "174755         Repeater                   XNA           Cash   \n",
       "174756              New  Consumer Electronics            POS   \n",
       "174757              New                   XNA          Cards   \n",
       "174758         Repeater             Computers            POS   \n",
       "174759              New                Mobile            POS   \n",
       "\n",
       "       NAME_PRODUCT_TYPE             CHANNEL_TYPE  SELLERPLACE_AREA  \\\n",
       "0                    XNA             Country-wide                45   \n",
       "1                walk-in           Contact center                -1   \n",
       "2                walk-in  Credit and cash offices                -1   \n",
       "3                walk-in  Credit and cash offices                -1   \n",
       "4                walk-in  Credit and cash offices                -1   \n",
       "...                  ...                      ...               ...   \n",
       "174755            x-sell  Credit and cash offices                -1   \n",
       "174756               XNA         Regional / Local               150   \n",
       "174757           walk-in         Regional / Local               150   \n",
       "174758               XNA             Country-wide              3093   \n",
       "174759               XNA             Country-wide                63   \n",
       "\n",
       "        NAME_SELLER_INDUSTRY  CNT_PAYMENT NAME_YIELD_GROUP  \\\n",
       "0               Connectivity        12.00           middle   \n",
       "1                        XNA         6.00             high   \n",
       "2                        XNA         6.00             high   \n",
       "3                        XNA         6.00             high   \n",
       "4                        XNA         0.00              XNA   \n",
       "...                      ...          ...              ...   \n",
       "174755                   XNA        24.00             high   \n",
       "174756  Consumer electronics        12.00           middle   \n",
       "174757  Consumer electronics         0.00              XNA   \n",
       "174758  Consumer electronics        16.00       low_normal   \n",
       "174759          Connectivity        14.00             high   \n",
       "\n",
       "                PRODUCT_COMBINATION  DAYS_FIRST_DRAWING  DAYS_FIRST_DUE  \\\n",
       "0          POS mobile with interest           365243.00         -340.00   \n",
       "1                 Cash Street: high                 nan             nan   \n",
       "2                 Cash Street: high           365243.00         -543.00   \n",
       "3                 Cash Street: high           365243.00         -724.00   \n",
       "4                       Card Street             -264.00         -222.00   \n",
       "...                             ...                 ...             ...   \n",
       "174755            Cash X-Sell: high           365243.00         -912.00   \n",
       "174756  POS household with interest           365243.00         -277.00   \n",
       "174757                  Card Street             -241.00         -204.00   \n",
       "174758  POS household with interest           365243.00         -247.00   \n",
       "174759     POS mobile with interest           365243.00         -291.00   \n",
       "\n",
       "        DAYS_LAST_DUE_1ST_VERSION  DAYS_LAST_DUE  DAYS_TERMINATION  \\\n",
       "0                          -10.00         -10.00             -8.00   \n",
       "1                             nan            nan               nan   \n",
       "2                         -393.00        -393.00           -386.00   \n",
       "3                         -574.00        -574.00           -568.00   \n",
       "4                       365243.00      365243.00         365243.00   \n",
       "...                           ...            ...               ...   \n",
       "174755                    -222.00        -342.00           -334.00   \n",
       "174756                      53.00      365243.00         365243.00   \n",
       "174757                  365243.00      365243.00         365243.00   \n",
       "174758                     203.00      365243.00         365243.00   \n",
       "174759                      99.00      365243.00         365243.00   \n",
       "\n",
       "        NFLAG_INSURED_ON_APPROVAL  \n",
       "0                            0.00  \n",
       "1                             nan  \n",
       "2                            1.00  \n",
       "3                            1.00  \n",
       "4                            0.00  \n",
       "...                           ...  \n",
       "174755                       1.00  \n",
       "174756                       1.00  \n",
       "174757                       0.00  \n",
       "174758                       1.00  \n",
       "174759                       0.00  \n",
       "\n",
       "[174760 rows x 91 columns]"
      ]
     },
     "execution_count": 132,
     "metadata": {},
     "output_type": "execute_result"
    }
   ],
   "source": [
    "complete_dataset"
   ]
  },
  {
   "cell_type": "markdown",
   "metadata": {},
   "source": [
    "# DATA ANALYSIS :\n",
    "\n",
    "Following steps we'll be taking for the data analysis\n",
    "\n",
    "* Check data imbalance and find imbalance percentage\n",
    "* Categorize data with `TARGET` values {0,1}\n",
    "* Univariate Analysis \n",
    "* Correlation between columns\n",
    "* BiVariate Analysis\n",
    "* MultiVariate Analysis\n",
    "\n",
    "* Join perv to current data\n",
    "* Based on the results from prev analysis, try to infer and create hypothesis"
   ]
  },
  {
   "cell_type": "markdown",
   "metadata": {},
   "source": [
    "Most of our univariate analysis has been performed during the Feature engineering process, this time we'll perform same steps but with TARGET column in picture"
   ]
  },
  {
   "cell_type": "code",
   "execution_count": null,
   "metadata": {},
   "outputs": [],
   "source": [
    "application_sampled.head()"
   ]
  },
  {
   "cell_type": "code",
   "execution_count": null,
   "metadata": {},
   "outputs": [],
   "source": [
    "sampled_target1 = application_sampled[application_sampled['TARGET']==1]\n",
    "sampled_target0 = application_sampled[application_sampled['TARGET']==0]"
   ]
  },
  {
   "cell_type": "code",
   "execution_count": null,
   "metadata": {},
   "outputs": [],
   "source": [
    "import seaborn as sns\n",
    "sns.set()\n",
    "df.set_index('App').T.plot(kind='bar', stacked=True)"
   ]
  },
  {
   "cell_type": "code",
   "execution_count": null,
   "metadata": {},
   "outputs": [],
   "source": [
    "fig,ax = plt.subplots(ncols=2,sharey=True)\n",
    "fig.set_size_inches(8, 4, forward=True)\n",
    "ax[0].set_title('Non Defaults')\n",
    "ax[1].set_title('Defaults')\n",
    "sns.scatterplot(data=sampled_target0,ax=ax[0],x='AMT_ANNUITY',y='AMT_CREDIT')\n",
    "sns.scatterplot(data=sampled_target1,ax=ax[1],x='AMT_ANNUITY',y='AMT_CREDIT')\n",
    "plt.show()"
   ]
  },
  {
   "cell_type": "markdown",
   "metadata": {},
   "source": [
    "From the above graph we observe theres a high correlation between `AMT_ANNUITY` and `AMT_CREDIT`"
   ]
  },
  {
   "cell_type": "code",
   "execution_count": null,
   "metadata": {
    "scrolled": true
   },
   "outputs": [],
   "source": [
    "fig,ax = plt.subplots(ncols=2,sharey=True)\n",
    "fig.set_size_inches(8, 4, forward=True)\n",
    "ax[0].set_title('Non Defaults')\n",
    "ax[1].set_title('Defaults')\n",
    "sns.distplot(sampled_target0['AGE'],ax=ax[0])\n",
    "sns.distplot(sampled_target1['AGE'],ax=ax[1])\n",
    "plt.show()"
   ]
  },
  {
   "cell_type": "code",
   "execution_count": null,
   "metadata": {},
   "outputs": [],
   "source": [
    "fig,ax = plt.subplots(ncols=2,sharey=True)\n",
    "fig.set_size_inches(8, 4, forward=True)\n",
    "ax[0].set_title('Non Defaults')\n",
    "ax[1].set_title('Defaults')\n",
    "sns.countplot(sampled_target0['AGE_GROUP'],ax=ax[0])\n",
    "sns.countplot(sampled_target1['AGE_GROUP'],ax=ax[1])\n",
    "plt.show()"
   ]
  },
  {
   "cell_type": "markdown",
   "metadata": {},
   "source": [
    "From the above graph we see that those who have problems with the loan payments are generally more concentraded towards a younger age group, we can say around 20-40 and as the age increases the number of defaults starts to drop."
   ]
  },
  {
   "cell_type": "code",
   "execution_count": null,
   "metadata": {},
   "outputs": [],
   "source": [
    "fig,ax = plt.subplots(ncols=2,sharey=True)\n",
    "fig.set_size_inches(8, 4, forward=True)\n",
    "ax[0].set_title('Non Defaults')\n",
    "ax[1].set_title('Defaults')\n",
    "ax[0].tick_params(labelrotation=45)\n",
    "ax[1].tick_params(labelrotation=45)\n",
    "sns.countplot(sampled_target0['INCOME_BRACKET'],ax=ax[0])\n",
    "sns.countplot(sampled_target1['INCOME_BRACKET'],ax=ax[1])\n",
    "plt.show()"
   ]
  },
  {
   "cell_type": "code",
   "execution_count": null,
   "metadata": {},
   "outputs": [],
   "source": [
    "fig,ax = plt.subplots(ncols=2,sharey=True)\n",
    "fig.set_size_inches(16, 8, forward=True)\n",
    "ax[0].set_title('Non Defaults')\n",
    "ax[1].set_title('Defaults')\n",
    "ax[0].tick_params(labelrotation=45)\n",
    "ax[1].tick_params(labelrotation=45)\n",
    "sns.barplot(data=sampled_target0,x='INCOME_BRACKET',y='AMT_CREDIT',ax=ax[0])\n",
    "sns.barplot(data=sampled_target1,x='INCOME_BRACKET',y='AMT_CREDIT',ax=ax[1])\n",
    "plt.show()"
   ]
  },
  {
   "cell_type": "markdown",
   "metadata": {},
   "source": [
    "Looking at the legends and the data from the above plot we can see that as the income increase the `AMT_CREDIT` also increases"
   ]
  },
  {
   "cell_type": "code",
   "execution_count": null,
   "metadata": {},
   "outputs": [],
   "source": []
  },
  {
   "cell_type": "code",
   "execution_count": null,
   "metadata": {},
   "outputs": [],
   "source": []
  },
  {
   "cell_type": "code",
   "execution_count": null,
   "metadata": {},
   "outputs": [],
   "source": [
    "sns.heatmap(sampled_target0.groupby('INCOME_BRACKET').mean())"
   ]
  },
  {
   "cell_type": "code",
   "execution_count": null,
   "metadata": {},
   "outputs": [],
   "source": [
    "sns.pairplot(sampled_target0[['AGE','CNT_CHILDREN','AMT_INCOME_TOTAL','AMT_ANNUITY','YEARS_EMPLOYED','REGION_POPULATION_RELATIVE']])\n",
    "plt.show()"
   ]
  },
  {
   "cell_type": "code",
   "execution_count": null,
   "metadata": {},
   "outputs": [],
   "source": [
    "sampled_Target0.head()"
   ]
  },
  {
   "cell_type": "code",
   "execution_count": null,
   "metadata": {},
   "outputs": [],
   "source": [
    "sns.heatmap(application_sampled.corr(),cmap=\"Spectral\")"
   ]
  },
  {
   "cell_type": "code",
   "execution_count": null,
   "metadata": {},
   "outputs": [],
   "source": [
    "sns.heatmap(application_sampled[['AGE','AMT_INCOME_TOTAL','YEARS_EMPLOYED','TARGET','EXT_SOURCE_3','REGION_RATING_CLIENT_W_CITY']].corr(),cmap=\"Spectral\")"
   ]
  },
  {
   "cell_type": "code",
   "execution_count": null,
   "metadata": {},
   "outputs": [],
   "source": [
    "fig,ax = plt.subplots(ncols=2,sharey=True)\n",
    "fig.set_size_inches(8, 4, forward=True)\n",
    "ax[0].set_title('Non Defaults')\n",
    "ax[1].set_title('Defaults')\n",
    "sns.countplot(data=sampled_target0,x='AMT_ANNUITY',y='AMT_INCOME_TOTAL',ax=ax[0])\n",
    "sns.countplot(data=sampled_target1,x='AMT_ANNUITY',y='AMT_INCOME_TOTAL',ax=ax[1])"
   ]
  },
  {
   "cell_type": "code",
   "execution_count": null,
   "metadata": {},
   "outputs": [],
   "source": [
    "fig,ax = plt.subplots(ncols=2,sharey=True)\n",
    "fig.set_size_inches(8, 4, forward=True)\n",
    "ax[0].set_title('Non Defaults')\n",
    "ax[1].set_title('Defaults')"
   ]
  },
  {
   "cell_type": "code",
   "execution_count": null,
   "metadata": {},
   "outputs": [],
   "source": [
    "fig,ax = plt.subplots(ncols=2,sharey=True)\n",
    "fig.set_size_inches(8, 4, forward=True)\n",
    "ax[0].set_title('Non Defaults')\n",
    "ax[1].set_title('Defaults')"
   ]
  },
  {
   "cell_type": "code",
   "execution_count": null,
   "metadata": {},
   "outputs": [],
   "source": [
    "fig,ax = plt.subplots(ncols=2,sharey=True)\n",
    "fig.set_size_inches(8, 4, forward=True)\n",
    "ax[0].set_title('Non Defaults')\n",
    "ax[1].set_title('Defaults')"
   ]
  },
  {
   "cell_type": "code",
   "execution_count": null,
   "metadata": {},
   "outputs": [],
   "source": [
    "fig,ax = plt.subplots(ncols=2,sharey=True)\n",
    "fig.set_size_inches(8, 4, forward=True)\n",
    "ax[0].set_title('Non Defaults')\n",
    "ax[1].set_title('Defaults')"
   ]
  },
  {
   "cell_type": "code",
   "execution_count": null,
   "metadata": {},
   "outputs": [],
   "source": [
    "fig,ax = plt.subplots(ncols=2,sharey=True)\n",
    "fig.set_size_inches(8, 4, forward=True)\n",
    "ax[0].set_title('Non Defaults')\n",
    "ax[1].set_title('Defaults')"
   ]
  },
  {
   "cell_type": "markdown",
   "metadata": {},
   "source": [
    "#  PRESENTATION AND RECOMMENDATIONS :\n",
    "\n",
    "* Purpose\n",
    "* Steps Involved\n",
    "* Data Analysis performed\n",
    "* Graphs from Univariate, BiVariate and Multivariate analysis\n",
    "* Recommendations derived based from the analysis based on case study : Parameters that affect the loan defaulting."
   ]
  },
  {
   "cell_type": "code",
   "execution_count": null,
   "metadata": {},
   "outputs": [],
   "source": []
  },
  {
   "cell_type": "code",
   "execution_count": null,
   "metadata": {},
   "outputs": [],
   "source": []
  },
  {
   "cell_type": "code",
   "execution_count": null,
   "metadata": {},
   "outputs": [],
   "source": []
  }
 ],
 "metadata": {
  "kernelspec": {
   "display_name": "Python 3",
   "language": "python",
   "name": "python3"
  },
  "language_info": {
   "codemirror_mode": {
    "name": "ipython",
    "version": 3
   },
   "file_extension": ".py",
   "mimetype": "text/x-python",
   "name": "python",
   "nbconvert_exporter": "python",
   "pygments_lexer": "ipython3",
   "version": "3.8.3"
  }
 },
 "nbformat": 4,
 "nbformat_minor": 4
}
